{
 "cells": [
  {
   "cell_type": "markdown",
   "id": "9f4ca67a",
   "metadata": {},
   "source": [
    "# Summary\n",
    "\n",
    "&emsp; This notebook contains code that compares performance of different strategies for cross-subject callibration robustness. The code blocks below load in results data for a small group of held-out test subjects and compares across robustness strategies. Overall, I find that the best strategy for cross-subject robustness is to find a linear transformation of each subject's data before feeding into a simple neural network that has been trained on other subjects' data.\n",
    "\n",
    "The following notebooks in this repo contain useful data and pre-processing details:\n",
    "- demo_notebooks/data_exploration_and_quality_check_demo.ipynb\n",
    "- demo_notebooks/single_subject_demo.ipynb\n",
    "\n",
    "The following colab_notebooks\n",
    "contain the code used to assess model performance and write the results to hdf5 files.\n",
    "- colab_notebooks/simple_NN/within_subject_NN.ipynb\n",
    "- colab_notebooks/simple_NN/across_subject_NN.ipynb\n",
    "- colab_notebooks/simple_NN/across_subject_NN_joint_training.ipynb\n",
    "- colab_notebooks/simple_NN/across_subject_NN_transform_module.ipynb\n"
   ]
  },
  {
   "cell_type": "code",
   "execution_count": 3,
   "id": "0c8705e3",
   "metadata": {},
   "outputs": [],
   "source": [
    "#import necessary packages\n",
    "\n",
    "#our workhorses\n",
    "import numpy as np\n",
    "import pandas as pd\n",
    "import scipy\n",
    "\n",
    "#to visualize\n",
    "%matplotlib inline\n",
    "import seaborn as sns\n",
    "import matplotlib.pyplot as plt\n",
    "import matplotlib.patches as patches\n",
    "#style params for figures\n",
    "sns.set(font_scale = 2)\n",
    "plt.style.use('seaborn-white')\n",
    "plt.rc(\"axes\", labelweight=\"bold\")\n",
    "from IPython.display import display, HTML\n",
    "\n",
    "#to load files\n",
    "import os\n",
    "import h5py\n",
    "\n",
    "#for stats\n",
    "import statsmodels.api as sm\n",
    "from statsmodels.formula.api import ols\n",
    "import statsmodels.stats.multitest as multitest\n",
    "import statsmodels.stats.multicomp\n",
    "\n",
    "#load custon functions\n",
    "from EMG_gestures.utils import *"
   ]
  },
  {
   "cell_type": "markdown",
   "id": "c3fa3a69",
   "metadata": {},
   "source": [
    "# Loading Results\n",
    "## Test subjects\n",
    "&emsp; The various strategies for cross-subject callibration robustness explored here required the setting of various hyperparameters such as netwrok architercture or unit activation functions. In order to be able to obtain an unbiased estimate of classification performance, data from a group of 6 randomly-chosen subjects was held-out and not used in the cross-validation process used to set those hyper-parameters. Only results from those held-out subjects is reported and visualized here."
   ]
  },
  {
   "cell_type": "code",
   "execution_count": 1,
   "id": "e02e47ff",
   "metadata": {},
   "outputs": [],
   "source": [
    "#randomly-selected subjects to use as hold-out test data \n",
    "test_subjects = [10, 12, 20, 14, 23, 34]"
   ]
  },
  {
   "cell_type": "markdown",
   "id": "147c340d",
   "metadata": {},
   "source": [
    "## Within-subject baseline\n",
    "\n",
    "&emsp; I first load in baseline data. This baseline results reflect gesture classification performance when using training and testing data from the same subject."
   ]
  },
  {
   "cell_type": "code",
   "execution_count": 4,
   "id": "dc89fffc",
   "metadata": {},
   "outputs": [
    {
     "data": {
      "text/html": [
       "<table border=\"1\" class=\"dataframe\">\n",
       "  <thead>\n",
       "    <tr style=\"text-align: right;\">\n",
       "      <th></th>\n",
       "      <th></th>\n",
       "      <th>Epochs_Trained</th>\n",
       "      <th>f1_score</th>\n",
       "      <th>accuracy_score</th>\n",
       "    </tr>\n",
       "    <tr>\n",
       "      <th>Shuffled</th>\n",
       "      <th>Type</th>\n",
       "      <th></th>\n",
       "      <th></th>\n",
       "      <th></th>\n",
       "    </tr>\n",
       "  </thead>\n",
       "  <tbody>\n",
       "    <tr>\n",
       "      <th rowspan=\"2\" valign=\"top\">False</th>\n",
       "      <th>Test</th>\n",
       "      <td>46.741667</td>\n",
       "      <td>0.924333</td>\n",
       "      <td>0.931198</td>\n",
       "    </tr>\n",
       "    <tr>\n",
       "      <th>Train</th>\n",
       "      <td>46.741667</td>\n",
       "      <td>0.994673</td>\n",
       "      <td>0.994682</td>\n",
       "    </tr>\n",
       "    <tr>\n",
       "      <th rowspan=\"2\" valign=\"top\">True</th>\n",
       "      <th>Test</th>\n",
       "      <td>7.025000</td>\n",
       "      <td>0.143933</td>\n",
       "      <td>0.157523</td>\n",
       "    </tr>\n",
       "    <tr>\n",
       "      <th>Train</th>\n",
       "      <td>7.025000</td>\n",
       "      <td>0.567200</td>\n",
       "      <td>0.596870</td>\n",
       "    </tr>\n",
       "  </tbody>\n",
       "</table>"
      ],
      "text/plain": [
       "<IPython.core.display.HTML object>"
      ]
     },
     "metadata": {},
     "output_type": "display_data"
    }
   ],
   "source": [
    "# Load within-subject data for held-out subjects\n",
    "\n",
    "within_results_df = [] \n",
    "\n",
    "results_folder = '../results_data/single_subject_training/simple_NN'\n",
    "for src_subject_id in test_subjects:\n",
    "    results_fn = 'subject_%02d_within_subject_results.h5'%(src_subject_id)\n",
    "    subject_df = pd.read_hdf(os.path.join(results_folder,results_fn), 'results_df')\n",
    "    subject_df['Train_Subject'] = subject_df['Subject']\n",
    "    subject_df['Test_Subject'] = subject_df['Subject']\n",
    "    subject_df = subject_df.drop(columns = ['Subject'])\n",
    "    within_results_df.append(subject_df)\n",
    "\n",
    "within_results_df = pd.concat(within_results_df,axis = 0)\n",
    "\n",
    "# Average over multiple train/test splits of the data\n",
    "within_results_df = within_results_df.groupby(['Shuffled','Type','Train_Subject','Test_Subject'],as_index = False)\\\n",
    ".mean()\\\n",
    ".drop(columns = ['Fold','Rep','Epochs','Batch_Size','Train_Loss','Val_Loss'])\n",
    "\n",
    "# Output summary\n",
    "display(HTML(within_results_df.groupby(['Shuffled','Type']).mean().drop(columns = ['Train_Subject','Test_Subject']).to_html()))"
   ]
  },
  {
   "cell_type": "markdown",
   "id": "bc4d5b17",
   "metadata": {},
   "source": [
    "## Naive cross-subject baseline\n",
    "&emsp; Another useful baseline is classification performance when a model trained for one subject is tested on another subject without any further modifications (i.e., naive test). "
   ]
  },
  {
   "cell_type": "code",
   "execution_count": 6,
   "id": "c26837dd",
   "metadata": {},
   "outputs": [
    {
     "data": {
      "text/html": [
       "<table border=\"1\" class=\"dataframe\">\n",
       "  <thead>\n",
       "    <tr style=\"text-align: right;\">\n",
       "      <th></th>\n",
       "      <th></th>\n",
       "      <th>Epochs_Trained</th>\n",
       "      <th>f1_score</th>\n",
       "      <th>accuracy_score</th>\n",
       "    </tr>\n",
       "    <tr>\n",
       "      <th>Shuffled</th>\n",
       "      <th>Type</th>\n",
       "      <th></th>\n",
       "      <th></th>\n",
       "      <th></th>\n",
       "    </tr>\n",
       "  </thead>\n",
       "  <tbody>\n",
       "    <tr>\n",
       "      <th rowspan=\"2\" valign=\"top\">False</th>\n",
       "      <th>Test</th>\n",
       "      <td>45.033333</td>\n",
       "      <td>0.645373</td>\n",
       "      <td>0.675382</td>\n",
       "    </tr>\n",
       "    <tr>\n",
       "      <th>Train</th>\n",
       "      <td>45.033333</td>\n",
       "      <td>0.986024</td>\n",
       "      <td>0.986071</td>\n",
       "    </tr>\n",
       "    <tr>\n",
       "      <th rowspan=\"2\" valign=\"top\">True</th>\n",
       "      <th>Test</th>\n",
       "      <td>6.766667</td>\n",
       "      <td>0.155833</td>\n",
       "      <td>0.181460</td>\n",
       "    </tr>\n",
       "    <tr>\n",
       "      <th>Train</th>\n",
       "      <td>6.766667</td>\n",
       "      <td>0.385628</td>\n",
       "      <td>0.411732</td>\n",
       "    </tr>\n",
       "  </tbody>\n",
       "</table>"
      ],
      "text/plain": [
       "<IPython.core.display.HTML object>"
      ]
     },
     "metadata": {},
     "output_type": "display_data"
    }
   ],
   "source": [
    "# Load naive generalization test data for held-out subjects\n",
    "results_folder = '../results_data/single_subject_training/simple_NN'\n",
    "naive_results_df = [] \n",
    "for src_subject_id in test_subjects:\n",
    "    results_fn = 'subject_%02d_across_subject_results.h5'%(src_subject_id)\n",
    "    subject_df = pd.read_hdf(os.path.join(results_folder,results_fn), 'results_df')\n",
    "    #select data relevant for \n",
    "    subject_df = subject_df.loc[subject_df.Test_Subject.isin(test_subjects)]\n",
    "    naive_results_df.append(subject_df)\n",
    "\n",
    "naive_results_df = pd.concat(naive_results_df,axis = 0)\n",
    "\n",
    "# Average over train subjects\n",
    "naive_results_df = naive_results_df.groupby(['Shuffled','Type','Test_Subject'],as_index = False)\\\n",
    ".mean()\\\n",
    ".drop(columns = ['Train_Subject','Rep','Epochs','Batch_Size','Train_Loss','Val_Loss'])\n",
    "\n",
    "# Output summary\n",
    "display(HTML(naive_results_df.groupby(['Shuffled','Type']).mean().drop(columns = ['Test_Subject']).to_html()))\n"
   ]
  },
  {
   "cell_type": "markdown",
   "id": "122c5d3e",
   "metadata": {},
   "source": [
    "## Cross-subject robustness strategies\n",
    "\n",
    "&emsp; Below I load-in performance results for held-out test subjects using two-different strategies for cross-subject robustness.\n",
    "\n",
    "### Joint training\n",
    "\n",
    "&emsp; One strategy to produce cross-subject robustness in the neural networks' weights is to pool data across all subjects not included in the held-out set and train the network with this joint data set. This is similar to the idea of producing invariance to image transformations in a convolutional neural netowrk by augmenting the image data set with a variety of image transformations (e.g., randomly cropping, rotating, or scaling images). Modifying the daa in specific ways is possible if one knows the process the generates variation in the data (e.g., objects moving through the world). In the case here, there's little understanding of the factors that lead to variation of EMG data features across subjects other than the very simple transformation that occurs when EMG electrodes are in different positions. For this reason, it makes most sense here to leverage the large number of subjects' data available and simply pool the data which implicitly contains information about the various ways in which EMG data varies across subjects. One short-coming of this approach is that classification performance will drop when presented with variations in the data not present in the training set."
   ]
  },
  {
   "cell_type": "code",
   "execution_count": 7,
   "id": "130e6c59",
   "metadata": {},
   "outputs": [
    {
     "data": {
      "text/html": [
       "<table border=\"1\" class=\"dataframe\">\n",
       "  <thead>\n",
       "    <tr style=\"text-align: right;\">\n",
       "      <th></th>\n",
       "      <th></th>\n",
       "      <th>f1_score</th>\n",
       "      <th>accuracy_score</th>\n",
       "    </tr>\n",
       "    <tr>\n",
       "      <th>Shuffled</th>\n",
       "      <th>Type</th>\n",
       "      <th></th>\n",
       "      <th></th>\n",
       "    </tr>\n",
       "  </thead>\n",
       "  <tbody>\n",
       "    <tr>\n",
       "      <th>False</th>\n",
       "      <th>Test</th>\n",
       "      <td>0.843134</td>\n",
       "      <td>0.857605</td>\n",
       "    </tr>\n",
       "    <tr>\n",
       "      <th>True</th>\n",
       "      <th>Test</th>\n",
       "      <td>0.173404</td>\n",
       "      <td>0.180369</td>\n",
       "    </tr>\n",
       "  </tbody>\n",
       "</table>"
      ],
      "text/plain": [
       "<IPython.core.display.HTML object>"
      ]
     },
     "metadata": {},
     "output_type": "display_data"
    }
   ],
   "source": [
    "# Load joint training test results\n",
    "results_folder = '../results_data/xsubject_joint_data/simple_NN'\n",
    "results_fn = 'nn_joint_testing_results.h5'\n",
    "joint_results_df = pd.read_hdf(os.path.join(results_folder,results_fn), 'results_df')\n",
    "joint_results_df['Type'] = 'Test'\n",
    "joint_results_df = joint_results_df.groupby(['Shuffled','Type','Test_Subject'],as_index = False)\\\n",
    ".mean()\\\n",
    ".drop(columns = ['Rep'])\n",
    "# Output summary\n",
    "display(HTML(joint_results_df.groupby(['Shuffled','Type']).mean().drop(columns = ['Test_Subject']).to_html()))\n"
   ]
  },
  {
   "cell_type": "code",
   "execution_count": null,
   "id": "0ba3a295",
   "metadata": {},
   "outputs": [],
   "source": [
    "### Transform module"
   ]
  },
  {
   "cell_type": "code",
   "execution_count": 2,
   "id": "2369c616",
   "metadata": {},
   "outputs": [],
   "source": [
    "#comparing: within-subject naive, joint-training, transform module\n",
    "\n",
    "#held out subjects, Kfold CV used to optimize hyperparams + archs\n",
    "#naive: train on all others - report on test\n",
    "#joint-training: train on all others, test on held-out\n",
    "#transform module: train feature extractor on all others, test on held-out (half of data used for transform module)\n",
    "\n",
    "#DANN - train on all others, use DANN to adapt\n",
    "\n"
   ]
  },
  {
   "cell_type": "code",
   "execution_count": 3,
   "id": "305f6b3a",
   "metadata": {},
   "outputs": [],
   "source": []
  },
  {
   "cell_type": "code",
   "execution_count": 4,
   "id": "d36635bc",
   "metadata": {},
   "outputs": [
    {
     "data": {
      "text/html": [
       "<table border=\"1\" class=\"dataframe\">\n",
       "  <thead>\n",
       "    <tr style=\"text-align: right;\">\n",
       "      <th></th>\n",
       "      <th></th>\n",
       "      <th>Epochs_Trained</th>\n",
       "      <th>f1_score</th>\n",
       "      <th>accuracy_score</th>\n",
       "    </tr>\n",
       "    <tr>\n",
       "      <th>Shuffled</th>\n",
       "      <th>Type</th>\n",
       "      <th></th>\n",
       "      <th></th>\n",
       "      <th></th>\n",
       "    </tr>\n",
       "  </thead>\n",
       "  <tbody>\n",
       "    <tr>\n",
       "      <th rowspan=\"2\" valign=\"top\">False</th>\n",
       "      <th>Test</th>\n",
       "      <td>46.741667</td>\n",
       "      <td>0.924333</td>\n",
       "      <td>0.931198</td>\n",
       "    </tr>\n",
       "    <tr>\n",
       "      <th>Train</th>\n",
       "      <td>46.741667</td>\n",
       "      <td>0.994673</td>\n",
       "      <td>0.994682</td>\n",
       "    </tr>\n",
       "    <tr>\n",
       "      <th rowspan=\"2\" valign=\"top\">True</th>\n",
       "      <th>Test</th>\n",
       "      <td>7.025000</td>\n",
       "      <td>0.143933</td>\n",
       "      <td>0.157523</td>\n",
       "    </tr>\n",
       "    <tr>\n",
       "      <th>Train</th>\n",
       "      <td>7.025000</td>\n",
       "      <td>0.567200</td>\n",
       "      <td>0.596870</td>\n",
       "    </tr>\n",
       "  </tbody>\n",
       "</table>"
      ],
      "text/plain": [
       "<IPython.core.display.HTML object>"
      ]
     },
     "metadata": {},
     "output_type": "display_data"
    }
   ],
   "source": []
  },
  {
   "cell_type": "code",
   "execution_count": 5,
   "id": "f2caa5f7",
   "metadata": {},
   "outputs": [
    {
     "data": {
      "text/html": [
       "<table border=\"1\" class=\"dataframe\">\n",
       "  <thead>\n",
       "    <tr style=\"text-align: right;\">\n",
       "      <th></th>\n",
       "      <th></th>\n",
       "      <th>Epochs_Trained</th>\n",
       "      <th>f1_score</th>\n",
       "      <th>accuracy_score</th>\n",
       "    </tr>\n",
       "    <tr>\n",
       "      <th>Shuffled</th>\n",
       "      <th>Type</th>\n",
       "      <th></th>\n",
       "      <th></th>\n",
       "      <th></th>\n",
       "    </tr>\n",
       "  </thead>\n",
       "  <tbody>\n",
       "    <tr>\n",
       "      <th rowspan=\"2\" valign=\"top\">False</th>\n",
       "      <th>Test</th>\n",
       "      <td>45.033333</td>\n",
       "      <td>0.645373</td>\n",
       "      <td>0.675382</td>\n",
       "    </tr>\n",
       "    <tr>\n",
       "      <th>Train</th>\n",
       "      <td>45.033333</td>\n",
       "      <td>0.986024</td>\n",
       "      <td>0.986071</td>\n",
       "    </tr>\n",
       "    <tr>\n",
       "      <th rowspan=\"2\" valign=\"top\">True</th>\n",
       "      <th>Test</th>\n",
       "      <td>6.766667</td>\n",
       "      <td>0.155833</td>\n",
       "      <td>0.181460</td>\n",
       "    </tr>\n",
       "    <tr>\n",
       "      <th>Train</th>\n",
       "      <td>6.766667</td>\n",
       "      <td>0.385628</td>\n",
       "      <td>0.411732</td>\n",
       "    </tr>\n",
       "  </tbody>\n",
       "</table>"
      ],
      "text/plain": [
       "<IPython.core.display.HTML object>"
      ]
     },
     "metadata": {},
     "output_type": "display_data"
    }
   ],
   "source": []
  },
  {
   "cell_type": "code",
   "execution_count": 6,
   "id": "8bf30a8d",
   "metadata": {},
   "outputs": [
    {
     "data": {
      "text/html": [
       "<table border=\"1\" class=\"dataframe\">\n",
       "  <thead>\n",
       "    <tr style=\"text-align: right;\">\n",
       "      <th></th>\n",
       "      <th></th>\n",
       "      <th>f1_score</th>\n",
       "      <th>accuracy_score</th>\n",
       "    </tr>\n",
       "    <tr>\n",
       "      <th>Shuffled</th>\n",
       "      <th>Type</th>\n",
       "      <th></th>\n",
       "      <th></th>\n",
       "    </tr>\n",
       "  </thead>\n",
       "  <tbody>\n",
       "    <tr>\n",
       "      <th>False</th>\n",
       "      <th>Test</th>\n",
       "      <td>0.843134</td>\n",
       "      <td>0.857605</td>\n",
       "    </tr>\n",
       "    <tr>\n",
       "      <th>True</th>\n",
       "      <th>Test</th>\n",
       "      <td>0.173404</td>\n",
       "      <td>0.180369</td>\n",
       "    </tr>\n",
       "  </tbody>\n",
       "</table>"
      ],
      "text/plain": [
       "<IPython.core.display.HTML object>"
      ]
     },
     "metadata": {},
     "output_type": "display_data"
    }
   ],
   "source": []
  },
  {
   "cell_type": "code",
   "execution_count": 7,
   "id": "191d5228",
   "metadata": {},
   "outputs": [
    {
     "data": {
      "text/html": [
       "<table border=\"1\" class=\"dataframe\">\n",
       "  <thead>\n",
       "    <tr style=\"text-align: right;\">\n",
       "      <th></th>\n",
       "      <th></th>\n",
       "      <th>Epochs_Trained</th>\n",
       "      <th>f1_score</th>\n",
       "      <th>accuracy_score</th>\n",
       "    </tr>\n",
       "    <tr>\n",
       "      <th>Shuffled</th>\n",
       "      <th>Type</th>\n",
       "      <th></th>\n",
       "      <th></th>\n",
       "      <th></th>\n",
       "    </tr>\n",
       "  </thead>\n",
       "  <tbody>\n",
       "    <tr>\n",
       "      <th rowspan=\"2\" valign=\"top\">False</th>\n",
       "      <th>Test</th>\n",
       "      <td>37.791667</td>\n",
       "      <td>0.895771</td>\n",
       "      <td>0.902171</td>\n",
       "    </tr>\n",
       "    <tr>\n",
       "      <th>Train</th>\n",
       "      <td>37.791667</td>\n",
       "      <td>0.948425</td>\n",
       "      <td>0.949725</td>\n",
       "    </tr>\n",
       "    <tr>\n",
       "      <th rowspan=\"2\" valign=\"top\">True</th>\n",
       "      <th>Test</th>\n",
       "      <td>10.141667</td>\n",
       "      <td>0.112291</td>\n",
       "      <td>0.124739</td>\n",
       "    </tr>\n",
       "    <tr>\n",
       "      <th>Train</th>\n",
       "      <td>10.141667</td>\n",
       "      <td>0.400852</td>\n",
       "      <td>0.434168</td>\n",
       "    </tr>\n",
       "  </tbody>\n",
       "</table>"
      ],
      "text/plain": [
       "<IPython.core.display.HTML object>"
      ]
     },
     "metadata": {},
     "output_type": "display_data"
    }
   ],
   "source": [
    "# Load transform module test results\n",
    "results_folder = '../results_data/xsubject_transform_module/simple_NN'\n",
    "results_fn = 'train_model_transform_module_all_testing_data_results.h5'\n",
    "tm_results_df = pd.read_hdf(os.path.join(results_folder,results_fn), 'results_df')\n",
    "tm_results_df['Test_Subject'] = tm_results_df['Subject']\n",
    "tm_results_df = tm_results_df.drop(columns = ['Subject'])\n",
    "tm_results_df = tm_results_df.groupby(['Shuffled','Type','Test_Subject'],as_index = False)\\\n",
    ".mean()\\\n",
    ".drop(columns = ['Rep','Fold','Epochs','Batch_Size','Train_Loss','Val_Loss'])\n",
    "# Output summary\n",
    "display(HTML(tm_results_df.groupby(['Shuffled','Type']).mean().drop(columns = ['Test_Subject']).to_html()))\n"
   ]
  },
  {
   "cell_type": "code",
   "execution_count": null,
   "id": "2d98ddd4",
   "metadata": {},
   "outputs": [],
   "source": []
  },
  {
   "cell_type": "code",
   "execution_count": 8,
   "id": "dec37340",
   "metadata": {},
   "outputs": [],
   "source": [
    "#combine multiple dataframes\n",
    "\n",
    "# keep test scores only\n",
    "within_results_df = within_results_df.loc[within_results_df.Type=='Test']\n",
    "naive_results_df = naive_results_df.loc[naive_results_df.Type=='Test']\n",
    "joint_results_df = joint_results_df.loc[joint_results_df.Type=='Test']\n",
    "tm_results_df = tm_results_df.loc[tm_results_df.Type=='Test']\n",
    "#drop test subject column\n",
    "within_results_df = within_results_df.drop(columns = ['Train_Subject'])\n",
    "# label\n",
    "within_results_df['Test_Type'] = 'Within_Subject'\n",
    "naive_results_df['Test_Type'] = 'Naive_xSubject'\n",
    "joint_results_df['Test_Type'] = 'Joint_Training'\n",
    "tm_results_df['Test_Type'] = 'Transform_Module'\n",
    "#combine\n",
    "all_results_df = pd.concat([within_results_df, naive_results_df,\\\n",
    "                            joint_results_df, tm_results_df],axis = 0)\n"
   ]
  },
  {
   "cell_type": "code",
   "execution_count": 9,
   "id": "5ec2b820",
   "metadata": {},
   "outputs": [],
   "source": [
    "score2use = 'f1_score'\n",
    "exp_conditions = ['Within_Subject', 'Naive_xSubject', 'Joint_Training', 'Transform_Module']\n",
    "\n",
    "shuffle_df = all_results_df.loc[all_results_df.Shuffled == True]\n",
    "true_df = all_results_df.loc[all_results_df.Shuffled == False]\n",
    "\n",
    "# Get confidence interval for shuffled data results\n",
    "null_ci = np.zeros((len(exp_conditions),2))\n",
    "\n",
    "for j,t in enumerate(exp_conditions):\n",
    "    null_df = shuffle_df.loc[shuffle_df.Test_Type == t]\n",
    "    null_ci[j,:] = sns.utils.ci(sns.algorithms.bootstrap(null_df[score2use].values))\n"
   ]
  },
  {
   "cell_type": "code",
   "execution_count": 10,
   "id": "13707b08",
   "metadata": {},
   "outputs": [
    {
     "data": {
      "image/png": "[encoded data removed]",
      "text/plain": [
       "<Figure size 720x360 with 1 Axes>"
      ]
     },
     "metadata": {},
     "output_type": "display_data"
    }
   ],
   "source": [
    "\n",
    "#make plot\n",
    "g = sns.catplot(data = true_df, x= 'Test_Type', y = score2use,\\\n",
    "            order = exp_conditions, kind = 'box', aspect = 2)\n",
    "\n",
    "# #Label axes and subpots, mark chance confidence interval\n",
    "for i,ax in enumerate(g.axes[0]):\n",
    "    ax.set_xlabel('')\n",
    "    ax.set_ylim([0,1])\n",
    "    ax.set_xticklabels(exp_conditions,horizontalalignment = 'center', rotation =15)\n",
    "    ax.set_ylabel('F1 Score')\n",
    "    for j,t in enumerate(exp_conditions):\n",
    "        ax.add_patch(patches.Rectangle(((1*j)-.4, null_ci[j,0]), .8, (null_ci[j,1]-null_ci[j,0]),\\\n",
    "                                             linewidth=0, fill=True, color='k', alpha=0.2))\n",
    "\n",
    "sns.despine(fig=g.fig, bottom = False)"
   ]
  },
  {
   "cell_type": "code",
   "execution_count": 11,
   "id": "452a5b8d",
   "metadata": {},
   "outputs": [
    {
     "data": {
      "text/html": [
       "<div>\n",
       "<style scoped>\n",
       "    .dataframe tbody tr th:only-of-type {\n",
       "        vertical-align: middle;\n",
       "    }\n",
       "\n",
       "    .dataframe tbody tr th {\n",
       "        vertical-align: top;\n",
       "    }\n",
       "\n",
       "    .dataframe thead th {\n",
       "        text-align: right;\n",
       "    }\n",
       "</style>\n",
       "<table border=\"1\" class=\"dataframe\">\n",
       "  <thead>\n",
       "    <tr style=\"text-align: right;\">\n",
       "      <th></th>\n",
       "      <th>sum_sq</th>\n",
       "      <th>df</th>\n",
       "      <th>F</th>\n",
       "      <th>PR(&gt;F)</th>\n",
       "    </tr>\n",
       "  </thead>\n",
       "  <tbody>\n",
       "    <tr>\n",
       "      <th>C(Test_Type)</th>\n",
       "      <td>0.284710</td>\n",
       "      <td>3.0</td>\n",
       "      <td>13.919031</td>\n",
       "      <td>0.000039</td>\n",
       "    </tr>\n",
       "    <tr>\n",
       "      <th>Residual</th>\n",
       "      <td>0.136365</td>\n",
       "      <td>20.0</td>\n",
       "      <td>NaN</td>\n",
       "      <td>NaN</td>\n",
       "    </tr>\n",
       "  </tbody>\n",
       "</table>\n",
       "</div>"
      ],
      "text/plain": [
       "                sum_sq    df          F    PR(>F)\n",
       "C(Test_Type)  0.284710   3.0  13.919031  0.000039\n",
       "Residual      0.136365  20.0        NaN       NaN"
      ]
     },
     "execution_count": 11,
     "metadata": {},
     "output_type": "execute_result"
    }
   ],
   "source": [
    "\n",
    "\n",
    "# Run ANOVA\n",
    "model = ols('f1_score ~ C(Test_Type)', true_df).fit()\n",
    "\n",
    "# Creates the ANOVA table\n",
    "res = sm.stats.anova_lm(model, typ= 2)\n",
    "res"
   ]
  },
  {
   "cell_type": "code",
   "execution_count": 12,
   "id": "5b9632c5",
   "metadata": {},
   "outputs": [
    {
     "name": "stdout",
     "output_type": "stream",
     "text": [
      "          Multiple Comparison of Means - Tukey HSD, FWER=0.05           \n",
      "========================================================================\n",
      "     group1           group2      meandiff p-adj   lower   upper  reject\n",
      "------------------------------------------------------------------------\n",
      "  Joint_Training   Naive_xSubject  -0.1978 0.0026 -0.3312 -0.0643   True\n",
      "  Joint_Training Transform_Module   0.0526 0.6742 -0.0808  0.1861  False\n",
      "  Joint_Training   Within_Subject   0.0812 0.3485 -0.0522  0.2146  False\n",
      "  Naive_xSubject Transform_Module   0.2504  0.001   0.117  0.3838   True\n",
      "  Naive_xSubject   Within_Subject    0.279  0.001  0.1455  0.4124   True\n",
      "Transform_Module   Within_Subject   0.0286    0.9 -0.1049   0.162  False\n",
      "------------------------------------------------------------------------\n"
     ]
    }
   ],
   "source": [
    "groups =  true_df['Test_Type'].map(str)\n",
    "\n",
    "mc = statsmodels.stats.multicomp.MultiComparison(true_df['f1_score'],groups)\n",
    "mc_results = mc.tukeyhsd()\n",
    "print(mc_results)"
   ]
  },
  {
   "cell_type": "markdown",
   "id": "f99bcf47",
   "metadata": {},
   "source": [
    "**Conclusion** A one-way ANOVA found a signigicant effect of training type (p<.0001). Post-hoc Tukey tests showed that the within-subject, joint-training, and tranform module test scores were significantly different from the naive cross-subject generalization approach (p<.01 for all). In contrast, there was no siginificant difference among the test scores for between the within-subject, joint-training, and tranform module test scores. This indicates that both the joint training and transfer module approaches produce inter-subject robustness for upper-limb gesture classification from EMG data."
   ]
  },
  {
   "cell_type": "code",
   "execution_count": null,
   "id": "9544a6fa",
   "metadata": {},
   "outputs": [],
   "source": []
  }
 ],
 "metadata": {
  "kernelspec": {
   "display_name": "Python 3",
   "language": "python",
   "name": "python3"
  },
  "language_info": {
   "codemirror_mode": {
    "name": "ipython",
    "version": 3
   },
   "file_extension": ".py",
   "mimetype": "text/x-python",
   "name": "python",
   "nbconvert_exporter": "python",
   "pygments_lexer": "ipython3",
   "version": "3.6.13"
  }
 },
 "nbformat": 4,
 "nbformat_minor": 5
}
