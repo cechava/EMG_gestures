{
 "cells": [
  {
   "cell_type": "code",
   "execution_count": 3,
   "id": "0c8705e3",
   "metadata": {},
   "outputs": [],
   "source": [
    "#import necessary packages\n",
    "\n",
    "#our workhorses\n",
    "import numpy as np\n",
    "import pandas as pd\n",
    "import scipy\n",
    "\n",
    "#to visualize\n",
    "%matplotlib inline\n",
    "import seaborn as sns\n",
    "import matplotlib.pyplot as plt\n",
    "import matplotlib.patches as patches\n",
    "#style params for figures\n",
    "sns.set(font_scale = 2)\n",
    "plt.style.use('seaborn-white')\n",
    "plt.rc(\"axes\", labelweight=\"bold\")\n",
    "from IPython.display import display, HTML\n",
    "\n",
    "#to load files\n",
    "import os\n",
    "import h5py\n",
    "\n",
    "#for stats\n",
    "import statsmodels.api as sm\n",
    "from statsmodels.formula.api import ols\n",
    "import statsmodels.stats.multitest as multitest\n",
    "import statsmodels.stats.multicomp\n",
    "\n",
    "#load custon functions\n",
    "from EMG_gestures.utils import *"
   ]
  },
  {
   "cell_type": "code",
   "execution_count": null,
   "id": "2369c616",
   "metadata": {},
   "outputs": [],
   "source": [
    "#comparing: within-subject naive, joint-training, transform module\n",
    "\n",
    "#held out subjects, Kfold CV used to optimize hyperparams + archs\n",
    "#naive: train on all others - report on test\n",
    "#joint-training: train on all others, test on held-out\n",
    "#transform module: train feature extractor on all others, test on held-out (half of data used for transform module)\n",
    "\n",
    "#DANN - train on all others, use DANN to adapt\n",
    "\n"
   ]
  },
  {
   "cell_type": "code",
   "execution_count": 6,
   "id": "305f6b3a",
   "metadata": {},
   "outputs": [],
   "source": [
    "#randomly-selected subjects to use as hold-out test data \n",
    "test_subjects = [10, 12, 20, 14, 23, 34]"
   ]
  },
  {
   "cell_type": "code",
   "execution_count": 27,
   "id": "d36635bc",
   "metadata": {},
   "outputs": [
    {
     "data": {
      "text/html": [
       "<table border=\"1\" class=\"dataframe\">\n",
       "  <thead>\n",
       "    <tr style=\"text-align: right;\">\n",
       "      <th></th>\n",
       "      <th></th>\n",
       "      <th>Epochs_Trained</th>\n",
       "      <th>f1_score</th>\n",
       "      <th>accuracy_score</th>\n",
       "    </tr>\n",
       "    <tr>\n",
       "      <th>Shuffled</th>\n",
       "      <th>Type</th>\n",
       "      <th></th>\n",
       "      <th></th>\n",
       "      <th></th>\n",
       "    </tr>\n",
       "  </thead>\n",
       "  <tbody>\n",
       "    <tr>\n",
       "      <th rowspan=\"2\" valign=\"top\">False</th>\n",
       "      <th>Test</th>\n",
       "      <td>46.741667</td>\n",
       "      <td>0.924333</td>\n",
       "      <td>0.931198</td>\n",
       "    </tr>\n",
       "    <tr>\n",
       "      <th>Train</th>\n",
       "      <td>46.741667</td>\n",
       "      <td>0.994673</td>\n",
       "      <td>0.994682</td>\n",
       "    </tr>\n",
       "    <tr>\n",
       "      <th rowspan=\"2\" valign=\"top\">True</th>\n",
       "      <th>Test</th>\n",
       "      <td>7.025000</td>\n",
       "      <td>0.143933</td>\n",
       "      <td>0.157523</td>\n",
       "    </tr>\n",
       "    <tr>\n",
       "      <th>Train</th>\n",
       "      <td>7.025000</td>\n",
       "      <td>0.567200</td>\n",
       "      <td>0.596870</td>\n",
       "    </tr>\n",
       "  </tbody>\n",
       "</table>"
      ],
      "text/plain": [
       "<IPython.core.display.HTML object>"
      ]
     },
     "metadata": {},
     "output_type": "display_data"
    }
   ],
   "source": [
    "# Load within-subject data for held-out subjects\n",
    "# Load logistic regression within-subject data\n",
    "\n",
    "\n",
    "within_results_df = [] \n",
    "\n",
    "results_folder = '../results_data/single_subject_training/simple_NN'\n",
    "for src_subject_id in test_subjects:\n",
    "    results_fn = 'subject_%02d_within_subject_results.h5'%(src_subject_id)\n",
    "    subject_df = pd.read_hdf(os.path.join(results_folder,results_fn), 'results_df')\n",
    "    subject_df['Train_Subject'] = subject_df['Subject']\n",
    "    subject_df['Test_Subject'] = subject_df['Subject']\n",
    "    subject_df = subject_df.drop(columns = ['Subject'])\n",
    "    within_results_df.append(subject_df)\n",
    "\n",
    "within_results_df = pd.concat(within_results_df,axis = 0)\n",
    "\n",
    "# Average over multiple train/test splits of the data\n",
    "within_results_df = within_results_df.groupby(['Shuffled','Type','Train_Subject','Test_Subject'],as_index = False)\\\n",
    ".mean()\\\n",
    ".drop(columns = ['Fold','Rep','Epochs','Batch_Size','Train_Loss','Val_Loss'])\n",
    "\n",
    "# Output summary\n",
    "display(HTML(within_results_df.groupby(['Shuffled','Type']).mean().drop(columns = ['Train_Subject','Test_Subject']).to_html()))"
   ]
  },
  {
   "cell_type": "code",
   "execution_count": 14,
   "id": "f2caa5f7",
   "metadata": {},
   "outputs": [
    {
     "data": {
      "text/html": [
       "<table border=\"1\" class=\"dataframe\">\n",
       "  <thead>\n",
       "    <tr style=\"text-align: right;\">\n",
       "      <th></th>\n",
       "      <th></th>\n",
       "      <th>Epochs_Trained</th>\n",
       "      <th>f1_score</th>\n",
       "      <th>accuracy_score</th>\n",
       "    </tr>\n",
       "    <tr>\n",
       "      <th>Shuffled</th>\n",
       "      <th>Type</th>\n",
       "      <th></th>\n",
       "      <th></th>\n",
       "      <th></th>\n",
       "    </tr>\n",
       "  </thead>\n",
       "  <tbody>\n",
       "    <tr>\n",
       "      <th rowspan=\"2\" valign=\"top\">False</th>\n",
       "      <th>Test</th>\n",
       "      <td>45.033333</td>\n",
       "      <td>0.645373</td>\n",
       "      <td>0.675382</td>\n",
       "    </tr>\n",
       "    <tr>\n",
       "      <th>Train</th>\n",
       "      <td>45.033333</td>\n",
       "      <td>0.986024</td>\n",
       "      <td>0.986071</td>\n",
       "    </tr>\n",
       "    <tr>\n",
       "      <th rowspan=\"2\" valign=\"top\">True</th>\n",
       "      <th>Test</th>\n",
       "      <td>6.766667</td>\n",
       "      <td>0.155833</td>\n",
       "      <td>0.181460</td>\n",
       "    </tr>\n",
       "    <tr>\n",
       "      <th>Train</th>\n",
       "      <td>6.766667</td>\n",
       "      <td>0.385628</td>\n",
       "      <td>0.411732</td>\n",
       "    </tr>\n",
       "  </tbody>\n",
       "</table>"
      ],
      "text/plain": [
       "<IPython.core.display.HTML object>"
      ]
     },
     "metadata": {},
     "output_type": "display_data"
    }
   ],
   "source": [
    "# Load naive generalization test data for held-out subjects\n",
    "results_folder = '../results_data/single_subject_training/simple_NN'\n",
    "naive_results_df = [] \n",
    "for src_subject_id in test_subjects:\n",
    "    results_fn = 'subject_%02d_across_subject_results.h5'%(src_subject_id)\n",
    "    subject_df = pd.read_hdf(os.path.join(results_folder,results_fn), 'results_df')\n",
    "    #select data relevant for \n",
    "    subject_df = subject_df.loc[subject_df.Test_Subject.isin(test_subjects)]\n",
    "    naive_results_df.append(subject_df)\n",
    "\n",
    "naive_results_df = pd.concat(naive_results_df,axis = 0)\n",
    "\n",
    "# Average over train subjects\n",
    "naive_results_df = naive_results_df.groupby(['Shuffled','Type','Test_Subject'],as_index = False)\\\n",
    ".mean()\\\n",
    ".drop(columns = ['Train_Subject','Rep','Epochs','Batch_Size','Train_Loss','Val_Loss'])\n",
    "\n",
    "# Output summary\n",
    "display(HTML(naive_results_df.groupby(['Shuffled','Type']).mean().drop(columns = ['Test_Subject']).to_html()))\n"
   ]
  },
  {
   "cell_type": "code",
   "execution_count": 24,
   "id": "d4328a5d",
   "metadata": {},
   "outputs": [
    {
     "data": {
      "text/html": [
       "<table border=\"1\" class=\"dataframe\">\n",
       "  <thead>\n",
       "    <tr style=\"text-align: right;\">\n",
       "      <th></th>\n",
       "      <th></th>\n",
       "      <th>f1_score</th>\n",
       "      <th>accuracy_score</th>\n",
       "    </tr>\n",
       "    <tr>\n",
       "      <th>Shuffled</th>\n",
       "      <th>Type</th>\n",
       "      <th></th>\n",
       "      <th></th>\n",
       "    </tr>\n",
       "  </thead>\n",
       "  <tbody>\n",
       "    <tr>\n",
       "      <th>False</th>\n",
       "      <th>Test</th>\n",
       "      <td>0.843134</td>\n",
       "      <td>0.857605</td>\n",
       "    </tr>\n",
       "    <tr>\n",
       "      <th>True</th>\n",
       "      <th>Test</th>\n",
       "      <td>0.173404</td>\n",
       "      <td>0.180369</td>\n",
       "    </tr>\n",
       "  </tbody>\n",
       "</table>"
      ],
      "text/plain": [
       "<IPython.core.display.HTML object>"
      ]
     },
     "metadata": {},
     "output_type": "display_data"
    }
   ],
   "source": [
    "# Load joint training data\n",
    "results_folder = '../results_data/xsubject_joint_data/simple_NN'\n",
    "results_fn = 'nn_joint_testing_results.h5'\n",
    "joint_results_df = pd.read_hdf(os.path.join(results_folder,results_fn), 'results_df')\n",
    "joint_results_df['Type'] = 'Test'\n",
    "joint_results_df = joint_results_df.groupby(['Shuffled','Type','Test_Subject'],as_index = False)\\\n",
    ".mean()\\\n",
    ".drop(columns = ['Rep'])\n",
    "# Output summary\n",
    "display(HTML(joint_results_df.groupby(['Shuffled','Type']).mean().drop(columns = ['Test_Subject']).to_html()))\n"
   ]
  },
  {
   "cell_type": "code",
   "execution_count": 28,
   "id": "dec37340",
   "metadata": {},
   "outputs": [],
   "source": [
    "#combine multiple dataframes\n",
    "\n",
    "# keep test scores only\n",
    "within_results_df = within_results_df.loc[within_results_df.Type=='Test']\n",
    "naive_results_df = naive_results_df.loc[naive_results_df.Type=='Test']\n",
    "joint_results_df = joint_results_df.loc[joint_results_df.Type=='Test']\n",
    "#drop test subject column\n",
    "within_results_df = within_results_df.drop(columns = ['Train_Subject'])\n",
    "# label\n",
    "within_results_df['Test_Type'] = 'Within_Subject'\n",
    "naive_results_df['Test_Type'] = 'Naive_xSubject'\n",
    "joint_results_df['Test_Type'] = 'Joint_Training'\n",
    "#combine\n",
    "all_results_df = pd.concat([within_results_df, naive_results_df, joint_results_df],axis = 0)\n"
   ]
  },
  {
   "cell_type": "code",
   "execution_count": 29,
   "id": "5ec2b820",
   "metadata": {},
   "outputs": [],
   "source": [
    "score2use = 'f1_score'\n",
    "exp_conditions = ['Within_Subject', 'Naive_xSubject', 'Joint_Training']\n",
    "\n",
    "shuffle_df = all_results_df.loc[all_results_df.Shuffled == True]\n",
    "true_df = all_results_df.loc[all_results_df.Shuffled == False]\n",
    "\n",
    "# Get confidence interval for shuffled data results\n",
    "null_ci = np.zeros((len(exp_conditions),2))\n",
    "\n",
    "for j,t in enumerate(exp_conditions):\n",
    "    null_df = shuffle_df.loc[shuffle_df.Test_Type == t]\n",
    "    null_ci[j,:] = sns.utils.ci(sns.algorithms.bootstrap(null_df[score2use].values))\n"
   ]
  },
  {
   "cell_type": "code",
   "execution_count": 31,
   "id": "13707b08",
   "metadata": {},
   "outputs": [
    {
     "data": {
      "image/png": "[encoded data removed]",
      "text/plain": [
       "<Figure size 1080x360 with 1 Axes>"
      ]
     },
     "metadata": {},
     "output_type": "display_data"
    }
   ],
   "source": [
    "\n",
    "#make plot\n",
    "g = sns.catplot(data = true_df, x= 'Test_Type', y = score2use,\\\n",
    "            order = exp_conditions, kind = 'box', aspect = 3)\n",
    "\n",
    "# #Label axes and subpots, mark chance confidence interval\n",
    "for i,ax in enumerate(g.axes[0]):\n",
    "    ax.set_xlabel('')\n",
    "    ax.set_ylim([0,1])\n",
    "    ax.set_xticklabels(exp_conditions,horizontalalignment = 'center')\n",
    "    ax.set_ylabel('F1 Score')\n",
    "    for j,t in enumerate(exp_conditions):\n",
    "        ax.add_patch(patches.Rectangle(((1*j)-.4, null_ci[j,0]), .8, (null_ci[j,1]-null_ci[j,0]),\\\n",
    "                                             linewidth=0, fill=True, color='k', alpha=0.2))\n",
    "\n",
    "sns.despine(fig=g.fig, bottom = False)"
   ]
  },
  {
   "cell_type": "code",
   "execution_count": 32,
   "id": "452a5b8d",
   "metadata": {},
   "outputs": [
    {
     "data": {
      "text/plain": [
       "array([0, 1])"
      ]
     },
     "execution_count": 32,
     "metadata": {},
     "output_type": "execute_result"
    }
   ],
   "source": [
    "ax.get_xticks()"
   ]
  },
  {
   "cell_type": "code",
   "execution_count": null,
   "id": "5b9632c5",
   "metadata": {},
   "outputs": [],
   "source": []
  }
 ],
 "metadata": {
  "kernelspec": {
   "display_name": "Python 3",
   "language": "python",
   "name": "python3"
  },
  "language_info": {
   "codemirror_mode": {
    "name": "ipython",
    "version": 3
   },
   "file_extension": ".py",
   "mimetype": "text/x-python",
   "name": "python",
   "nbconvert_exporter": "python",
   "pygments_lexer": "ipython3",
   "version": "3.6.13"
  }
 },
 "nbformat": 4,
 "nbformat_minor": 5
}
