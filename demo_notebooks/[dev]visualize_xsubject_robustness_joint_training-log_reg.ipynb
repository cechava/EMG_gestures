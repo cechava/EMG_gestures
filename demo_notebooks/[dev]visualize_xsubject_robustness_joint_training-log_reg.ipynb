{
 "cells": [
  {
   "cell_type": "code",
   "execution_count": 2,
   "id": "0bcbe9af",
   "metadata": {},
   "outputs": [],
   "source": [
    "#import necessary packages\n",
    "\n",
    "#our workhorses\n",
    "import numpy as np\n",
    "import pandas as pd\n",
    "import scipy\n",
    "\n",
    "#to visualize\n",
    "%matplotlib inline\n",
    "import seaborn as sns\n",
    "import matplotlib.pyplot as plt\n",
    "import matplotlib.patches as patches\n",
    "#style params for figures\n",
    "sns.set(font_scale = 2)\n",
    "plt.style.use('seaborn-white')\n",
    "plt.rc(\"axes\", labelweight=\"bold\")\n",
    "from IPython.display import display, HTML\n",
    "\n",
    "#to load files\n",
    "import os\n",
    "import h5py\n",
    "\n",
    "#for stats\n",
    "import statsmodels.api as sm\n",
    "from statsmodels.formula.api import ols\n",
    "import statsmodels.stats.multitest as multitest\n",
    "import statsmodels.stats.multicomp\n",
    "\n",
    "#load custon functions\n",
    "from EMG_gestures.utils import *"
   ]
  },
  {
   "cell_type": "code",
   "execution_count": 3,
   "id": "c0d1609f",
   "metadata": {},
   "outputs": [],
   "source": [
    "results_folder = '../results_data/xsubject_joint_data/log_reg'\n",
    "\n",
    "results_df = []\n",
    "for model_id in range(1,5):\n",
    "    # load model results\n",
    "    results_fn = 'model_%02d_results.h5'%(model_id)\n",
    "    model_df = pd.read_hdf(os.path.join(results_folder,results_fn), 'results_df')\n",
    "    model_df['Model'] = model_id\n",
    "    #append to collective dataframe\n",
    "    results_df.append(model_df)\n",
    "results_df = pd.concat(results_df,axis = 0)"
   ]
  },
  {
   "cell_type": "code",
   "execution_count": 4,
   "id": "a8d8a2b7",
   "metadata": {},
   "outputs": [],
   "source": [
    "# Average over multiple train/test splits of the data\n",
    "results_df = results_df.groupby(['Shuffled','Type','Model','Rep'],as_index = False)\\\n",
    ".mean()\\\n",
    ".drop(columns = ['Fold'])"
   ]
  },
  {
   "cell_type": "code",
   "execution_count": 5,
   "id": "ed93b5cc",
   "metadata": {},
   "outputs": [
    {
     "data": {
      "text/html": [
       "<div>\n",
       "<style scoped>\n",
       "    .dataframe tbody tr th:only-of-type {\n",
       "        vertical-align: middle;\n",
       "    }\n",
       "\n",
       "    .dataframe tbody tr th {\n",
       "        vertical-align: top;\n",
       "    }\n",
       "\n",
       "    .dataframe thead th {\n",
       "        text-align: right;\n",
       "    }\n",
       "</style>\n",
       "<table border=\"1\" class=\"dataframe\">\n",
       "  <thead>\n",
       "    <tr style=\"text-align: right;\">\n",
       "      <th></th>\n",
       "      <th>Shuffled</th>\n",
       "      <th>Type</th>\n",
       "      <th>Model</th>\n",
       "      <th>Rep</th>\n",
       "      <th>f1_score</th>\n",
       "      <th>accuracy_score</th>\n",
       "    </tr>\n",
       "  </thead>\n",
       "  <tbody>\n",
       "    <tr>\n",
       "      <th>0</th>\n",
       "      <td>False</td>\n",
       "      <td>Test</td>\n",
       "      <td>1</td>\n",
       "      <td>1</td>\n",
       "      <td>0.777481</td>\n",
       "      <td>0.778920</td>\n",
       "    </tr>\n",
       "    <tr>\n",
       "      <th>1</th>\n",
       "      <td>False</td>\n",
       "      <td>Test</td>\n",
       "      <td>1</td>\n",
       "      <td>2</td>\n",
       "      <td>0.789419</td>\n",
       "      <td>0.790022</td>\n",
       "    </tr>\n",
       "    <tr>\n",
       "      <th>2</th>\n",
       "      <td>False</td>\n",
       "      <td>Test</td>\n",
       "      <td>1</td>\n",
       "      <td>3</td>\n",
       "      <td>0.773998</td>\n",
       "      <td>0.774971</td>\n",
       "    </tr>\n",
       "    <tr>\n",
       "      <th>3</th>\n",
       "      <td>False</td>\n",
       "      <td>Test</td>\n",
       "      <td>1</td>\n",
       "      <td>4</td>\n",
       "      <td>0.791248</td>\n",
       "      <td>0.793899</td>\n",
       "    </tr>\n",
       "    <tr>\n",
       "      <th>4</th>\n",
       "      <td>False</td>\n",
       "      <td>Test</td>\n",
       "      <td>1</td>\n",
       "      <td>5</td>\n",
       "      <td>0.771974</td>\n",
       "      <td>0.774919</td>\n",
       "    </tr>\n",
       "    <tr>\n",
       "      <th>...</th>\n",
       "      <td>...</td>\n",
       "      <td>...</td>\n",
       "      <td>...</td>\n",
       "      <td>...</td>\n",
       "      <td>...</td>\n",
       "      <td>...</td>\n",
       "    </tr>\n",
       "    <tr>\n",
       "      <th>155</th>\n",
       "      <td>True</td>\n",
       "      <td>Train</td>\n",
       "      <td>4</td>\n",
       "      <td>6</td>\n",
       "      <td>0.202741</td>\n",
       "      <td>0.224368</td>\n",
       "    </tr>\n",
       "    <tr>\n",
       "      <th>156</th>\n",
       "      <td>True</td>\n",
       "      <td>Train</td>\n",
       "      <td>4</td>\n",
       "      <td>7</td>\n",
       "      <td>0.210725</td>\n",
       "      <td>0.228974</td>\n",
       "    </tr>\n",
       "    <tr>\n",
       "      <th>157</th>\n",
       "      <td>True</td>\n",
       "      <td>Train</td>\n",
       "      <td>4</td>\n",
       "      <td>8</td>\n",
       "      <td>0.213854</td>\n",
       "      <td>0.228137</td>\n",
       "    </tr>\n",
       "    <tr>\n",
       "      <th>158</th>\n",
       "      <td>True</td>\n",
       "      <td>Train</td>\n",
       "      <td>4</td>\n",
       "      <td>9</td>\n",
       "      <td>0.210528</td>\n",
       "      <td>0.238447</td>\n",
       "    </tr>\n",
       "    <tr>\n",
       "      <th>159</th>\n",
       "      <td>True</td>\n",
       "      <td>Train</td>\n",
       "      <td>4</td>\n",
       "      <td>10</td>\n",
       "      <td>0.202143</td>\n",
       "      <td>0.218929</td>\n",
       "    </tr>\n",
       "  </tbody>\n",
       "</table>\n",
       "<p>160 rows × 6 columns</p>\n",
       "</div>"
      ],
      "text/plain": [
       "     Shuffled   Type  Model  Rep  f1_score  accuracy_score\n",
       "0       False   Test      1    1  0.777481        0.778920\n",
       "1       False   Test      1    2  0.789419        0.790022\n",
       "2       False   Test      1    3  0.773998        0.774971\n",
       "3       False   Test      1    4  0.791248        0.793899\n",
       "4       False   Test      1    5  0.771974        0.774919\n",
       "..        ...    ...    ...  ...       ...             ...\n",
       "155      True  Train      4    6  0.202741        0.224368\n",
       "156      True  Train      4    7  0.210725        0.228974\n",
       "157      True  Train      4    8  0.213854        0.228137\n",
       "158      True  Train      4    9  0.210528        0.238447\n",
       "159      True  Train      4   10  0.202143        0.218929\n",
       "\n",
       "[160 rows x 6 columns]"
      ]
     },
     "execution_count": 5,
     "metadata": {},
     "output_type": "execute_result"
    }
   ],
   "source": [
    "results_df"
   ]
  },
  {
   "cell_type": "code",
   "execution_count": 6,
   "id": "5eef7811",
   "metadata": {},
   "outputs": [
    {
     "data": {
      "text/html": [
       "<div>\n",
       "<style scoped>\n",
       "    .dataframe tbody tr th:only-of-type {\n",
       "        vertical-align: middle;\n",
       "    }\n",
       "\n",
       "    .dataframe tbody tr th {\n",
       "        vertical-align: top;\n",
       "    }\n",
       "\n",
       "    .dataframe thead th {\n",
       "        text-align: right;\n",
       "    }\n",
       "</style>\n",
       "<table border=\"1\" class=\"dataframe\">\n",
       "  <thead>\n",
       "    <tr style=\"text-align: right;\">\n",
       "      <th></th>\n",
       "      <th></th>\n",
       "      <th>Train_score</th>\n",
       "      <th>Test_score</th>\n",
       "    </tr>\n",
       "    <tr>\n",
       "      <th>Shuffled</th>\n",
       "      <th>Model</th>\n",
       "      <th></th>\n",
       "      <th></th>\n",
       "    </tr>\n",
       "  </thead>\n",
       "  <tbody>\n",
       "    <tr>\n",
       "      <th rowspan=\"4\" valign=\"top\">False</th>\n",
       "      <th>1</th>\n",
       "      <td>0.826332</td>\n",
       "      <td>0.783888</td>\n",
       "    </tr>\n",
       "    <tr>\n",
       "      <th>2</th>\n",
       "      <td>0.844863</td>\n",
       "      <td>0.792987</td>\n",
       "    </tr>\n",
       "    <tr>\n",
       "      <th>3</th>\n",
       "      <td>0.843371</td>\n",
       "      <td>0.783586</td>\n",
       "    </tr>\n",
       "    <tr>\n",
       "      <th>4</th>\n",
       "      <td>0.834645</td>\n",
       "      <td>0.789280</td>\n",
       "    </tr>\n",
       "    <tr>\n",
       "      <th rowspan=\"4\" valign=\"top\">True</th>\n",
       "      <th>1</th>\n",
       "      <td>0.203693</td>\n",
       "      <td>0.151368</td>\n",
       "    </tr>\n",
       "    <tr>\n",
       "      <th>2</th>\n",
       "      <td>0.216268</td>\n",
       "      <td>0.148044</td>\n",
       "    </tr>\n",
       "    <tr>\n",
       "      <th>3</th>\n",
       "      <td>0.233070</td>\n",
       "      <td>0.145805</td>\n",
       "    </tr>\n",
       "    <tr>\n",
       "      <th>4</th>\n",
       "      <td>0.207238</td>\n",
       "      <td>0.146180</td>\n",
       "    </tr>\n",
       "  </tbody>\n",
       "</table>\n",
       "</div>"
      ],
      "text/plain": [
       "                Train_score  Test_score\n",
       "Shuffled Model                         \n",
       "False    1         0.826332    0.783888\n",
       "         2         0.844863    0.792987\n",
       "         3         0.843371    0.783586\n",
       "         4         0.834645    0.789280\n",
       "True     1         0.203693    0.151368\n",
       "         2         0.216268    0.148044\n",
       "         3         0.233070    0.145805\n",
       "         4         0.207238    0.146180"
      ]
     },
     "execution_count": 6,
     "metadata": {},
     "output_type": "execute_result"
    }
   ],
   "source": [
    "#drop accuracy score, working with f1 score\n",
    "results_df = results_df.drop(columns=['accuracy_score'])\n",
    "\n",
    "train_results_df = results_df.loc[results_df.Type == 'Train']\n",
    "test_results_df = results_df.loc[results_df.Type == 'Test']\n",
    "\n",
    "train_summary = train_results_df.groupby(['Shuffled','Model']).mean().\\\n",
    "drop(columns=['Rep']).\\\n",
    "rename(columns={'f1_score':'Train_score'})\n",
    "\n",
    "test_summary = test_results_df.groupby(['Shuffled','Model']).mean().\\\n",
    "drop(columns=['Rep']).\\\n",
    "rename(columns={'f1_score':'Test_score'})\n",
    "\n",
    "summary_df = pd.concat([train_summary,test_summary],axis = 1)\n",
    "summary_df"
   ]
  },
  {
   "cell_type": "code",
   "execution_count": 7,
   "id": "ae7c8266",
   "metadata": {},
   "outputs": [
    {
     "data": {
      "image/png": "[encoded data removed]",
      "text/plain": [
       "<Figure size 1080x720 with 2 Axes>"
      ]
     },
     "metadata": {},
     "output_type": "display_data"
    }
   ],
   "source": [
    "\n",
    "\n",
    "g = sns.catplot(data = train_results_df, x= 'Model', y = 'f1_score', col = 'Shuffled', hue = 'Model',\\\n",
    "            kind = 'box', col_order = [False,True], col_wrap = 1, aspect = 3, sharey = False)"
   ]
  },
  {
   "cell_type": "code",
   "execution_count": 8,
   "id": "474a3053",
   "metadata": {},
   "outputs": [
    {
     "data": {
      "image/png": "[encoded data removed]",
      "text/plain": [
       "<Figure size 1080x720 with 2 Axes>"
      ]
     },
     "metadata": {},
     "output_type": "display_data"
    }
   ],
   "source": [
    "g = sns.catplot(data = test_results_df, x= 'Model', y = 'f1_score', col = 'Shuffled', hue = 'Model',\\\n",
    "            kind = 'box', col_order = [False,True], col_wrap = 1, aspect = 3, sharey = False)"
   ]
  },
  {
   "cell_type": "code",
   "execution_count": 12,
   "id": "c0b308aa",
   "metadata": {},
   "outputs": [],
   "source": [
    "results_true_df = results_df.loc[results_df.Shuffled == False]"
   ]
  },
  {
   "cell_type": "code",
   "execution_count": 13,
   "id": "b4dfafe4",
   "metadata": {},
   "outputs": [
    {
     "data": {
      "text/html": [
       "<div>\n",
       "<style scoped>\n",
       "    .dataframe tbody tr th:only-of-type {\n",
       "        vertical-align: middle;\n",
       "    }\n",
       "\n",
       "    .dataframe tbody tr th {\n",
       "        vertical-align: top;\n",
       "    }\n",
       "\n",
       "    .dataframe thead th {\n",
       "        text-align: right;\n",
       "    }\n",
       "</style>\n",
       "<table border=\"1\" class=\"dataframe\">\n",
       "  <thead>\n",
       "    <tr style=\"text-align: right;\">\n",
       "      <th></th>\n",
       "      <th>sum_sq</th>\n",
       "      <th>df</th>\n",
       "      <th>F</th>\n",
       "      <th>PR(&gt;F)</th>\n",
       "    </tr>\n",
       "  </thead>\n",
       "  <tbody>\n",
       "    <tr>\n",
       "      <th>C(Model)</th>\n",
       "      <td>0.002719</td>\n",
       "      <td>3.0</td>\n",
       "      <td>27.033662</td>\n",
       "      <td>8.072277e-12</td>\n",
       "    </tr>\n",
       "    <tr>\n",
       "      <th>C(Type)</th>\n",
       "      <td>0.053851</td>\n",
       "      <td>1.0</td>\n",
       "      <td>1606.210252</td>\n",
       "      <td>5.630225e-51</td>\n",
       "    </tr>\n",
       "    <tr>\n",
       "      <th>C(Model):C(Type)</th>\n",
       "      <td>0.000708</td>\n",
       "      <td>3.0</td>\n",
       "      <td>7.035046</td>\n",
       "      <td>3.254785e-04</td>\n",
       "    </tr>\n",
       "    <tr>\n",
       "      <th>Residual</th>\n",
       "      <td>0.002414</td>\n",
       "      <td>72.0</td>\n",
       "      <td>NaN</td>\n",
       "      <td>NaN</td>\n",
       "    </tr>\n",
       "  </tbody>\n",
       "</table>\n",
       "</div>"
      ],
      "text/plain": [
       "                    sum_sq    df            F        PR(>F)\n",
       "C(Model)          0.002719   3.0    27.033662  8.072277e-12\n",
       "C(Type)           0.053851   1.0  1606.210252  5.630225e-51\n",
       "C(Model):C(Type)  0.000708   3.0     7.035046  3.254785e-04\n",
       "Residual          0.002414  72.0          NaN           NaN"
      ]
     },
     "execution_count": 13,
     "metadata": {},
     "output_type": "execute_result"
    }
   ],
   "source": [
    "# Run ANOVA\n",
    "model = ols('F1_score ~ C(Model)*C(Type)', results_true_df).fit()\n",
    "\n",
    "# Creates the ANOVA table\n",
    "res = sm.stats.anova_lm(model, typ= 2)\n",
    "res"
   ]
  },
  {
   "cell_type": "code",
   "execution_count": 14,
   "id": "4ddca7cf",
   "metadata": {},
   "outputs": [
    {
     "name": "stdout",
     "output_type": "stream",
     "text": [
      "   Multiple Comparison of Means - Tukey HSD, FWER=0.05    \n",
      "==========================================================\n",
      "  group1    group2  meandiff p-adj   lower   upper  reject\n",
      "----------------------------------------------------------\n",
      " 1 - Test 1 - Train   0.0471  0.001   0.039  0.0552   True\n",
      " 1 - Test  2 - Test   0.0139  0.001  0.0058   0.022   True\n",
      " 1 - Test 2 - Train    0.066  0.001  0.0579  0.0741   True\n",
      " 1 - Test  3 - Test   0.0025    0.9 -0.0056  0.0106  False\n",
      " 1 - Test 3 - Train    0.064  0.001  0.0559  0.0721   True\n",
      " 1 - Test  4 - Test   0.0091 0.0173   0.001  0.0172   True\n",
      " 1 - Test 4 - Train   0.0559  0.001  0.0478  0.0639   True\n",
      "1 - Train  2 - Test  -0.0332  0.001 -0.0413 -0.0251   True\n",
      "1 - Train 2 - Train   0.0189  0.001  0.0108   0.027   True\n",
      "1 - Train  3 - Test  -0.0446  0.001 -0.0527 -0.0365   True\n",
      "1 - Train 3 - Train   0.0169  0.001  0.0088   0.025   True\n",
      "1 - Train  4 - Test   -0.038  0.001 -0.0461   -0.03   True\n",
      "1 - Train 4 - Train   0.0087 0.0247  0.0007  0.0168   True\n",
      " 2 - Test 2 - Train   0.0521  0.001  0.0441  0.0602   True\n",
      " 2 - Test  3 - Test  -0.0114  0.001 -0.0195 -0.0033   True\n",
      " 2 - Test 3 - Train   0.0501  0.001   0.042  0.0582   True\n",
      " 2 - Test  4 - Test  -0.0048 0.5711 -0.0129  0.0033  False\n",
      " 2 - Test 4 - Train    0.042  0.001  0.0339  0.0501   True\n",
      "2 - Train  3 - Test  -0.0635  0.001 -0.0716 -0.0555   True\n",
      "2 - Train 3 - Train   -0.002    0.9 -0.0101  0.0061  False\n",
      "2 - Train  4 - Test   -0.057  0.001  -0.065 -0.0489   True\n",
      "2 - Train 4 - Train  -0.0102 0.0046 -0.0182 -0.0021   True\n",
      " 3 - Test 3 - Train   0.0615  0.001  0.0534  0.0696   True\n",
      " 3 - Test  4 - Test   0.0066 0.1951 -0.0015  0.0147  False\n",
      " 3 - Test 4 - Train   0.0534  0.001  0.0453  0.0615   True\n",
      "3 - Train  4 - Test  -0.0549  0.001  -0.063 -0.0469   True\n",
      "3 - Train 4 - Train  -0.0081 0.0472 -0.0162 -0.0001   True\n",
      " 4 - Test 4 - Train   0.0468  0.001  0.0387  0.0549   True\n",
      "----------------------------------------------------------\n"
     ]
    }
   ],
   "source": [
    "groups =  results_true_df['Model'].map(str) + ' - ' + results_true_df['Type'].map(str)\n",
    "\n",
    "mc = statsmodels.stats.multicomp.MultiComparison(results_true_df['F1_score'],groups)\n",
    "mc_results = mc.tukeyhsd()\n",
    "print(mc_results)\n"
   ]
  },
  {
   "cell_type": "code",
   "execution_count": null,
   "id": "850ae961",
   "metadata": {},
   "outputs": [],
   "source": []
  },
  {
   "cell_type": "code",
   "execution_count": 15,
   "id": "e707814f",
   "metadata": {},
   "outputs": [],
   "source": [
    "test_results_true_df = results_df.loc[(results_df.Type == 'Test')&(results_df.Shuffled == False)]\n",
    "train_results_true_df = results_df.loc[(results_df.Type == 'Train')&(results_df.Shuffled == False)]\n"
   ]
  },
  {
   "cell_type": "code",
   "execution_count": 16,
   "id": "bff6ff8b",
   "metadata": {},
   "outputs": [
    {
     "data": {
      "text/html": [
       "<div>\n",
       "<style scoped>\n",
       "    .dataframe tbody tr th:only-of-type {\n",
       "        vertical-align: middle;\n",
       "    }\n",
       "\n",
       "    .dataframe tbody tr th {\n",
       "        vertical-align: top;\n",
       "    }\n",
       "\n",
       "    .dataframe thead th {\n",
       "        text-align: right;\n",
       "    }\n",
       "</style>\n",
       "<table border=\"1\" class=\"dataframe\">\n",
       "  <thead>\n",
       "    <tr style=\"text-align: right;\">\n",
       "      <th></th>\n",
       "      <th>sum_sq</th>\n",
       "      <th>df</th>\n",
       "      <th>F</th>\n",
       "      <th>PR(&gt;F)</th>\n",
       "    </tr>\n",
       "  </thead>\n",
       "  <tbody>\n",
       "    <tr>\n",
       "      <th>C(Model)</th>\n",
       "      <td>0.002233</td>\n",
       "      <td>3.0</td>\n",
       "      <td>173.925016</td>\n",
       "      <td>1.788361e-21</td>\n",
       "    </tr>\n",
       "    <tr>\n",
       "      <th>Residual</th>\n",
       "      <td>0.000154</td>\n",
       "      <td>36.0</td>\n",
       "      <td>NaN</td>\n",
       "      <td>NaN</td>\n",
       "    </tr>\n",
       "  </tbody>\n",
       "</table>\n",
       "</div>"
      ],
      "text/plain": [
       "            sum_sq    df           F        PR(>F)\n",
       "C(Model)  0.002233   3.0  173.925016  1.788361e-21\n",
       "Residual  0.000154  36.0         NaN           NaN"
      ]
     },
     "execution_count": 16,
     "metadata": {},
     "output_type": "execute_result"
    }
   ],
   "source": [
    "# Run ANOVA\n",
    "model = ols('F1_score ~ C(Model)', train_results_true_df).fit()\n",
    "\n",
    "# Creates the ANOVA table\n",
    "res = sm.stats.anova_lm(model, typ= 2)\n",
    "res"
   ]
  },
  {
   "cell_type": "code",
   "execution_count": 17,
   "id": "de253cf4",
   "metadata": {},
   "outputs": [
    {
     "name": "stdout",
     "output_type": "stream",
     "text": [
      "Multiple Comparison of Means - Tukey HSD, FWER=0.05 \n",
      "====================================================\n",
      "group1 group2 meandiff p-adj   lower   upper  reject\n",
      "----------------------------------------------------\n",
      "     1      2   0.0189  0.001  0.0164  0.0214   True\n",
      "     1      3   0.0169  0.001  0.0144  0.0194   True\n",
      "     1      4   0.0087  0.001  0.0063  0.0112   True\n",
      "     2      3   -0.002 0.1468 -0.0045  0.0005  False\n",
      "     2      4  -0.0102  0.001 -0.0127 -0.0077   True\n",
      "     3      4  -0.0081  0.001 -0.0106 -0.0056   True\n",
      "----------------------------------------------------\n"
     ]
    }
   ],
   "source": [
    "groups =  train_results_true_df['Model'].map(str) #+ ' - ' + test_results_true_df['Shuffled'].map(str)\n",
    "\n",
    "mc = statsmodels.stats.multicomp.MultiComparison(train_results_true_df['F1_score'],groups)\n",
    "mc_results = mc.tukeyhsd()\n",
    "print(mc_results)\n",
    "\n",
    "#p_values = psturng(np.abs(mc_results.meandiffs / mc_results.std_pairs), len(mc_results.groupsunique), mc_results.df_total)"
   ]
  },
  {
   "cell_type": "code",
   "execution_count": 18,
   "id": "b0ae0b21",
   "metadata": {},
   "outputs": [
    {
     "data": {
      "text/html": [
       "<div>\n",
       "<style scoped>\n",
       "    .dataframe tbody tr th:only-of-type {\n",
       "        vertical-align: middle;\n",
       "    }\n",
       "\n",
       "    .dataframe tbody tr th {\n",
       "        vertical-align: top;\n",
       "    }\n",
       "\n",
       "    .dataframe thead th {\n",
       "        text-align: right;\n",
       "    }\n",
       "</style>\n",
       "<table border=\"1\" class=\"dataframe\">\n",
       "  <thead>\n",
       "    <tr style=\"text-align: right;\">\n",
       "      <th></th>\n",
       "      <th>Shuffled</th>\n",
       "      <th>Model</th>\n",
       "      <th>Train_score</th>\n",
       "      <th>Test_score</th>\n",
       "    </tr>\n",
       "  </thead>\n",
       "  <tbody>\n",
       "    <tr>\n",
       "      <th>1</th>\n",
       "      <td>False</td>\n",
       "      <td>2</td>\n",
       "      <td>0.844987</td>\n",
       "      <td>0.792849</td>\n",
       "    </tr>\n",
       "    <tr>\n",
       "      <th>2</th>\n",
       "      <td>False</td>\n",
       "      <td>3</td>\n",
       "      <td>0.842966</td>\n",
       "      <td>0.781450</td>\n",
       "    </tr>\n",
       "    <tr>\n",
       "      <th>3</th>\n",
       "      <td>False</td>\n",
       "      <td>4</td>\n",
       "      <td>0.834826</td>\n",
       "      <td>0.788032</td>\n",
       "    </tr>\n",
       "    <tr>\n",
       "      <th>0</th>\n",
       "      <td>False</td>\n",
       "      <td>1</td>\n",
       "      <td>0.826076</td>\n",
       "      <td>0.778965</td>\n",
       "    </tr>\n",
       "  </tbody>\n",
       "</table>\n",
       "</div>"
      ],
      "text/plain": [
       "   Shuffled  Model  Train_score  Test_score\n",
       "1     False      2     0.844987    0.792849\n",
       "2     False      3     0.842966    0.781450\n",
       "3     False      4     0.834826    0.788032\n",
       "0     False      1     0.826076    0.778965"
      ]
     },
     "execution_count": 18,
     "metadata": {},
     "output_type": "execute_result"
    }
   ],
   "source": [
    "#put things in dataframe and sort\n",
    "summary_df.reset_index().loc[summary_df.reset_index().Shuffled == False].\\\n",
    "sort_values(by=['Train_score','Test_score'],ascending = False)#.reset_index().lo"
   ]
  },
  {
   "cell_type": "code",
   "execution_count": null,
   "id": "8749403d",
   "metadata": {},
   "outputs": [],
   "source": []
  },
  {
   "cell_type": "code",
   "execution_count": null,
   "id": "44a53d01",
   "metadata": {},
   "outputs": [],
   "source": []
  },
  {
   "cell_type": "code",
   "execution_count": 19,
   "id": "8a4ebf85",
   "metadata": {},
   "outputs": [
    {
     "data": {
      "text/plain": [
       "<AxesSubplot:>"
      ]
     },
     "execution_count": 19,
     "metadata": {},
     "output_type": "execute_result"
    },
    {
     "data": {
      "image/png": "[encoded data removed]",
      "text/plain": [
       "<Figure size 432x288 with 1 Axes>"
      ]
     },
     "metadata": {},
     "output_type": "display_data"
    }
   ],
   "source": [
    "#checking correlaiton between train and test values - True data\n",
    "\n",
    "X = results_df.loc[(results_df.Type == 'Train')&(results_df.Shuffled == False)]['F1_score'].values\n",
    "Y = results_df.loc[(results_df.Type == 'Test')&(results_df.Shuffled == False)]['F1_score'].values\n",
    "\n",
    "sns.scatterplot(x = X, y = Y)"
   ]
  },
  {
   "cell_type": "code",
   "execution_count": 20,
   "id": "5d3586a7",
   "metadata": {},
   "outputs": [
    {
     "data": {
      "text/plain": [
       "<AxesSubplot:>"
      ]
     },
     "execution_count": 20,
     "metadata": {},
     "output_type": "execute_result"
    },
    {
     "data": {
      "image/png": "[encoded data removed]",
      "text/plain": [
       "<Figure size 432x288 with 1 Axes>"
      ]
     },
     "metadata": {},
     "output_type": "display_data"
    }
   ],
   "source": [
    "#checking correlaiton between train and test values - Shuffled data\n",
    "X = results_df.loc[(results_df.Type == 'Train')&(results_df.Shuffled == True)]['F1_score'].values\n",
    "Y = results_df.loc[(results_df.Type == 'Test')&(results_df.Shuffled == True)]['F1_score'].values\n",
    "\n",
    "sns.scatterplot(x = X, y = Y)"
   ]
  },
  {
   "cell_type": "code",
   "execution_count": 17,
   "id": "931d6b7e",
   "metadata": {},
   "outputs": [],
   "source": [
    "X = results_df.loc[(results_df.Type == 'Train')&(results_df.Type == 'Test')]"
   ]
  },
  {
   "cell_type": "code",
   "execution_count": null,
   "id": "96f55299",
   "metadata": {},
   "outputs": [],
   "source": []
  },
  {
   "cell_type": "code",
   "execution_count": 18,
   "id": "68d39f6d",
   "metadata": {},
   "outputs": [],
   "source": [
    "results_df.loc[results_df.Type=='Test','Type'] = 'Validation'"
   ]
  },
  {
   "cell_type": "code",
   "execution_count": 31,
   "id": "81272f74",
   "metadata": {},
   "outputs": [
    {
     "name": "stdout",
     "output_type": "stream",
     "text": [
      "=======================\n",
      "./EMG_data/17\n",
      "=======================\n",
      "./EMG_data/23\n",
      "=======================\n",
      "./EMG_data/07\n",
      "=======================\n",
      "./EMG_data/08\n",
      "=======================\n",
      "./EMG_data/03\n"
     ]
    }
   ],
   "source": [
    "#define where the data files are located\n",
    "data_folder = './EMG_data/'\n",
    "\n",
    "nsubjects = 36\n",
    "\n",
    "#randomly-selected subjects to use as hold-out test data \n",
    "test_subjects = np.array([17, 23,  7,  8,  3])\n",
    "\n",
    "# User-defined parameters\n",
    "lo_freq = 20 #lower bound of bandpass filter\n",
    "hi_freq = 450 #upper bound of bandpass filter\n",
    "\n",
    "win_size = 100 #define window size over which to compute time-domain features\n",
    "step = win_size #keeping this parameter in case we want to re-run later with some overlap\n",
    "\n",
    "#excluded labels\n",
    "exclude = [0,7]\n",
    "\n",
    "#intialize empty lists\n",
    "feature_matrix_all = np.empty((0,0))\n",
    "target_labels_all = np.empty((0,))\n",
    "window_tstamps_all = np.empty((0,))\n",
    "block_labels_all  = np.empty((0,))\n",
    "series_labels_all  = np.empty((0,))\n",
    "\n",
    "subject_id_all = np.empty((0,))\n",
    "block_count = 0\n",
    "\n",
    "for subject_id in test_subjects:\n",
    "\n",
    "    subject_folder = os.path.join(data_folder,'%02d'%(subject_id))\n",
    "    print('=======================')\n",
    "    print(subject_folder)\n",
    "\n",
    "    # Process data and get features \n",
    "    #get features across segments and corresponding info\n",
    "    feature_matrix, target_labels, window_tstamps, \\\n",
    "    block_labels, series_labels = get_subject_data_for_classification(subject_folder, lo_freq, hi_freq, \\\n",
    "                                                                    win_size, step)\n",
    "\n",
    "    #prevent repeat of block labels by increasing block count\n",
    "    block_labels = block_labels+block_count\n",
    "    block_count = np.max([block_count, np.max(block_labels)])\n",
    "    #exclude indicated samples\n",
    "    in_samples = np.where(np.isin(target_labels,exclude, invert = True))[0]\n",
    "    feature_matrix_in = feature_matrix[in_samples,:]\n",
    "    target_labels_in = target_labels[in_samples]\n",
    "    window_tstamps_in = window_tstamps[in_samples]\n",
    "    block_labels_in = block_labels[in_samples]\n",
    "    series_labels_in = series_labels[in_samples]\n",
    "    # concatenate lists\n",
    "    feature_matrix_all = np.vstack((feature_matrix_all,feature_matrix_in)) if feature_matrix_all.size else feature_matrix_in\n",
    "    target_labels_all = np.hstack((target_labels_all,target_labels_in))\n",
    "    window_tstamps_all = np.hstack((window_tstamps_all,window_tstamps_in))\n",
    "    block_labels_all = np.hstack((block_labels_all,block_labels_in))\n",
    "    series_labels_all = np.hstack((series_labels_all,series_labels_in))\n",
    "    subject_id_all = np.hstack((subject_id_all,np.ones((block_labels_in.size))*subject_id))\n"
   ]
  },
  {
   "cell_type": "code",
   "execution_count": 32,
   "id": "519effd9",
   "metadata": {},
   "outputs": [],
   "source": [
    "def permute_class_within_sub(target_labels, block_labels, sub_labels):\n",
    "    subs = np.unique(sub_labels)\n",
    "    #permute labels within each subject\n",
    "    class_perm = np.empty((0,))\n",
    "    for s in subs:\n",
    "        sub_idxs = np.where(sub_labels==s)[0]\n",
    "        blocks_sub = block_labels[sub_idxs]\n",
    "        class_sub = target_labels[sub_idxs]\n",
    "\n",
    "        class_sub_perm, dummy = permute_class_blocks(blocks_sub, class_sub)\n",
    "        class_perm = np.hstack((class_perm, class_sub_perm))\n",
    "    target_labels = class_perm.copy()\n",
    "    return target_labels"
   ]
  },
  {
   "cell_type": "code",
   "execution_count": 33,
   "id": "1d07ab1c",
   "metadata": {},
   "outputs": [],
   "source": [
    "import pickle\n",
    "from tensorflow import keras"
   ]
  },
  {
   "cell_type": "code",
   "execution_count": 34,
   "id": "1031c3f9",
   "metadata": {},
   "outputs": [
    {
     "name": "stderr",
     "output_type": "stream",
     "text": [
      "/Users/cesar/anaconda2/envs/EMG/lib/python3.6/site-packages/sklearn/base.py:315: UserWarning: Trying to unpickle estimator StandardScaler from version 0.22.2.post1 when using version 0.24.2. This might lead to breaking code or invalid results. Use at your own risk.\n",
      "  UserWarning)\n"
     ]
    }
   ],
   "source": [
    "model_folder = './model_data/xsubject_joint_data/RNN/'\n",
    "#load scaler\n",
    "scaler_fn = 'scaler_all_training_data.pkl'\n",
    "with open(os.path.join(model_folder,scaler_fn), \"rb\") as input_file:\n",
    "    scaler = pickle.load(input_file)"
   ]
  },
  {
   "cell_type": "code",
   "execution_count": 35,
   "id": "0b1ea962",
   "metadata": {},
   "outputs": [
    {
     "name": "stdout",
     "output_type": "stream",
     "text": [
      "17 0\n",
      "23 0\n",
      "7 0\n",
      "8 0\n",
      "3 0\n",
      "17 1\n",
      "23 1\n",
      "7 1\n",
      "8 1\n",
      "3 1\n",
      "17 2\n",
      "23 2\n",
      "7 2\n",
      "8 2\n",
      "3 2\n",
      "17 3\n",
      "23 3\n",
      "7 3\n",
      "8 3\n",
      "3 3\n",
      "17 4\n",
      "23 4\n",
      "7 4\n",
      "8 4\n",
      "3 4\n",
      "17 5\n",
      "23 5\n",
      "7 5\n",
      "8 5\n",
      "3 5\n",
      "17 6\n",
      "23 6\n",
      "7 6\n",
      "8 6\n",
      "3 6\n",
      "17 7\n",
      "23 7\n",
      "7 7\n",
      "8 7\n",
      "3 7\n",
      "17 8\n",
      "23 8\n",
      "7 8\n",
      "8 8\n",
      "3 8\n",
      "17 9\n",
      "23 9\n",
      "7 9\n",
      "8 9\n",
      "3 9\n"
     ]
    }
   ],
   "source": [
    "test_results_df = []\n",
    "nreps = 10\n",
    "for rep in range(nreps):\n",
    "    model_fn = os.path.join(model_folder, 'model_rep_%i_all_train_data.h5'%(rep))\n",
    "    trained_model = keras.models.load_model(model_fn)\n",
    "    \n",
    "    target_labels_perm = permute_class_within_sub(target_labels_all, block_labels_all, subject_id_all)\n",
    "\n",
    "    test_f1_scores = np.empty((test_subjects.size))\n",
    "    test_f1_perm_scores = np.empty((test_subjects.size))\n",
    "    for sub_idx, subject_id in enumerate(test_subjects):\n",
    "        print(subject_id, rep)\n",
    "\n",
    "        sub_idxs = np.where(subject_id_all==subject_id)[0]\n",
    "        X_test = feature_matrix_all[sub_idxs,:].T\n",
    "        y_test = target_labels_all[sub_idxs]\n",
    "        #one-hot encoding of class labels\n",
    "        y_test = to_categorical(y_test-np.min(y_test))\n",
    "        win_blocks_test = block_labels_all[sub_idxs]\n",
    "\n",
    "        # select test data and pad to get an array where each sample has same number of timesteps\n",
    "\n",
    "        #get data cube\n",
    "        X_test_cube, Y_test_cube, scaler = get_data_cube(X_test, y_test, win_blocks_test, train = False, scaler = scaler, magic_value = -100)\n",
    "\n",
    "        test_f1_scores[sub_idx] = get_RNN_f1(X_test_cube, Y_test_cube, trained_model)\n",
    "        \n",
    "        y_test = target_labels_perm[sub_idxs]\n",
    "        y_test = to_categorical(y_test-np.min(y_test))\n",
    "        #get data cube\n",
    "        X_test_cube, Y_test_cube, scaler = get_data_cube(X_test, y_test, win_blocks_test, train = False, scaler = scaler, magic_value = -100)\n",
    "\n",
    "        test_f1_perm_scores[sub_idx] = get_RNN_f1(X_test_cube, Y_test_cube, trained_model)\n",
    "        \n",
    "    #put results in dataframe\n",
    "    test_results_df.append(pd.DataFrame({'F1_score':test_f1_scores,\\\n",
    "                                         'Subject':test_subjects,\\\n",
    "                'Rep':[rep+1 for x in range(test_f1_scores.size)],\\\n",
    "                'Type':['Test' for x in range(test_f1_scores.size)],\\\n",
    "                'Shuffled':[False for x in range(test_f1_scores.size)]\n",
    "                }))\n",
    "    test_results_df.append(pd.DataFrame({'F1_score':test_f1_perm_scores,\\\n",
    "                                         'Subject':test_subjects,\\\n",
    "                'Rep':[rep+1 for x in range(test_f1_perm_scores.size)],\\\n",
    "                'Type':['Test' for x in range(test_f1_perm_scores.size)],\\\n",
    "                'Shuffled':[True for x in range(test_f1_perm_scores.size)]\n",
    "                }))\n",
    "test_results_df = pd.concat(test_results_df, axis = 0)"
   ]
  },
  {
   "cell_type": "code",
   "execution_count": 48,
   "id": "8ab57790",
   "metadata": {},
   "outputs": [
    {
     "data": {
      "text/html": [
       "<div>\n",
       "<style scoped>\n",
       "    .dataframe tbody tr th:only-of-type {\n",
       "        vertical-align: middle;\n",
       "    }\n",
       "\n",
       "    .dataframe tbody tr th {\n",
       "        vertical-align: top;\n",
       "    }\n",
       "\n",
       "    .dataframe thead th {\n",
       "        text-align: right;\n",
       "    }\n",
       "</style>\n",
       "<table border=\"1\" class=\"dataframe\">\n",
       "  <thead>\n",
       "    <tr style=\"text-align: right;\">\n",
       "      <th></th>\n",
       "      <th></th>\n",
       "      <th></th>\n",
       "      <th>F1_score</th>\n",
       "      <th>Rep</th>\n",
       "    </tr>\n",
       "    <tr>\n",
       "      <th>Type</th>\n",
       "      <th>Shuffled</th>\n",
       "      <th>Subject</th>\n",
       "      <th></th>\n",
       "      <th></th>\n",
       "    </tr>\n",
       "  </thead>\n",
       "  <tbody>\n",
       "    <tr>\n",
       "      <th rowspan=\"10\" valign=\"top\">Test</th>\n",
       "      <th rowspan=\"5\" valign=\"top\">False</th>\n",
       "      <th>3</th>\n",
       "      <td>0.917813</td>\n",
       "      <td>5.5</td>\n",
       "    </tr>\n",
       "    <tr>\n",
       "      <th>7</th>\n",
       "      <td>0.441177</td>\n",
       "      <td>5.5</td>\n",
       "    </tr>\n",
       "    <tr>\n",
       "      <th>8</th>\n",
       "      <td>0.949749</td>\n",
       "      <td>5.5</td>\n",
       "    </tr>\n",
       "    <tr>\n",
       "      <th>17</th>\n",
       "      <td>0.931676</td>\n",
       "      <td>5.5</td>\n",
       "    </tr>\n",
       "    <tr>\n",
       "      <th>23</th>\n",
       "      <td>0.935168</td>\n",
       "      <td>5.5</td>\n",
       "    </tr>\n",
       "    <tr>\n",
       "      <th rowspan=\"5\" valign=\"top\">True</th>\n",
       "      <th>3</th>\n",
       "      <td>0.171777</td>\n",
       "      <td>5.5</td>\n",
       "    </tr>\n",
       "    <tr>\n",
       "      <th>7</th>\n",
       "      <td>0.117998</td>\n",
       "      <td>5.5</td>\n",
       "    </tr>\n",
       "    <tr>\n",
       "      <th>8</th>\n",
       "      <td>0.141457</td>\n",
       "      <td>5.5</td>\n",
       "    </tr>\n",
       "    <tr>\n",
       "      <th>17</th>\n",
       "      <td>0.162160</td>\n",
       "      <td>5.5</td>\n",
       "    </tr>\n",
       "    <tr>\n",
       "      <th>23</th>\n",
       "      <td>0.161369</td>\n",
       "      <td>5.5</td>\n",
       "    </tr>\n",
       "  </tbody>\n",
       "</table>\n",
       "</div>"
      ],
      "text/plain": [
       "                       F1_score  Rep\n",
       "Type Shuffled Subject               \n",
       "Test False    3        0.917813  5.5\n",
       "              7        0.441177  5.5\n",
       "              8        0.949749  5.5\n",
       "              17       0.931676  5.5\n",
       "              23       0.935168  5.5\n",
       "     True     3        0.171777  5.5\n",
       "              7        0.117998  5.5\n",
       "              8        0.141457  5.5\n",
       "              17       0.162160  5.5\n",
       "              23       0.161369  5.5"
      ]
     },
     "execution_count": 48,
     "metadata": {},
     "output_type": "execute_result"
    }
   ],
   "source": [
    "test_results_df.groupby(['Type','Shuffled','Subject']).mean()"
   ]
  },
  {
   "cell_type": "code",
   "execution_count": 36,
   "id": "0ab40774",
   "metadata": {},
   "outputs": [
    {
     "data": {
      "text/plain": [
       "<AxesSubplot:xlabel='Shuffled', ylabel='F1_score'>"
      ]
     },
     "execution_count": 36,
     "metadata": {},
     "output_type": "execute_result"
    },
    {
     "data": {
      "image/png": "[encoded data removed]",
      "text/plain": [
       "<Figure size 432x288 with 1 Axes>"
      ]
     },
     "metadata": {},
     "output_type": "display_data"
    }
   ],
   "source": [
    "sns.boxplot(data = test_results_df, x = 'Shuffled', y = 'F1_score')"
   ]
  },
  {
   "cell_type": "code",
   "execution_count": null,
   "id": "d83ddd02",
   "metadata": {},
   "outputs": [],
   "source": []
  },
  {
   "cell_type": "code",
   "execution_count": 37,
   "id": "1f863359",
   "metadata": {},
   "outputs": [
    {
     "name": "stdout",
     "output_type": "stream",
     "text": [
      "17 0\n",
      "0.8144950000111492\n"
     ]
    }
   ],
   "source": [
    "rep = 0\n",
    "subject_id = test_subjects[0]\n",
    "model_fn = os.path.join(model_folder, 'model_rep_%i_all_train_data.h5'%(rep))\n",
    "trained_model = keras.models.load_model(model_fn)\n",
    "\n",
    "\n",
    "test_f1_scores = np.empty((test_subjects.size))\n",
    "test_f1_perm_scores = np.empty((test_subjects.size))\n",
    "\n",
    "\n",
    "print(subject_id, rep)\n",
    "\n",
    "sub_idxs = np.where(subject_id_all==subject_id)[0]\n",
    "\n",
    "X_tmp = feature_matrix_all[sub_idxs,:].T\n",
    "y_tmp = target_labels_all[sub_idxs]\n",
    "\n",
    "series_idxs = np.where(series_labels_all[sub_idxs]==0)[0]\n",
    "X_test = X_tmp[:,series_idxs]\n",
    "y_test = y_tmp[series_idxs]\n",
    "\n",
    "\n",
    "#one-hot encoding of class labels\n",
    "y_test = to_categorical(y_test-np.min(y_test))\n",
    "win_blocks_test = block_labels_all[sub_idxs][series_idxs]\n",
    "\n",
    "# select test data and pad to get an array where each sample has same number of timesteps\n",
    "\n",
    "#get data cube\n",
    "X_test_cube, Y_test_cube, scaler = get_data_cube(X_test, y_test, win_blocks_test, train = False, scaler = scaler, magic_value = -100)\n",
    "\n",
    "print(get_RNN_f1(X_test_cube, Y_test_cube, trained_model))"
   ]
  },
  {
   "cell_type": "code",
   "execution_count": 77,
   "id": "168080ec",
   "metadata": {
    "scrolled": true
   },
   "outputs": [
    {
     "data": {
      "text/plain": [
       "(16, 207)"
      ]
     },
     "execution_count": 77,
     "metadata": {},
     "output_type": "execute_result"
    }
   ],
   "source": [
    "X_test.shape"
   ]
  },
  {
   "cell_type": "code",
   "execution_count": 49,
   "id": "4d384eb8",
   "metadata": {},
   "outputs": [
    {
     "data": {
      "text/plain": [
       "(12, 19, 16)"
      ]
     },
     "execution_count": 49,
     "metadata": {},
     "output_type": "execute_result"
    }
   ],
   "source": [
    "X_test_cube.shape"
   ]
  },
  {
   "cell_type": "code",
   "execution_count": 76,
   "id": "4a07c809",
   "metadata": {},
   "outputs": [],
   "source": [
    "X = X_test_cube.copy()\n",
    "Y = Y_test_cube.copy()\n",
    "\n",
    "nonmasked_idxs = np.where(X[:,:,0].flatten()!=-100)[0]\n",
    "\n",
    "# Get target labels for non-masked timepoints\n",
    "y_true_fxn = np.argmax(Y,2).flatten()[nonmasked_idxs]\n",
    "\n",
    "# Get model predictions for non-masked timepoints\n",
    "preds = trained_model.predict(X)\n",
    "y_pred_fxn = np.argmax(preds,2)#.flatten()[nonmasked_idxs]"
   ]
  },
  {
   "cell_type": "code",
   "execution_count": 104,
   "id": "09a2ac01",
   "metadata": {},
   "outputs": [
    {
     "data": {
      "text/plain": [
       "(12, 19)"
      ]
     },
     "execution_count": 104,
     "metadata": {},
     "output_type": "execute_result"
    }
   ],
   "source": [
    "y_pred_fxn.shape"
   ]
  },
  {
   "cell_type": "code",
   "execution_count": 51,
   "id": "85e395fc",
   "metadata": {},
   "outputs": [
    {
     "data": {
      "text/plain": [
       "(12, 19)"
      ]
     },
     "execution_count": 51,
     "metadata": {},
     "output_type": "execute_result"
    }
   ],
   "source": [
    "y_pred_fn.shape"
   ]
  },
  {
   "cell_type": "code",
   "execution_count": 48,
   "id": "97f4c13f",
   "metadata": {},
   "outputs": [
    {
     "data": {
      "text/plain": [
       "(16, 207)"
      ]
     },
     "execution_count": 48,
     "metadata": {},
     "output_type": "execute_result"
    }
   ],
   "source": [
    "X_test.shape"
   ]
  },
  {
   "cell_type": "code",
   "execution_count": 58,
   "id": "79b4b588",
   "metadata": {},
   "outputs": [
    {
     "name": "stdout",
     "output_type": "stream",
     "text": [
      "=======================\n",
      "./EMG_data/17\n"
     ]
    }
   ],
   "source": [
    "\n",
    "\n",
    "subject_folder = os.path.join(data_folder,'%02d'%(subject_id))\n",
    "print('=======================')\n",
    "print(subject_folder)\n",
    "\n",
    "# Process data and get features \n",
    "#get features across segments and corresponding info\n",
    "feature_matrix_sub, target_labels_sub, window_tstamps_sub, \\\n",
    "block_labels_sub, series_labels_sub = get_subject_data_for_classification(subject_folder, lo_freq, hi_freq, \\\n",
    "                                                                win_size, step)"
   ]
  },
  {
   "cell_type": "code",
   "execution_count": 90,
   "id": "6d1d36e0",
   "metadata": {},
   "outputs": [
    {
     "name": "stdout",
     "output_type": "stream",
     "text": [
      "[ 0.  1.  2.  3.  4.  5.  6.  7.  8.  9. 10. 11. 12. 13. 14. 15. 16. 17.\n",
      " 18. 19. 20. 21. 22. 23. 24. 25. 26. 27. 28. 29. 30. 31. 32. 33. 34. 35.\n",
      " 36. 37. 38. 39. 40. 41. 42. 43. 44. 45. 46. 47. 48.] [0. 1. 0. 2. 0. 3. 0. 4. 0. 5. 0. 6. 0. 1. 0. 2. 0. 3. 0. 4. 0. 5. 0. 6.\n",
      " 0. 1. 0. 2. 0. 3. 0. 4. 0. 5. 0. 6. 0. 1. 0. 2. 0. 3. 0. 4. 0. 5. 0. 6.\n",
      " 0.]\n"
     ]
    }
   ],
   "source": [
    "blocks = np.array([k for k,g in groupby(block_labels_sub)])\n",
    "classes = np.array([k for k,g in groupby(target_labels_sub)])\n",
    "\n",
    "print(blocks,classes)"
   ]
  },
  {
   "cell_type": "code",
   "execution_count": null,
   "id": "b539a457",
   "metadata": {},
   "outputs": [],
   "source": []
  },
  {
   "cell_type": "code",
   "execution_count": 59,
   "id": "4806da3e",
   "metadata": {},
   "outputs": [
    {
     "data": {
      "text/plain": [
       "(1346, 16)"
      ]
     },
     "execution_count": 59,
     "metadata": {},
     "output_type": "execute_result"
    }
   ],
   "source": [
    "feature_matrix_sub.shape"
   ]
  },
  {
   "cell_type": "code",
   "execution_count": 81,
   "id": "3aa2cec2",
   "metadata": {
    "scrolled": true
   },
   "outputs": [
    {
     "data": {
      "text/plain": [
       "(16, 207)"
      ]
     },
     "execution_count": 81,
     "metadata": {},
     "output_type": "execute_result"
    }
   ],
   "source": [
    "X_test.shape"
   ]
  },
  {
   "cell_type": "code",
   "execution_count": 151,
   "id": "54a12357",
   "metadata": {},
   "outputs": [],
   "source": [
    "series_idxs = np.where(series_labels_sub==0)[0]\n",
    "\n",
    "exclude_idxs = np.where(target_labels_sub[series_idxs]==0)[0]\n",
    "\n",
    "X_test_sub = feature_matrix_sub[series_idxs,:]\n",
    "X_test_sub = scaler.transform(X_test_sub)\n",
    "X_test_sub[exclude_idxs,:] = -100\n",
    "X_test_sub = np.expand_dims(X_test_sub,0)\n",
    "\n"
   ]
  },
  {
   "cell_type": "code",
   "execution_count": 149,
   "id": "6aaae5b0",
   "metadata": {},
   "outputs": [],
   "source": []
  },
  {
   "cell_type": "code",
   "execution_count": 152,
   "id": "841c1c2d",
   "metadata": {},
   "outputs": [],
   "source": [
    "y_prob = np.squeeze(trained_model.predict(X_test_sub))\n",
    "\n",
    "y_pred = np.argmax(y_prob,1)+1"
   ]
  },
  {
   "cell_type": "code",
   "execution_count": 150,
   "id": "ec1b3a2b",
   "metadata": {},
   "outputs": [
    {
     "data": {
      "text/plain": [
       "(1346, 16)"
      ]
     },
     "execution_count": 150,
     "metadata": {},
     "output_type": "execute_result"
    }
   ],
   "source": [
    "feature_matrix_sub.shape"
   ]
  },
  {
   "cell_type": "code",
   "execution_count": null,
   "id": "9bb09f20",
   "metadata": {},
   "outputs": [],
   "source": []
  },
  {
   "cell_type": "code",
   "execution_count": 153,
   "id": "a0c3e3ff",
   "metadata": {},
   "outputs": [
    {
     "data": {
      "text/plain": [
       "Text(0.5, 1.05, '1_raw_data_11-19_23.03.16.txt')"
      ]
     },
     "execution_count": 153,
     "metadata": {},
     "output_type": "execute_result"
    },
    {
     "data": {
      "image/png": "[encoded data removed]",
      "text/plain": [
       "<Figure size 1080x432 with 1 Axes>"
      ]
     },
     "metadata": {},
     "output_type": "display_data"
    }
   ],
   "source": [
    "\n",
    "\n",
    "#find files in subject folder\n",
    "file_list = [f for f in os.listdir(subject_folder) if os.path.isfile(os.path.join(subject_folder, f))]\n",
    "\n",
    "file_idx = 1\n",
    "\n",
    "# load file\n",
    "data_df = pd.DataFrame(pd.read_csv(os.path.join(subject_folder,file_list[file_idx]), sep='\\t'))\n",
    "\n",
    "# retrieve start times, end times, and labels for each condition block (will make it easier to parse traces later)\n",
    "start_times, end_times, event_labels  = get_gesture_times(data_df)\n",
    "\n",
    "\n",
    "\n",
    "prob_series = y_prob.copy()\n",
    "time_series = window_tstamps_sub[series_idxs].copy()\n",
    "\n",
    "classes = np.unique(event_labels)[1:]#exclude 'unmarked' label\n",
    "labels = []\n",
    "for c in classes.astype('int'):\n",
    "    labels.append('Class %i'%(c))\n",
    "\n",
    "# define color palette\n",
    "palette = sns.color_palette('deep',8)[1:]\n",
    "\n",
    "plt.figure(figsize=(15,6))\n",
    "plt.gca().set_prop_cycle(plt.cycler('color',palette))\n",
    "plt.plot(time_series,prob_series, linewidth = 2);\n",
    "\n",
    "#mark events\n",
    "for idx,c in enumerate(event_labels):\n",
    "    if c>0:\n",
    "        plt.hlines(y = 1.1, xmin = start_times[idx], xmax = end_times[idx], color = palette[c-1],linewidth = 10)\n",
    "\n",
    "#label axes\n",
    "plt.ylabel('Class Probability')\n",
    "plt.xlabel('Time (ms)')\n",
    "\n",
    "plt.legend(labels, bbox_to_anchor=(1, 1), loc='upper left', ncol=1)\n",
    "\n",
    "sns.despine(fig= plt.gcf(), left = False, right = True, top = True, bottom = False)\n",
    "\n",
    "plt.gcf().tight_layout() \n",
    "\n",
    "plt.gcf().suptitle('%s'%(file_list[file_idx]), y= 1.05)"
   ]
  },
  {
   "cell_type": "code",
   "execution_count": 65,
   "id": "d5916a7b",
   "metadata": {},
   "outputs": [],
   "source": [
    "y_true = target_labels_sub[series_idxs]"
   ]
  },
  {
   "cell_type": "code",
   "execution_count": 66,
   "id": "2902a2ae",
   "metadata": {},
   "outputs": [],
   "source": [
    "#check f1 score\n",
    "exclude = [0]\n",
    "in_samples = np.where(np.isin(target_labels_sub[series_idxs],exclude, invert = True))[0]\n",
    "y_pred_in = y_pred[in_samples]\n",
    "y_true_in = y_true[in_samples]\n",
    "#print(f1_score(y_true,y_pred,average = 'macro'))"
   ]
  },
  {
   "cell_type": "code",
   "execution_count": 75,
   "id": "3daee23f",
   "metadata": {},
   "outputs": [
    {
     "data": {
      "text/plain": [
       "array([ True,  True,  True,  True,  True,  True,  True,  True,  True,\n",
       "        True,  True,  True,  True,  True,  True, False, False,  True,\n",
       "        True,  True,  True,  True,  True,  True,  True,  True,  True,\n",
       "        True,  True,  True,  True, False, False, False, False, False,\n",
       "       False, False, False, False, False, False, False, False, False,\n",
       "       False, False, False, False,  True, False,  True,  True,  True,\n",
       "        True,  True,  True,  True,  True,  True,  True,  True, False,\n",
       "       False, False, False, False, False, False, False, False, False,\n",
       "       False, False, False, False, False, False, False, False, False,\n",
       "       False, False, False, False, False, False, False, False, False,\n",
       "       False, False, False, False, False, False, False, False, False,\n",
       "       False, False, False, False, False, False, False, False, False,\n",
       "       False, False, False, False, False, False, False,  True,  True,\n",
       "        True,  True,  True,  True,  True,  True,  True,  True,  True,\n",
       "        True,  True,  True,  True,  True, False, False, False, False,\n",
       "       False, False, False, False, False, False, False, False, False,\n",
       "       False, False, False, False, False, False, False, False, False,\n",
       "       False, False, False, False, False, False, False, False, False,\n",
       "       False, False, False, False, False, False,  True, False, False,\n",
       "       False, False, False, False, False, False, False, False, False,\n",
       "       False, False, False, False, False, False, False, False, False,\n",
       "       False, False, False, False, False, False, False, False, False,\n",
       "       False, False, False, False, False, False, False, False, False])"
      ]
     },
     "execution_count": 75,
     "metadata": {},
     "output_type": "execute_result"
    }
   ],
   "source": [
    "y_pred_in==y_pred_fn+1"
   ]
  },
  {
   "cell_type": "code",
   "execution_count": 117,
   "id": "969d936c",
   "metadata": {},
   "outputs": [],
   "source": [
    "X_test_block = feature_matrix_sub[np.where(block_labels_sub==13)[0],:]\n",
    "X_test_block = scaler.transform(X_test_block)\n",
    "X_test_block = np.expand_dims(X_test_block,0)\n",
    "\n",
    "y_prob_block = np.squeeze(trained_model.predict(X_test_block))\n",
    "y_pred_block = np.argmax(y_prob_block,1)+1"
   ]
  },
  {
   "cell_type": "code",
   "execution_count": 118,
   "id": "f80991ab",
   "metadata": {},
   "outputs": [
    {
     "data": {
      "text/plain": [
       "[<matplotlib.lines.Line2D at 0x1a4b4b7630>]"
      ]
     },
     "execution_count": 118,
     "metadata": {},
     "output_type": "execute_result"
    },
    {
     "data": {
      "image/png": "[encoded data removed]",
      "text/plain": [
       "<Figure size 432x288 with 1 Axes>"
      ]
     },
     "metadata": {},
     "output_type": "display_data"
    }
   ],
   "source": [
    "plt.plot(y_pred_block)"
   ]
  },
  {
   "cell_type": "code",
   "execution_count": 119,
   "id": "d8c6601c",
   "metadata": {},
   "outputs": [
    {
     "data": {
      "text/plain": [
       "[<matplotlib.lines.Line2D at 0x1a49ff3588>]"
      ]
     },
     "execution_count": 119,
     "metadata": {},
     "output_type": "execute_result"
    },
    {
     "data": {
      "image/png": "[encoded data removed]",
      "text/plain": [
       "<Figure size 432x288 with 1 Axes>"
      ]
     },
     "metadata": {},
     "output_type": "display_data"
    }
   ],
   "source": [
    "plt.plot(y_pred_fxn[6,:]+1)"
   ]
  },
  {
   "cell_type": "code",
   "execution_count": 141,
   "id": "25e0a034",
   "metadata": {},
   "outputs": [
    {
     "name": "stdout",
     "output_type": "stream",
     "text": [
      "[ 0.  1.  2.  3.  4.  5.  6.  7.  8.  9. 10. 11. 12. 13. 14. 15. 16. 17.\n",
      " 18. 19. 20. 21. 22. 23. 24.] [0. 1. 0. 2. 0. 3. 0. 4. 0. 5. 0. 6. 0. 1. 0. 2. 0. 3. 0. 4. 0. 5. 0. 6.\n",
      " 0.]\n"
     ]
    }
   ],
   "source": [
    "series_idxs = np.where(series_labels_sub==0)[0]\n",
    "\n",
    "block_labels_series = block_labels_sub[series_idxs]\n",
    "target_labels_series = target_labels_sub[series_idxs]\n",
    "\n",
    "blocks = np.array([k for k,g in groupby(block_labels_series)])\n",
    "classes = np.array([k for k,g in groupby(target_labels_series)])\n",
    "\n",
    "print(blocks,classes)"
   ]
  },
  {
   "cell_type": "code",
   "execution_count": 142,
   "id": "e9c28605",
   "metadata": {},
   "outputs": [
    {
     "name": "stdout",
     "output_type": "stream",
     "text": [
      "[16, 17, 20, 21, 8, 9, 18, 19, 0, 1, 22, 23, 6, 7, 4, 5, 2, 3, 14, 15, 10, 11, 12, 13, 24]\n"
     ]
    }
   ],
   "source": [
    "shuffled_blocks = []\n",
    "for x in np.random.permutation(np.arange(blocks.size//2)):\n",
    "    start_idx = 2*x\n",
    "    shuffled_blocks.extend(blocks[start_idx:start_idx+2].astype('int'))\n",
    "if (blocks.size%2)==1:\n",
    "    shuffled_blocks.extend(np.array([blocks[-1]]).astype('int'))\n",
    "print(shuffled_blocks)"
   ]
  },
  {
   "cell_type": "code",
   "execution_count": 144,
   "id": "66233fcd",
   "metadata": {},
   "outputs": [],
   "source": [
    "target_labels_shuffled = np.empty((0,))\n",
    "for b in shuffled_blocks:\n",
    "    target_labels_shuffled = np.hstack((target_labels_shuffled,target_labels_series[np.where(block_labels_series==b)[0]]))"
   ]
  },
  {
   "cell_type": "code",
   "execution_count": 145,
   "id": "a073502e",
   "metadata": {},
   "outputs": [
    {
     "data": {
      "text/plain": [
       "[<matplotlib.lines.Line2D at 0x1a49f06630>]"
      ]
     },
     "execution_count": 145,
     "metadata": {},
     "output_type": "execute_result"
    },
    {
     "data": {
      "image/png": "[encoded data removed]",
      "text/plain": [
       "<Figure size 432x288 with 1 Axes>"
      ]
     },
     "metadata": {},
     "output_type": "display_data"
    }
   ],
   "source": [
    "plt.plot(target_labels_shuffled)"
   ]
  },
  {
   "cell_type": "code",
   "execution_count": 140,
   "id": "4eee134b",
   "metadata": {},
   "outputs": [
    {
     "data": {
      "text/plain": [
       "(1346,)"
      ]
     },
     "execution_count": 140,
     "metadata": {},
     "output_type": "execute_result"
    }
   ],
   "source": [
    "target_labels_shuffled.shape"
   ]
  },
  {
   "cell_type": "code",
   "execution_count": null,
   "id": "b895885a",
   "metadata": {},
   "outputs": [],
   "source": []
  }
 ],
 "metadata": {
  "kernelspec": {
   "display_name": "Python 3",
   "language": "python",
   "name": "python3"
  },
  "language_info": {
   "codemirror_mode": {
    "name": "ipython",
    "version": 3
   },
   "file_extension": ".py",
   "mimetype": "text/x-python",
   "name": "python",
   "nbconvert_exporter": "python",
   "pygments_lexer": "ipython3",
   "version": "3.6.13"
  }
 },
 "nbformat": 4,
 "nbformat_minor": 5
}
