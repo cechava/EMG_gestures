{
 "cells": [
  {
   "cell_type": "code",
   "execution_count": 1,
   "id": "0bcbe9af",
   "metadata": {},
   "outputs": [],
   "source": [
    "#import necessary packages\n",
    "\n",
    "#our workhorses\n",
    "import numpy as np\n",
    "import pandas as pd\n",
    "import scipy\n",
    "\n",
    "#to visualize\n",
    "%matplotlib inline\n",
    "import seaborn as sns\n",
    "import matplotlib.pyplot as plt\n",
    "import matplotlib.patches as patches\n",
    "#style params for figures\n",
    "sns.set(font_scale = 2)\n",
    "plt.style.use('seaborn-white')\n",
    "plt.rc(\"axes\", labelweight=\"bold\")\n",
    "from IPython.display import display, HTML\n",
    "\n",
    "#to load files\n",
    "import os\n",
    "import h5py\n",
    "\n",
    "#for stats\n",
    "import statsmodels.api as sm\n",
    "from statsmodels.formula.api import ols\n",
    "import statsmodels.stats.multitest as multitest\n",
    "import statsmodels.stats.multicomp\n",
    "\n",
    "#load custon functions\n",
    "from utils import *"
   ]
  },
  {
   "cell_type": "code",
   "execution_count": 11,
   "id": "c0d1609f",
   "metadata": {},
   "outputs": [],
   "source": [
    "results_folder = './results_data/xsubject_transform_module/RNN'\n",
    "\n",
    "results_df = []\n",
    "for model_id in range(1,3+1):\n",
    "    # load model results\n",
    "    results_fn = 'model_%02d_results.h5'%(model_id)\n",
    "    model_df = pd.read_hdf(os.path.join(results_folder,results_fn), 'results_df')\n",
    "    model_df['Model'] = model_id\n",
    "    #append to collective dataframe\n",
    "    results_df.append(model_df)\n",
    "results_df = pd.concat(results_df,axis = 0)"
   ]
  },
  {
   "cell_type": "code",
   "execution_count": 12,
   "id": "91935b88",
   "metadata": {},
   "outputs": [
    {
     "data": {
      "text/html": [
       "<div>\n",
       "<style scoped>\n",
       "    .dataframe tbody tr th:only-of-type {\n",
       "        vertical-align: middle;\n",
       "    }\n",
       "\n",
       "    .dataframe tbody tr th {\n",
       "        vertical-align: top;\n",
       "    }\n",
       "\n",
       "    .dataframe thead th {\n",
       "        text-align: right;\n",
       "    }\n",
       "</style>\n",
       "<table border=\"1\" class=\"dataframe\">\n",
       "  <thead>\n",
       "    <tr style=\"text-align: right;\">\n",
       "      <th></th>\n",
       "      <th>F1_score</th>\n",
       "      <th>Subject</th>\n",
       "      <th>Rep_subject_order</th>\n",
       "      <th>Fold</th>\n",
       "      <th>Type</th>\n",
       "      <th>Shuffled</th>\n",
       "      <th>Rep_all</th>\n",
       "      <th>Model</th>\n",
       "    </tr>\n",
       "  </thead>\n",
       "  <tbody>\n",
       "    <tr>\n",
       "      <th>0</th>\n",
       "      <td>0.992805</td>\n",
       "      <td>11.0</td>\n",
       "      <td>1</td>\n",
       "      <td>1</td>\n",
       "      <td>Train</td>\n",
       "      <td>False</td>\n",
       "      <td>1</td>\n",
       "      <td>1</td>\n",
       "    </tr>\n",
       "    <tr>\n",
       "      <th>1</th>\n",
       "      <td>0.990005</td>\n",
       "      <td>16.0</td>\n",
       "      <td>1</td>\n",
       "      <td>1</td>\n",
       "      <td>Train</td>\n",
       "      <td>False</td>\n",
       "      <td>1</td>\n",
       "      <td>1</td>\n",
       "    </tr>\n",
       "    <tr>\n",
       "      <th>2</th>\n",
       "      <td>0.997317</td>\n",
       "      <td>10.0</td>\n",
       "      <td>1</td>\n",
       "      <td>1</td>\n",
       "      <td>Train</td>\n",
       "      <td>False</td>\n",
       "      <td>1</td>\n",
       "      <td>1</td>\n",
       "    </tr>\n",
       "    <tr>\n",
       "      <th>3</th>\n",
       "      <td>1.000000</td>\n",
       "      <td>15.0</td>\n",
       "      <td>1</td>\n",
       "      <td>1</td>\n",
       "      <td>Train</td>\n",
       "      <td>False</td>\n",
       "      <td>1</td>\n",
       "      <td>1</td>\n",
       "    </tr>\n",
       "    <tr>\n",
       "      <th>4</th>\n",
       "      <td>0.963910</td>\n",
       "      <td>7.0</td>\n",
       "      <td>1</td>\n",
       "      <td>1</td>\n",
       "      <td>Train</td>\n",
       "      <td>False</td>\n",
       "      <td>1</td>\n",
       "      <td>1</td>\n",
       "    </tr>\n",
       "  </tbody>\n",
       "</table>\n",
       "</div>"
      ],
      "text/plain": [
       "   F1_score  Subject  Rep_subject_order  Fold   Type  Shuffled  Rep_all  Model\n",
       "0  0.992805     11.0                  1     1  Train     False        1      1\n",
       "1  0.990005     16.0                  1     1  Train     False        1      1\n",
       "2  0.997317     10.0                  1     1  Train     False        1      1\n",
       "3  1.000000     15.0                  1     1  Train     False        1      1\n",
       "4  0.963910      7.0                  1     1  Train     False        1      1"
      ]
     },
     "execution_count": 12,
     "metadata": {},
     "output_type": "execute_result"
    }
   ],
   "source": [
    "results_df.head()"
   ]
  },
  {
   "cell_type": "code",
   "execution_count": 13,
   "id": "a8d8a2b7",
   "metadata": {},
   "outputs": [],
   "source": [
    "# Average over multiple train/test splits of the data\n",
    "results_df = results_df.groupby(['Shuffled','Type','Model','Rep_all'],as_index = False)\\\n",
    ".mean()\\\n",
    ".drop(columns = ['Fold','Rep_subject_order'])"
   ]
  },
  {
   "cell_type": "code",
   "execution_count": 14,
   "id": "ed93b5cc",
   "metadata": {},
   "outputs": [
    {
     "data": {
      "text/html": [
       "<div>\n",
       "<style scoped>\n",
       "    .dataframe tbody tr th:only-of-type {\n",
       "        vertical-align: middle;\n",
       "    }\n",
       "\n",
       "    .dataframe tbody tr th {\n",
       "        vertical-align: top;\n",
       "    }\n",
       "\n",
       "    .dataframe thead th {\n",
       "        text-align: right;\n",
       "    }\n",
       "</style>\n",
       "<table border=\"1\" class=\"dataframe\">\n",
       "  <thead>\n",
       "    <tr style=\"text-align: right;\">\n",
       "      <th></th>\n",
       "      <th>Shuffled</th>\n",
       "      <th>Type</th>\n",
       "      <th>Model</th>\n",
       "      <th>Rep_all</th>\n",
       "      <th>F1_score</th>\n",
       "      <th>Subject</th>\n",
       "    </tr>\n",
       "  </thead>\n",
       "  <tbody>\n",
       "    <tr>\n",
       "      <th>0</th>\n",
       "      <td>False</td>\n",
       "      <td>Train</td>\n",
       "      <td>1</td>\n",
       "      <td>1</td>\n",
       "      <td>0.988439</td>\n",
       "      <td>20.612903</td>\n",
       "    </tr>\n",
       "    <tr>\n",
       "      <th>1</th>\n",
       "      <td>False</td>\n",
       "      <td>Train</td>\n",
       "      <td>1</td>\n",
       "      <td>2</td>\n",
       "      <td>0.988514</td>\n",
       "      <td>20.612903</td>\n",
       "    </tr>\n",
       "    <tr>\n",
       "      <th>2</th>\n",
       "      <td>False</td>\n",
       "      <td>Train</td>\n",
       "      <td>1</td>\n",
       "      <td>3</td>\n",
       "      <td>0.988117</td>\n",
       "      <td>20.612903</td>\n",
       "    </tr>\n",
       "    <tr>\n",
       "      <th>3</th>\n",
       "      <td>False</td>\n",
       "      <td>Train</td>\n",
       "      <td>1</td>\n",
       "      <td>4</td>\n",
       "      <td>0.989159</td>\n",
       "      <td>20.612903</td>\n",
       "    </tr>\n",
       "    <tr>\n",
       "      <th>4</th>\n",
       "      <td>False</td>\n",
       "      <td>Train</td>\n",
       "      <td>1</td>\n",
       "      <td>5</td>\n",
       "      <td>0.989064</td>\n",
       "      <td>20.612903</td>\n",
       "    </tr>\n",
       "  </tbody>\n",
       "</table>\n",
       "</div>"
      ],
      "text/plain": [
       "   Shuffled   Type  Model  Rep_all  F1_score    Subject\n",
       "0     False  Train      1        1  0.988439  20.612903\n",
       "1     False  Train      1        2  0.988514  20.612903\n",
       "2     False  Train      1        3  0.988117  20.612903\n",
       "3     False  Train      1        4  0.989159  20.612903\n",
       "4     False  Train      1        5  0.989064  20.612903"
      ]
     },
     "execution_count": 14,
     "metadata": {},
     "output_type": "execute_result"
    }
   ],
   "source": [
    "results_df.head()"
   ]
  },
  {
   "cell_type": "code",
   "execution_count": 15,
   "id": "5eef7811",
   "metadata": {},
   "outputs": [
    {
     "data": {
      "text/html": [
       "<div>\n",
       "<style scoped>\n",
       "    .dataframe tbody tr th:only-of-type {\n",
       "        vertical-align: middle;\n",
       "    }\n",
       "\n",
       "    .dataframe tbody tr th {\n",
       "        vertical-align: top;\n",
       "    }\n",
       "\n",
       "    .dataframe thead th {\n",
       "        text-align: right;\n",
       "    }\n",
       "</style>\n",
       "<table border=\"1\" class=\"dataframe\">\n",
       "  <thead>\n",
       "    <tr style=\"text-align: right;\">\n",
       "      <th></th>\n",
       "      <th></th>\n",
       "      <th>Train_score</th>\n",
       "      <th>Subject</th>\n",
       "      <th>Test_score</th>\n",
       "      <th>Subject</th>\n",
       "    </tr>\n",
       "    <tr>\n",
       "      <th>Shuffled</th>\n",
       "      <th>Model</th>\n",
       "      <th></th>\n",
       "      <th></th>\n",
       "      <th></th>\n",
       "      <th></th>\n",
       "    </tr>\n",
       "  </thead>\n",
       "  <tbody>\n",
       "    <tr>\n",
       "      <th rowspan=\"3\" valign=\"top\">False</th>\n",
       "      <th>1</th>\n",
       "      <td>0.988916</td>\n",
       "      <td>20.612903</td>\n",
       "      <td>0.952283</td>\n",
       "      <td>20.612903</td>\n",
       "    </tr>\n",
       "    <tr>\n",
       "      <th>2</th>\n",
       "      <td>0.988098</td>\n",
       "      <td>20.612903</td>\n",
       "      <td>0.950460</td>\n",
       "      <td>20.612903</td>\n",
       "    </tr>\n",
       "    <tr>\n",
       "      <th>3</th>\n",
       "      <td>0.986756</td>\n",
       "      <td>20.612903</td>\n",
       "      <td>0.944746</td>\n",
       "      <td>20.612903</td>\n",
       "    </tr>\n",
       "    <tr>\n",
       "      <th rowspan=\"3\" valign=\"top\">True</th>\n",
       "      <th>1</th>\n",
       "      <td>0.416206</td>\n",
       "      <td>20.612903</td>\n",
       "      <td>0.175261</td>\n",
       "      <td>20.612903</td>\n",
       "    </tr>\n",
       "    <tr>\n",
       "      <th>2</th>\n",
       "      <td>0.419578</td>\n",
       "      <td>20.612903</td>\n",
       "      <td>0.171660</td>\n",
       "      <td>20.612903</td>\n",
       "    </tr>\n",
       "    <tr>\n",
       "      <th>3</th>\n",
       "      <td>0.427440</td>\n",
       "      <td>20.612903</td>\n",
       "      <td>0.169946</td>\n",
       "      <td>20.612903</td>\n",
       "    </tr>\n",
       "  </tbody>\n",
       "</table>\n",
       "</div>"
      ],
      "text/plain": [
       "                Train_score    Subject  Test_score    Subject\n",
       "Shuffled Model                                               \n",
       "False    1         0.988916  20.612903    0.952283  20.612903\n",
       "         2         0.988098  20.612903    0.950460  20.612903\n",
       "         3         0.986756  20.612903    0.944746  20.612903\n",
       "True     1         0.416206  20.612903    0.175261  20.612903\n",
       "         2         0.419578  20.612903    0.171660  20.612903\n",
       "         3         0.427440  20.612903    0.169946  20.612903"
      ]
     },
     "execution_count": 15,
     "metadata": {},
     "output_type": "execute_result"
    }
   ],
   "source": [
    "train_results_df = results_df.loc[results_df.Type == 'Train']\n",
    "test_results_df = results_df.loc[results_df.Type == 'Val_Test']\n",
    "\n",
    "train_summary = train_results_df.groupby(['Shuffled','Model']).mean().\\\n",
    "drop(columns=['Rep_all']).\\\n",
    "rename(columns={'F1_score':'Train_score'})\n",
    "\n",
    "test_summary = test_results_df.groupby(['Shuffled','Model']).mean().\\\n",
    "drop(columns=['Rep_all']).\\\n",
    "rename(columns={'F1_score':'Test_score'})\n",
    "\n",
    "summary_df = pd.concat([train_summary,test_summary],axis = 1)\n",
    "summary_df"
   ]
  },
  {
   "cell_type": "code",
   "execution_count": 16,
   "id": "ae7c8266",
   "metadata": {},
   "outputs": [
    {
     "data": {
      "image/png": "[encoded data removed]",
      "text/plain": [
       "<Figure size 1080x720 with 2 Axes>"
      ]
     },
     "metadata": {},
     "output_type": "display_data"
    }
   ],
   "source": [
    "\n",
    "\n",
    "g = sns.catplot(data = train_results_df, x= 'Model', y = 'F1_score', col = 'Shuffled', hue = 'Model',\\\n",
    "            kind = 'box', col_order = [False,True], col_wrap = 1, aspect = 3)"
   ]
  },
  {
   "cell_type": "code",
   "execution_count": 17,
   "id": "474a3053",
   "metadata": {},
   "outputs": [
    {
     "data": {
      "image/png": "[encoded data removed]",
      "text/plain": [
       "<Figure size 1080x720 with 2 Axes>"
      ]
     },
     "metadata": {},
     "output_type": "display_data"
    }
   ],
   "source": [
    "g = sns.catplot(data = test_results_df, x= 'Model', y = 'F1_score', col = 'Shuffled', hue = 'Model',\\\n",
    "            kind = 'box', col_order = [False,True], col_wrap = 1, aspect = 3)"
   ]
  },
  {
   "cell_type": "code",
   "execution_count": 18,
   "id": "c0b308aa",
   "metadata": {},
   "outputs": [],
   "source": [
    "results_true_df = results_df.loc[results_df.Shuffled == False]"
   ]
  },
  {
   "cell_type": "code",
   "execution_count": 19,
   "id": "b4dfafe4",
   "metadata": {},
   "outputs": [
    {
     "data": {
      "text/html": [
       "<div>\n",
       "<style scoped>\n",
       "    .dataframe tbody tr th:only-of-type {\n",
       "        vertical-align: middle;\n",
       "    }\n",
       "\n",
       "    .dataframe tbody tr th {\n",
       "        vertical-align: top;\n",
       "    }\n",
       "\n",
       "    .dataframe thead th {\n",
       "        text-align: right;\n",
       "    }\n",
       "</style>\n",
       "<table border=\"1\" class=\"dataframe\">\n",
       "  <thead>\n",
       "    <tr style=\"text-align: right;\">\n",
       "      <th></th>\n",
       "      <th>sum_sq</th>\n",
       "      <th>df</th>\n",
       "      <th>F</th>\n",
       "      <th>PR(&gt;F)</th>\n",
       "    </tr>\n",
       "  </thead>\n",
       "  <tbody>\n",
       "    <tr>\n",
       "      <th>C(Model)</th>\n",
       "      <td>0.000221</td>\n",
       "      <td>2.0</td>\n",
       "      <td>36.672144</td>\n",
       "      <td>4.568521e-12</td>\n",
       "    </tr>\n",
       "    <tr>\n",
       "      <th>C(Type)</th>\n",
       "      <td>0.030151</td>\n",
       "      <td>2.0</td>\n",
       "      <td>5003.279995</td>\n",
       "      <td>1.381354e-85</td>\n",
       "    </tr>\n",
       "    <tr>\n",
       "      <th>C(Model):C(Type)</th>\n",
       "      <td>0.000127</td>\n",
       "      <td>4.0</td>\n",
       "      <td>10.501161</td>\n",
       "      <td>6.652296e-07</td>\n",
       "    </tr>\n",
       "    <tr>\n",
       "      <th>Residual</th>\n",
       "      <td>0.000244</td>\n",
       "      <td>81.0</td>\n",
       "      <td>NaN</td>\n",
       "      <td>NaN</td>\n",
       "    </tr>\n",
       "  </tbody>\n",
       "</table>\n",
       "</div>"
      ],
      "text/plain": [
       "                    sum_sq    df            F        PR(>F)\n",
       "C(Model)          0.000221   2.0    36.672144  4.568521e-12\n",
       "C(Type)           0.030151   2.0  5003.279995  1.381354e-85\n",
       "C(Model):C(Type)  0.000127   4.0    10.501161  6.652296e-07\n",
       "Residual          0.000244  81.0          NaN           NaN"
      ]
     },
     "execution_count": 19,
     "metadata": {},
     "output_type": "execute_result"
    }
   ],
   "source": [
    "# Run ANOVA\n",
    "model = ols('F1_score ~ C(Model)*C(Type)', results_true_df).fit()\n",
    "\n",
    "# Creates the ANOVA table\n",
    "res = sm.stats.anova_lm(model, typ= 2)\n",
    "res"
   ]
  },
  {
   "cell_type": "code",
   "execution_count": 20,
   "id": "4ddca7cf",
   "metadata": {},
   "outputs": [
    {
     "name": "stdout",
     "output_type": "stream",
     "text": [
      "       Multiple Comparison of Means - Tukey HSD, FWER=0.05        \n",
      "==================================================================\n",
      "    group1        group2    meandiff p-adj   lower   upper  reject\n",
      "------------------------------------------------------------------\n",
      "    1 - Train  1 - Val_Test  -0.0366  0.001 -0.0391 -0.0342   True\n",
      "    1 - Train 1 - Val_Train   0.0001    0.9 -0.0024  0.0026  False\n",
      "    1 - Train     2 - Train  -0.0008    0.9 -0.0033  0.0017  False\n",
      "    1 - Train  2 - Val_Test  -0.0385  0.001 -0.0409  -0.036   True\n",
      "    1 - Train 2 - Val_Train  -0.0011 0.8571 -0.0036  0.0013  False\n",
      "    1 - Train     3 - Train  -0.0022 0.1363 -0.0046  0.0003  False\n",
      "    1 - Train  3 - Val_Test  -0.0442  0.001 -0.0466 -0.0417   True\n",
      "    1 - Train 3 - Val_Train  -0.0015 0.5544  -0.004  0.0009  False\n",
      " 1 - Val_Test 1 - Val_Train   0.0367  0.001  0.0343  0.0392   True\n",
      " 1 - Val_Test     2 - Train   0.0358  0.001  0.0333  0.0383   True\n",
      " 1 - Val_Test  2 - Val_Test  -0.0018 0.3263 -0.0043  0.0007  False\n",
      " 1 - Val_Test 2 - Val_Train   0.0355  0.001   0.033   0.038   True\n",
      " 1 - Val_Test     3 - Train   0.0345  0.001   0.032  0.0369   True\n",
      " 1 - Val_Test  3 - Val_Test  -0.0075  0.001   -0.01 -0.0051   True\n",
      " 1 - Val_Test 3 - Val_Train   0.0351  0.001  0.0326  0.0376   True\n",
      "1 - Val_Train     2 - Train  -0.0009    0.9 -0.0034  0.0016  False\n",
      "1 - Val_Train  2 - Val_Test  -0.0385  0.001  -0.041 -0.0361   True\n",
      "1 - Val_Train 2 - Val_Train  -0.0012 0.7857 -0.0037  0.0012  False\n",
      "1 - Val_Train     3 - Train  -0.0023  0.103 -0.0047  0.0002  False\n",
      "1 - Val_Train  3 - Val_Test  -0.0443  0.001 -0.0467 -0.0418   True\n",
      "1 - Val_Train 3 - Val_Train  -0.0016 0.4824 -0.0041  0.0008  False\n",
      "    2 - Train  2 - Val_Test  -0.0376  0.001 -0.0401 -0.0352   True\n",
      "    2 - Train 2 - Val_Train  -0.0003    0.9 -0.0028  0.0022  False\n",
      "    2 - Train     3 - Train  -0.0013 0.7011 -0.0038  0.0011  False\n",
      "    2 - Train  3 - Val_Test  -0.0434  0.001 -0.0458 -0.0409   True\n",
      "    2 - Train 3 - Val_Train  -0.0007    0.9 -0.0032  0.0018  False\n",
      " 2 - Val_Test 2 - Val_Train   0.0373  0.001  0.0348  0.0398   True\n",
      " 2 - Val_Test     3 - Train   0.0363  0.001  0.0338  0.0388   True\n",
      " 2 - Val_Test  3 - Val_Test  -0.0057  0.001 -0.0082 -0.0032   True\n",
      " 2 - Val_Test 3 - Val_Train   0.0369  0.001  0.0344  0.0394   True\n",
      "2 - Val_Train     3 - Train   -0.001    0.9 -0.0035  0.0015  False\n",
      "2 - Val_Train  3 - Val_Test   -0.043  0.001 -0.0455 -0.0406   True\n",
      "2 - Val_Train 3 - Val_Train  -0.0004    0.9 -0.0029  0.0021  False\n",
      "    3 - Train  3 - Val_Test   -0.042  0.001 -0.0445 -0.0395   True\n",
      "    3 - Train 3 - Val_Train   0.0006    0.9 -0.0018  0.0031  False\n",
      " 3 - Val_Test 3 - Val_Train   0.0426  0.001  0.0402  0.0451   True\n",
      "------------------------------------------------------------------\n"
     ]
    }
   ],
   "source": [
    "groups =  results_true_df['Model'].map(str) + ' - ' + results_true_df['Type'].map(str)\n",
    "\n",
    "mc = statsmodels.stats.multicomp.MultiComparison(results_true_df['F1_score'],groups)\n",
    "mc_results = mc.tukeyhsd()\n",
    "print(mc_results)\n"
   ]
  },
  {
   "cell_type": "code",
   "execution_count": null,
   "id": "850ae961",
   "metadata": {},
   "outputs": [],
   "source": []
  },
  {
   "cell_type": "code",
   "execution_count": 21,
   "id": "e707814f",
   "metadata": {},
   "outputs": [],
   "source": [
    "test_results_true_df = results_df.loc[(results_df.Type == 'Val_Test')&(results_df.Shuffled == False)]\n",
    "train_results_true_df = results_df.loc[(results_df.Type == 'Train')&(results_df.Shuffled == False)]\n"
   ]
  },
  {
   "cell_type": "code",
   "execution_count": 22,
   "id": "bff6ff8b",
   "metadata": {},
   "outputs": [
    {
     "data": {
      "text/html": [
       "<div>\n",
       "<style scoped>\n",
       "    .dataframe tbody tr th:only-of-type {\n",
       "        vertical-align: middle;\n",
       "    }\n",
       "\n",
       "    .dataframe tbody tr th {\n",
       "        vertical-align: top;\n",
       "    }\n",
       "\n",
       "    .dataframe thead th {\n",
       "        text-align: right;\n",
       "    }\n",
       "</style>\n",
       "<table border=\"1\" class=\"dataframe\">\n",
       "  <thead>\n",
       "    <tr style=\"text-align: right;\">\n",
       "      <th></th>\n",
       "      <th>sum_sq</th>\n",
       "      <th>df</th>\n",
       "      <th>F</th>\n",
       "      <th>PR(&gt;F)</th>\n",
       "    </tr>\n",
       "  </thead>\n",
       "  <tbody>\n",
       "    <tr>\n",
       "      <th>C(Model)</th>\n",
       "      <td>0.000309</td>\n",
       "      <td>2.0</td>\n",
       "      <td>23.499578</td>\n",
       "      <td>0.000001</td>\n",
       "    </tr>\n",
       "    <tr>\n",
       "      <th>Residual</th>\n",
       "      <td>0.000178</td>\n",
       "      <td>27.0</td>\n",
       "      <td>NaN</td>\n",
       "      <td>NaN</td>\n",
       "    </tr>\n",
       "  </tbody>\n",
       "</table>\n",
       "</div>"
      ],
      "text/plain": [
       "            sum_sq    df          F    PR(>F)\n",
       "C(Model)  0.000309   2.0  23.499578  0.000001\n",
       "Residual  0.000178  27.0        NaN       NaN"
      ]
     },
     "execution_count": 22,
     "metadata": {},
     "output_type": "execute_result"
    }
   ],
   "source": [
    "# Run ANOVA\n",
    "model = ols('F1_score ~ C(Model)', test_results_true_df).fit()\n",
    "\n",
    "# Creates the ANOVA table\n",
    "res = sm.stats.anova_lm(model, typ= 2)\n",
    "res"
   ]
  },
  {
   "cell_type": "code",
   "execution_count": 23,
   "id": "de253cf4",
   "metadata": {},
   "outputs": [
    {
     "name": "stdout",
     "output_type": "stream",
     "text": [
      "Multiple Comparison of Means - Tukey HSD, FWER=0.05 \n",
      "====================================================\n",
      "group1 group2 meandiff p-adj   lower   upper  reject\n",
      "----------------------------------------------------\n",
      "     1      2  -0.0018 0.2677 -0.0047   0.001  False\n",
      "     1      3  -0.0075  0.001 -0.0104 -0.0047   True\n",
      "     2      3  -0.0057  0.001 -0.0086 -0.0029   True\n",
      "----------------------------------------------------\n"
     ]
    }
   ],
   "source": [
    "groups =  test_results_true_df['Model'].map(str) #+ ' - ' + test_results_true_df['Shuffled'].map(str)\n",
    "\n",
    "mc = statsmodels.stats.multicomp.MultiComparison(test_results_true_df['F1_score'],groups)\n",
    "mc_results = mc.tukeyhsd()\n",
    "print(mc_results)\n",
    "\n",
    "#p_values = psturng(np.abs(mc_results.meandiffs / mc_results.std_pairs), len(mc_results.groupsunique), mc_results.df_total)"
   ]
  },
  {
   "cell_type": "code",
   "execution_count": 64,
   "id": "b0ae0b21",
   "metadata": {},
   "outputs": [
    {
     "data": {
      "text/html": [
       "<div>\n",
       "<style scoped>\n",
       "    .dataframe tbody tr th:only-of-type {\n",
       "        vertical-align: middle;\n",
       "    }\n",
       "\n",
       "    .dataframe tbody tr th {\n",
       "        vertical-align: top;\n",
       "    }\n",
       "\n",
       "    .dataframe thead th {\n",
       "        text-align: right;\n",
       "    }\n",
       "</style>\n",
       "<table border=\"1\" class=\"dataframe\">\n",
       "  <thead>\n",
       "    <tr style=\"text-align: right;\">\n",
       "      <th></th>\n",
       "      <th>Shuffled</th>\n",
       "      <th>Model</th>\n",
       "      <th>Train_score</th>\n",
       "      <th>Test_score</th>\n",
       "    </tr>\n",
       "  </thead>\n",
       "  <tbody>\n",
       "    <tr>\n",
       "      <th>0</th>\n",
       "      <td>False</td>\n",
       "      <td>1</td>\n",
       "      <td>0.944832</td>\n",
       "      <td>0.817078</td>\n",
       "    </tr>\n",
       "    <tr>\n",
       "      <th>7</th>\n",
       "      <td>False</td>\n",
       "      <td>8</td>\n",
       "      <td>0.941032</td>\n",
       "      <td>0.815630</td>\n",
       "    </tr>\n",
       "    <tr>\n",
       "      <th>8</th>\n",
       "      <td>False</td>\n",
       "      <td>9</td>\n",
       "      <td>0.930972</td>\n",
       "      <td>0.815061</td>\n",
       "    </tr>\n",
       "    <tr>\n",
       "      <th>10</th>\n",
       "      <td>False</td>\n",
       "      <td>11</td>\n",
       "      <td>0.930910</td>\n",
       "      <td>0.813283</td>\n",
       "    </tr>\n",
       "    <tr>\n",
       "      <th>9</th>\n",
       "      <td>False</td>\n",
       "      <td>10</td>\n",
       "      <td>0.919980</td>\n",
       "      <td>0.809497</td>\n",
       "    </tr>\n",
       "    <tr>\n",
       "      <th>11</th>\n",
       "      <td>False</td>\n",
       "      <td>12</td>\n",
       "      <td>0.916479</td>\n",
       "      <td>0.809345</td>\n",
       "    </tr>\n",
       "    <tr>\n",
       "      <th>4</th>\n",
       "      <td>False</td>\n",
       "      <td>5</td>\n",
       "      <td>0.910787</td>\n",
       "      <td>0.814137</td>\n",
       "    </tr>\n",
       "    <tr>\n",
       "      <th>1</th>\n",
       "      <td>False</td>\n",
       "      <td>2</td>\n",
       "      <td>0.910592</td>\n",
       "      <td>0.815662</td>\n",
       "    </tr>\n",
       "    <tr>\n",
       "      <th>2</th>\n",
       "      <td>False</td>\n",
       "      <td>3</td>\n",
       "      <td>0.892290</td>\n",
       "      <td>0.813455</td>\n",
       "    </tr>\n",
       "    <tr>\n",
       "      <th>5</th>\n",
       "      <td>False</td>\n",
       "      <td>6</td>\n",
       "      <td>0.886025</td>\n",
       "      <td>0.810343</td>\n",
       "    </tr>\n",
       "    <tr>\n",
       "      <th>3</th>\n",
       "      <td>False</td>\n",
       "      <td>4</td>\n",
       "      <td>0.880494</td>\n",
       "      <td>0.811903</td>\n",
       "    </tr>\n",
       "    <tr>\n",
       "      <th>13</th>\n",
       "      <td>False</td>\n",
       "      <td>14</td>\n",
       "      <td>0.876023</td>\n",
       "      <td>0.800946</td>\n",
       "    </tr>\n",
       "    <tr>\n",
       "      <th>6</th>\n",
       "      <td>False</td>\n",
       "      <td>7</td>\n",
       "      <td>0.850190</td>\n",
       "      <td>0.782311</td>\n",
       "    </tr>\n",
       "    <tr>\n",
       "      <th>12</th>\n",
       "      <td>False</td>\n",
       "      <td>13</td>\n",
       "      <td>0.729369</td>\n",
       "      <td>0.654149</td>\n",
       "    </tr>\n",
       "    <tr>\n",
       "      <th>14</th>\n",
       "      <td>False</td>\n",
       "      <td>15</td>\n",
       "      <td>0.654637</td>\n",
       "      <td>0.603202</td>\n",
       "    </tr>\n",
       "  </tbody>\n",
       "</table>\n",
       "</div>"
      ],
      "text/plain": [
       "    Shuffled  Model  Train_score  Test_score\n",
       "0      False      1     0.944832    0.817078\n",
       "7      False      8     0.941032    0.815630\n",
       "8      False      9     0.930972    0.815061\n",
       "10     False     11     0.930910    0.813283\n",
       "9      False     10     0.919980    0.809497\n",
       "11     False     12     0.916479    0.809345\n",
       "4      False      5     0.910787    0.814137\n",
       "1      False      2     0.910592    0.815662\n",
       "2      False      3     0.892290    0.813455\n",
       "5      False      6     0.886025    0.810343\n",
       "3      False      4     0.880494    0.811903\n",
       "13     False     14     0.876023    0.800946\n",
       "6      False      7     0.850190    0.782311\n",
       "12     False     13     0.729369    0.654149\n",
       "14     False     15     0.654637    0.603202"
      ]
     },
     "execution_count": 64,
     "metadata": {},
     "output_type": "execute_result"
    }
   ],
   "source": [
    "#put things in dataframe and sort\n",
    "summary_df.reset_index().loc[summary_df.reset_index().Shuffled == False].\\\n",
    "sort_values(by=['Train_score','Test_score'],ascending = False)#.reset_index().lo"
   ]
  },
  {
   "cell_type": "code",
   "execution_count": null,
   "id": "8749403d",
   "metadata": {},
   "outputs": [],
   "source": []
  },
  {
   "cell_type": "code",
   "execution_count": null,
   "id": "44a53d01",
   "metadata": {},
   "outputs": [],
   "source": []
  },
  {
   "cell_type": "code",
   "execution_count": 29,
   "id": "8a4ebf85",
   "metadata": {},
   "outputs": [
    {
     "data": {
      "text/plain": [
       "<AxesSubplot:>"
      ]
     },
     "execution_count": 29,
     "metadata": {},
     "output_type": "execute_result"
    },
    {
     "data": {
      "image/png": "[encoded data removed]",
      "text/plain": [
       "<Figure size 432x288 with 1 Axes>"
      ]
     },
     "metadata": {},
     "output_type": "display_data"
    }
   ],
   "source": [
    "#checking correlaiton between train and test values - True data\n",
    "\n",
    "X = results_df.loc[(results_df.Type == 'Train')&(results_df.Shuffled == False)]['F1_score'].values\n",
    "Y = results_df.loc[(results_df.Type == 'Test')&(results_df.Shuffled == False)]['F1_score'].values\n",
    "\n",
    "sns.scatterplot(x = X, y = Y)"
   ]
  },
  {
   "cell_type": "code",
   "execution_count": 30,
   "id": "5d3586a7",
   "metadata": {},
   "outputs": [
    {
     "data": {
      "text/plain": [
       "<AxesSubplot:>"
      ]
     },
     "execution_count": 30,
     "metadata": {},
     "output_type": "execute_result"
    },
    {
     "data": {
      "image/png": "[encoded data removed]",
      "text/plain": [
       "<Figure size 432x288 with 1 Axes>"
      ]
     },
     "metadata": {},
     "output_type": "display_data"
    }
   ],
   "source": [
    "#checking correlaiton between train and test values - Shuffled data\n",
    "X = results_df.loc[(results_df.Type == 'Train')&(results_df.Shuffled == True)]['F1_score'].values\n",
    "Y = results_df.loc[(results_df.Type == 'Test')&(results_df.Shuffled == True)]['F1_score'].values\n",
    "\n",
    "sns.scatterplot(x = X, y = Y)"
   ]
  },
  {
   "cell_type": "code",
   "execution_count": null,
   "id": "931d6b7e",
   "metadata": {},
   "outputs": [],
   "source": [
    "X = results_df.loc[(results_df.Type == 'Train')&(results_df.Type == 'Test')]"
   ]
  },
  {
   "cell_type": "code",
   "execution_count": null,
   "id": "afe7c1f5",
   "metadata": {},
   "outputs": [],
   "source": []
  }
 ],
 "metadata": {
  "kernelspec": {
   "display_name": "Python 3",
   "language": "python",
   "name": "python3"
  },
  "language_info": {
   "codemirror_mode": {
    "name": "ipython",
    "version": 3
   },
   "file_extension": ".py",
   "mimetype": "text/x-python",
   "name": "python",
   "nbconvert_exporter": "python",
   "pygments_lexer": "ipython3",
   "version": "3.6.13"
  }
 },
 "nbformat": 4,
 "nbformat_minor": 5
}
