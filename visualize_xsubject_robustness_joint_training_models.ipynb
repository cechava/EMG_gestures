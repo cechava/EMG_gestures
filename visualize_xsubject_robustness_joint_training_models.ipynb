{
 "cells": [
  {
   "cell_type": "code",
   "execution_count": 10,
   "id": "0bcbe9af",
   "metadata": {},
   "outputs": [],
   "source": [
    "#import necessary packages\n",
    "\n",
    "#our workhorses\n",
    "import numpy as np\n",
    "import pandas as pd\n",
    "import scipy\n",
    "\n",
    "#to visualize\n",
    "%matplotlib inline\n",
    "import seaborn as sns\n",
    "import matplotlib.pyplot as plt\n",
    "import matplotlib.patches as patches\n",
    "#style params for figures\n",
    "sns.set(font_scale = 2)\n",
    "plt.style.use('seaborn-white')\n",
    "plt.rc(\"axes\", labelweight=\"bold\")\n",
    "from IPython.display import display, HTML\n",
    "\n",
    "#to load files\n",
    "import os\n",
    "import h5py\n",
    "\n",
    "#for stats\n",
    "import statsmodels.api as sm\n",
    "from statsmodels.formula.api import ols\n",
    "import statsmodels.stats.multitest as multitest\n",
    "import statsmodels.stats.multicomp\n",
    "\n",
    "#load custon functions\n",
    "from utils import *"
   ]
  },
  {
   "cell_type": "code",
   "execution_count": 11,
   "id": "c0d1609f",
   "metadata": {},
   "outputs": [],
   "source": [
    "results_folder = './results_data/xsubject_joint_data/RNN'\n",
    "\n",
    "results_df = []\n",
    "for model_id in range(1,16):\n",
    "    # load model results\n",
    "    results_fn = 'model_%02d_results.h5'%(model_id)\n",
    "    model_df = pd.read_hdf(os.path.join(results_folder,results_fn), 'results_df')\n",
    "    model_df['Model'] = model_id\n",
    "    #append to collective dataframe\n",
    "    results_df.append(model_df)\n",
    "results_df = pd.concat(results_df,axis = 0)"
   ]
  },
  {
   "cell_type": "code",
   "execution_count": 12,
   "id": "a8d8a2b7",
   "metadata": {},
   "outputs": [],
   "source": [
    "# Average over multiple train/test splits of the data\n",
    "results_df = results_df.groupby(['Shuffled','Type','Model','Rep'],as_index = False)\\\n",
    ".mean()\\\n",
    ".drop(columns = ['Fold'])"
   ]
  },
  {
   "cell_type": "code",
   "execution_count": 13,
   "id": "ed93b5cc",
   "metadata": {},
   "outputs": [
    {
     "data": {
      "text/html": [
       "<div>\n",
       "<style scoped>\n",
       "    .dataframe tbody tr th:only-of-type {\n",
       "        vertical-align: middle;\n",
       "    }\n",
       "\n",
       "    .dataframe tbody tr th {\n",
       "        vertical-align: top;\n",
       "    }\n",
       "\n",
       "    .dataframe thead th {\n",
       "        text-align: right;\n",
       "    }\n",
       "</style>\n",
       "<table border=\"1\" class=\"dataframe\">\n",
       "  <thead>\n",
       "    <tr style=\"text-align: right;\">\n",
       "      <th></th>\n",
       "      <th>Shuffled</th>\n",
       "      <th>Type</th>\n",
       "      <th>Model</th>\n",
       "      <th>Rep</th>\n",
       "      <th>F1_score</th>\n",
       "    </tr>\n",
       "  </thead>\n",
       "  <tbody>\n",
       "    <tr>\n",
       "      <th>0</th>\n",
       "      <td>False</td>\n",
       "      <td>Test</td>\n",
       "      <td>1</td>\n",
       "      <td>1</td>\n",
       "      <td>0.820692</td>\n",
       "    </tr>\n",
       "    <tr>\n",
       "      <th>1</th>\n",
       "      <td>False</td>\n",
       "      <td>Test</td>\n",
       "      <td>1</td>\n",
       "      <td>2</td>\n",
       "      <td>0.828587</td>\n",
       "    </tr>\n",
       "    <tr>\n",
       "      <th>2</th>\n",
       "      <td>False</td>\n",
       "      <td>Test</td>\n",
       "      <td>1</td>\n",
       "      <td>3</td>\n",
       "      <td>0.810748</td>\n",
       "    </tr>\n",
       "    <tr>\n",
       "      <th>3</th>\n",
       "      <td>False</td>\n",
       "      <td>Test</td>\n",
       "      <td>1</td>\n",
       "      <td>4</td>\n",
       "      <td>0.805551</td>\n",
       "    </tr>\n",
       "    <tr>\n",
       "      <th>4</th>\n",
       "      <td>False</td>\n",
       "      <td>Test</td>\n",
       "      <td>1</td>\n",
       "      <td>5</td>\n",
       "      <td>0.804670</td>\n",
       "    </tr>\n",
       "  </tbody>\n",
       "</table>\n",
       "</div>"
      ],
      "text/plain": [
       "   Shuffled  Type  Model  Rep  F1_score\n",
       "0     False  Test      1    1  0.820692\n",
       "1     False  Test      1    2  0.828587\n",
       "2     False  Test      1    3  0.810748\n",
       "3     False  Test      1    4  0.805551\n",
       "4     False  Test      1    5  0.804670"
      ]
     },
     "execution_count": 13,
     "metadata": {},
     "output_type": "execute_result"
    }
   ],
   "source": [
    "results_df.head()"
   ]
  },
  {
   "cell_type": "code",
   "execution_count": 14,
   "id": "5eef7811",
   "metadata": {},
   "outputs": [
    {
     "data": {
      "text/html": [
       "<div>\n",
       "<style scoped>\n",
       "    .dataframe tbody tr th:only-of-type {\n",
       "        vertical-align: middle;\n",
       "    }\n",
       "\n",
       "    .dataframe tbody tr th {\n",
       "        vertical-align: top;\n",
       "    }\n",
       "\n",
       "    .dataframe thead th {\n",
       "        text-align: right;\n",
       "    }\n",
       "</style>\n",
       "<table border=\"1\" class=\"dataframe\">\n",
       "  <thead>\n",
       "    <tr style=\"text-align: right;\">\n",
       "      <th></th>\n",
       "      <th></th>\n",
       "      <th>Train_score</th>\n",
       "      <th>Test_score</th>\n",
       "    </tr>\n",
       "    <tr>\n",
       "      <th>Shuffled</th>\n",
       "      <th>Model</th>\n",
       "      <th></th>\n",
       "      <th></th>\n",
       "    </tr>\n",
       "  </thead>\n",
       "  <tbody>\n",
       "    <tr>\n",
       "      <th rowspan=\"15\" valign=\"top\">False</th>\n",
       "      <th>1</th>\n",
       "      <td>0.944832</td>\n",
       "      <td>0.817078</td>\n",
       "    </tr>\n",
       "    <tr>\n",
       "      <th>2</th>\n",
       "      <td>0.910592</td>\n",
       "      <td>0.815662</td>\n",
       "    </tr>\n",
       "    <tr>\n",
       "      <th>3</th>\n",
       "      <td>0.892290</td>\n",
       "      <td>0.813455</td>\n",
       "    </tr>\n",
       "    <tr>\n",
       "      <th>4</th>\n",
       "      <td>0.880494</td>\n",
       "      <td>0.811903</td>\n",
       "    </tr>\n",
       "    <tr>\n",
       "      <th>5</th>\n",
       "      <td>0.910787</td>\n",
       "      <td>0.814137</td>\n",
       "    </tr>\n",
       "    <tr>\n",
       "      <th>6</th>\n",
       "      <td>0.886025</td>\n",
       "      <td>0.810343</td>\n",
       "    </tr>\n",
       "    <tr>\n",
       "      <th>7</th>\n",
       "      <td>0.850190</td>\n",
       "      <td>0.782311</td>\n",
       "    </tr>\n",
       "    <tr>\n",
       "      <th>8</th>\n",
       "      <td>0.941032</td>\n",
       "      <td>0.815630</td>\n",
       "    </tr>\n",
       "    <tr>\n",
       "      <th>9</th>\n",
       "      <td>0.930972</td>\n",
       "      <td>0.815061</td>\n",
       "    </tr>\n",
       "    <tr>\n",
       "      <th>10</th>\n",
       "      <td>0.919980</td>\n",
       "      <td>0.809497</td>\n",
       "    </tr>\n",
       "    <tr>\n",
       "      <th>11</th>\n",
       "      <td>0.930910</td>\n",
       "      <td>0.813283</td>\n",
       "    </tr>\n",
       "    <tr>\n",
       "      <th>12</th>\n",
       "      <td>0.916479</td>\n",
       "      <td>0.809345</td>\n",
       "    </tr>\n",
       "    <tr>\n",
       "      <th>13</th>\n",
       "      <td>0.729369</td>\n",
       "      <td>0.654149</td>\n",
       "    </tr>\n",
       "    <tr>\n",
       "      <th>14</th>\n",
       "      <td>0.876023</td>\n",
       "      <td>0.800946</td>\n",
       "    </tr>\n",
       "    <tr>\n",
       "      <th>15</th>\n",
       "      <td>0.654637</td>\n",
       "      <td>0.603202</td>\n",
       "    </tr>\n",
       "    <tr>\n",
       "      <th rowspan=\"15\" valign=\"top\">True</th>\n",
       "      <th>1</th>\n",
       "      <td>0.280066</td>\n",
       "      <td>0.153221</td>\n",
       "    </tr>\n",
       "    <tr>\n",
       "      <th>2</th>\n",
       "      <td>0.232619</td>\n",
       "      <td>0.145671</td>\n",
       "    </tr>\n",
       "    <tr>\n",
       "      <th>3</th>\n",
       "      <td>0.213772</td>\n",
       "      <td>0.141515</td>\n",
       "    </tr>\n",
       "    <tr>\n",
       "      <th>4</th>\n",
       "      <td>0.199042</td>\n",
       "      <td>0.138640</td>\n",
       "    </tr>\n",
       "    <tr>\n",
       "      <th>5</th>\n",
       "      <td>0.251943</td>\n",
       "      <td>0.149545</td>\n",
       "    </tr>\n",
       "    <tr>\n",
       "      <th>6</th>\n",
       "      <td>0.210249</td>\n",
       "      <td>0.132595</td>\n",
       "    </tr>\n",
       "    <tr>\n",
       "      <th>7</th>\n",
       "      <td>0.156044</td>\n",
       "      <td>0.108977</td>\n",
       "    </tr>\n",
       "    <tr>\n",
       "      <th>8</th>\n",
       "      <td>0.254495</td>\n",
       "      <td>0.145964</td>\n",
       "    </tr>\n",
       "    <tr>\n",
       "      <th>9</th>\n",
       "      <td>0.228949</td>\n",
       "      <td>0.145876</td>\n",
       "    </tr>\n",
       "    <tr>\n",
       "      <th>10</th>\n",
       "      <td>0.198546</td>\n",
       "      <td>0.135401</td>\n",
       "    </tr>\n",
       "    <tr>\n",
       "      <th>11</th>\n",
       "      <td>0.249278</td>\n",
       "      <td>0.136930</td>\n",
       "    </tr>\n",
       "    <tr>\n",
       "      <th>12</th>\n",
       "      <td>0.189908</td>\n",
       "      <td>0.118405</td>\n",
       "    </tr>\n",
       "    <tr>\n",
       "      <th>13</th>\n",
       "      <td>0.142300</td>\n",
       "      <td>0.093483</td>\n",
       "    </tr>\n",
       "    <tr>\n",
       "      <th>14</th>\n",
       "      <td>0.179354</td>\n",
       "      <td>0.129208</td>\n",
       "    </tr>\n",
       "    <tr>\n",
       "      <th>15</th>\n",
       "      <td>0.120054</td>\n",
       "      <td>0.088556</td>\n",
       "    </tr>\n",
       "  </tbody>\n",
       "</table>\n",
       "</div>"
      ],
      "text/plain": [
       "                Train_score  Test_score\n",
       "Shuffled Model                         \n",
       "False    1         0.944832    0.817078\n",
       "         2         0.910592    0.815662\n",
       "         3         0.892290    0.813455\n",
       "         4         0.880494    0.811903\n",
       "         5         0.910787    0.814137\n",
       "         6         0.886025    0.810343\n",
       "         7         0.850190    0.782311\n",
       "         8         0.941032    0.815630\n",
       "         9         0.930972    0.815061\n",
       "         10        0.919980    0.809497\n",
       "         11        0.930910    0.813283\n",
       "         12        0.916479    0.809345\n",
       "         13        0.729369    0.654149\n",
       "         14        0.876023    0.800946\n",
       "         15        0.654637    0.603202\n",
       "True     1         0.280066    0.153221\n",
       "         2         0.232619    0.145671\n",
       "         3         0.213772    0.141515\n",
       "         4         0.199042    0.138640\n",
       "         5         0.251943    0.149545\n",
       "         6         0.210249    0.132595\n",
       "         7         0.156044    0.108977\n",
       "         8         0.254495    0.145964\n",
       "         9         0.228949    0.145876\n",
       "         10        0.198546    0.135401\n",
       "         11        0.249278    0.136930\n",
       "         12        0.189908    0.118405\n",
       "         13        0.142300    0.093483\n",
       "         14        0.179354    0.129208\n",
       "         15        0.120054    0.088556"
      ]
     },
     "execution_count": 14,
     "metadata": {},
     "output_type": "execute_result"
    }
   ],
   "source": [
    "train_results_df = results_df.loc[results_df.Type == 'Train']\n",
    "test_results_df = results_df.loc[results_df.Type == 'Test']\n",
    "\n",
    "train_summary = train_results_df.groupby(['Shuffled','Model']).mean().\\\n",
    "drop(columns=['Rep']).\\\n",
    "rename(columns={'F1_score':'Train_score'})\n",
    "\n",
    "test_summary = test_results_df.groupby(['Shuffled','Model']).mean().\\\n",
    "drop(columns=['Rep']).\\\n",
    "rename(columns={'F1_score':'Test_score'})\n",
    "\n",
    "summary_df = pd.concat([train_summary,test_summary],axis = 1)\n",
    "summary_df"
   ]
  },
  {
   "cell_type": "code",
   "execution_count": 15,
   "id": "ae7c8266",
   "metadata": {},
   "outputs": [
    {
     "data": {
      "image/png": "[encoded data removed]",
      "text/plain": [
       "<Figure size 1080x720 with 2 Axes>"
      ]
     },
     "metadata": {},
     "output_type": "display_data"
    }
   ],
   "source": [
    "\n",
    "\n",
    "g = sns.catplot(data = train_results_df, x= 'Model', y = 'F1_score', col = 'Shuffled', hue = 'Model',\\\n",
    "            kind = 'box', col_order = [False,True], col_wrap = 1, aspect = 3)"
   ]
  },
  {
   "cell_type": "code",
   "execution_count": 16,
   "id": "474a3053",
   "metadata": {},
   "outputs": [
    {
     "data": {
      "image/png": "[encoded data removed]",
      "text/plain": [
       "<Figure size 1080x720 with 2 Axes>"
      ]
     },
     "metadata": {},
     "output_type": "display_data"
    }
   ],
   "source": [
    "g = sns.catplot(data = test_results_df, x= 'Model', y = 'F1_score', col = 'Shuffled', hue = 'Model',\\\n",
    "            kind = 'box', col_order = [False,True], col_wrap = 1, aspect = 3)"
   ]
  },
  {
   "cell_type": "code",
   "execution_count": 17,
   "id": "c0b308aa",
   "metadata": {},
   "outputs": [],
   "source": [
    "results_true_df = results_df.loc[results_df.Shuffled == False]"
   ]
  },
  {
   "cell_type": "code",
   "execution_count": 18,
   "id": "b4dfafe4",
   "metadata": {},
   "outputs": [
    {
     "data": {
      "text/html": [
       "<div>\n",
       "<style scoped>\n",
       "    .dataframe tbody tr th:only-of-type {\n",
       "        vertical-align: middle;\n",
       "    }\n",
       "\n",
       "    .dataframe tbody tr th {\n",
       "        vertical-align: top;\n",
       "    }\n",
       "\n",
       "    .dataframe thead th {\n",
       "        text-align: right;\n",
       "    }\n",
       "</style>\n",
       "<table border=\"1\" class=\"dataframe\">\n",
       "  <thead>\n",
       "    <tr style=\"text-align: right;\">\n",
       "      <th></th>\n",
       "      <th>sum_sq</th>\n",
       "      <th>df</th>\n",
       "      <th>F</th>\n",
       "      <th>PR(&gt;F)</th>\n",
       "    </tr>\n",
       "  </thead>\n",
       "  <tbody>\n",
       "    <tr>\n",
       "      <th>C(Model)</th>\n",
       "      <td>1.477116</td>\n",
       "      <td>14.0</td>\n",
       "      <td>162.355348</td>\n",
       "      <td>1.636410e-122</td>\n",
       "    </tr>\n",
       "    <tr>\n",
       "      <th>C(Type)</th>\n",
       "      <td>0.642749</td>\n",
       "      <td>1.0</td>\n",
       "      <td>989.056832</td>\n",
       "      <td>2.922950e-92</td>\n",
       "    </tr>\n",
       "    <tr>\n",
       "      <th>C(Model):C(Type)</th>\n",
       "      <td>0.040006</td>\n",
       "      <td>14.0</td>\n",
       "      <td>4.397251</td>\n",
       "      <td>4.477885e-07</td>\n",
       "    </tr>\n",
       "    <tr>\n",
       "      <th>Residual</th>\n",
       "      <td>0.175462</td>\n",
       "      <td>270.0</td>\n",
       "      <td>NaN</td>\n",
       "      <td>NaN</td>\n",
       "    </tr>\n",
       "  </tbody>\n",
       "</table>\n",
       "</div>"
      ],
      "text/plain": [
       "                    sum_sq     df           F         PR(>F)\n",
       "C(Model)          1.477116   14.0  162.355348  1.636410e-122\n",
       "C(Type)           0.642749    1.0  989.056832   2.922950e-92\n",
       "C(Model):C(Type)  0.040006   14.0    4.397251   4.477885e-07\n",
       "Residual          0.175462  270.0         NaN            NaN"
      ]
     },
     "execution_count": 18,
     "metadata": {},
     "output_type": "execute_result"
    }
   ],
   "source": [
    "# Run ANOVA\n",
    "model = ols('F1_score ~ C(Model)*C(Type)', results_true_df).fit()\n",
    "\n",
    "# Creates the ANOVA table\n",
    "res = sm.stats.anova_lm(model, typ= 2)\n",
    "res"
   ]
  },
  {
   "cell_type": "code",
   "execution_count": 19,
   "id": "4ddca7cf",
   "metadata": {},
   "outputs": [
    {
     "name": "stdout",
     "output_type": "stream",
     "text": [
      "    Multiple Comparison of Means - Tukey HSD, FWER=0.05     \n",
      "============================================================\n",
      "  group1     group2   meandiff p-adj   lower   upper  reject\n",
      "------------------------------------------------------------\n",
      "  1 - Test  1 - Train   0.1278  0.001  0.0845   0.171   True\n",
      "  1 - Test  10 - Test  -0.0076    0.9 -0.0508  0.0356  False\n",
      "  1 - Test 10 - Train   0.1029  0.001  0.0597  0.1461   True\n",
      "  1 - Test  11 - Test  -0.0038    0.9  -0.047  0.0394  False\n",
      "  1 - Test 11 - Train   0.1138  0.001  0.0706   0.157   True\n",
      "  1 - Test  12 - Test  -0.0077    0.9 -0.0509  0.0355  False\n",
      "  1 - Test 12 - Train   0.0994  0.001  0.0562  0.1426   True\n",
      "  1 - Test  13 - Test  -0.1629  0.001 -0.2061 -0.1197   True\n",
      "  1 - Test 13 - Train  -0.0877  0.001 -0.1309 -0.0445   True\n",
      "  1 - Test  14 - Test  -0.0161    0.9 -0.0593  0.0271  False\n",
      "  1 - Test 14 - Train   0.0589  0.001  0.0157  0.1022   True\n",
      "  1 - Test  15 - Test  -0.2139  0.001 -0.2571 -0.1707   True\n",
      "  1 - Test 15 - Train  -0.1624  0.001 -0.2057 -0.1192   True\n",
      "  1 - Test   2 - Test  -0.0014    0.9 -0.0446  0.0418  False\n",
      "  1 - Test  2 - Train   0.0935  0.001  0.0503  0.1367   True\n",
      "  1 - Test   3 - Test  -0.0036    0.9 -0.0468  0.0396  False\n",
      "  1 - Test  3 - Train   0.0752  0.001   0.032  0.1184   True\n",
      "  1 - Test   4 - Test  -0.0052    0.9 -0.0484   0.038  False\n",
      "  1 - Test  4 - Train   0.0634  0.001  0.0202  0.1066   True\n",
      "  1 - Test   5 - Test  -0.0029    0.9 -0.0462  0.0403  False\n",
      "  1 - Test  5 - Train   0.0937  0.001  0.0505  0.1369   True\n",
      "  1 - Test   6 - Test  -0.0067    0.9 -0.0499  0.0365  False\n",
      "  1 - Test  6 - Train   0.0689  0.001  0.0257  0.1122   True\n",
      "  1 - Test   7 - Test  -0.0348  0.358  -0.078  0.0084  False\n",
      "  1 - Test  7 - Train   0.0331 0.4691 -0.0101  0.0763  False\n",
      "  1 - Test   8 - Test  -0.0014    0.9 -0.0447  0.0418  False\n",
      "  1 - Test  8 - Train    0.124  0.001  0.0807  0.1672   True\n",
      "  1 - Test   9 - Test   -0.002    0.9 -0.0452  0.0412  False\n",
      "  1 - Test  9 - Train   0.1139  0.001  0.0707  0.1571   True\n",
      " 1 - Train  10 - Test  -0.1353  0.001 -0.1785 -0.0921   True\n",
      " 1 - Train 10 - Train  -0.0249    0.9 -0.0681  0.0184  False\n",
      " 1 - Train  11 - Test  -0.1315  0.001 -0.1748 -0.0883   True\n",
      " 1 - Train 11 - Train  -0.0139    0.9 -0.0571  0.0293  False\n",
      " 1 - Train  12 - Test  -0.1355  0.001 -0.1787 -0.0923   True\n",
      " 1 - Train 12 - Train  -0.0284 0.7468 -0.0716  0.0149  False\n",
      " 1 - Train  13 - Test  -0.2907  0.001 -0.3339 -0.2475   True\n",
      " 1 - Train 13 - Train  -0.2155  0.001 -0.2587 -0.1723   True\n",
      " 1 - Train  14 - Test  -0.1439  0.001 -0.1871 -0.1007   True\n",
      " 1 - Train 14 - Train  -0.0688  0.001  -0.112 -0.0256   True\n",
      " 1 - Train  15 - Test  -0.3416  0.001 -0.3848 -0.2984   True\n",
      " 1 - Train 15 - Train  -0.2902  0.001 -0.3334  -0.247   True\n",
      " 1 - Train   2 - Test  -0.1292  0.001 -0.1724  -0.086   True\n",
      " 1 - Train  2 - Train  -0.0342 0.3938 -0.0775   0.009  False\n",
      " 1 - Train   3 - Test  -0.1314  0.001 -0.1746 -0.0882   True\n",
      " 1 - Train  3 - Train  -0.0525 0.0023 -0.0958 -0.0093   True\n",
      " 1 - Train   4 - Test  -0.1329  0.001 -0.1761 -0.0897   True\n",
      " 1 - Train  4 - Train  -0.0643  0.001 -0.1075 -0.0211   True\n",
      " 1 - Train   5 - Test  -0.1307  0.001 -0.1739 -0.0875   True\n",
      " 1 - Train  5 - Train   -0.034 0.4072 -0.0773  0.0092  False\n",
      " 1 - Train   6 - Test  -0.1345  0.001 -0.1777 -0.0913   True\n",
      " 1 - Train  6 - Train  -0.0588  0.001  -0.102 -0.0156   True\n",
      " 1 - Train   7 - Test  -0.1625  0.001 -0.2057 -0.1193   True\n",
      " 1 - Train  7 - Train  -0.0946  0.001 -0.1379 -0.0514   True\n",
      " 1 - Train   8 - Test  -0.1292  0.001 -0.1724  -0.086   True\n",
      " 1 - Train  8 - Train  -0.0038    0.9  -0.047  0.0394  False\n",
      " 1 - Train   9 - Test  -0.1298  0.001  -0.173 -0.0866   True\n",
      " 1 - Train  9 - Train  -0.0139    0.9 -0.0571  0.0293  False\n",
      " 10 - Test 10 - Train   0.1105  0.001  0.0673  0.1537   True\n",
      " 10 - Test  11 - Test   0.0038    0.9 -0.0394   0.047  False\n",
      " 10 - Test 11 - Train   0.1214  0.001  0.0782  0.1646   True\n",
      " 10 - Test  12 - Test  -0.0002    0.9 -0.0434  0.0431  False\n",
      " 10 - Test 12 - Train    0.107  0.001  0.0638  0.1502   True\n",
      " 10 - Test  13 - Test  -0.1553  0.001 -0.1986 -0.1121   True\n",
      " 10 - Test 13 - Train  -0.0801  0.001 -0.1233 -0.0369   True\n",
      " 10 - Test  14 - Test  -0.0086    0.9 -0.0518  0.0347  False\n",
      " 10 - Test 14 - Train   0.0665  0.001  0.0233  0.1097   True\n",
      " 10 - Test  15 - Test  -0.2063  0.001 -0.2495 -0.1631   True\n",
      " 10 - Test 15 - Train  -0.1549  0.001 -0.1981 -0.1116   True\n",
      " 10 - Test   2 - Test   0.0062    0.9  -0.037  0.0494  False\n",
      " 10 - Test  2 - Train   0.1011  0.001  0.0579  0.1443   True\n",
      " 10 - Test   3 - Test    0.004    0.9 -0.0393  0.0472  False\n",
      " 10 - Test  3 - Train   0.0828  0.001  0.0396   0.126   True\n",
      " 10 - Test   4 - Test   0.0024    0.9 -0.0408  0.0456  False\n",
      " 10 - Test  4 - Train    0.071  0.001  0.0278  0.1142   True\n",
      " 10 - Test   5 - Test   0.0046    0.9 -0.0386  0.0479  False\n",
      " 10 - Test  5 - Train   0.1013  0.001  0.0581  0.1445   True\n",
      " 10 - Test   6 - Test   0.0008    0.9 -0.0424  0.0441  False\n",
      " 10 - Test  6 - Train   0.0765  0.001  0.0333  0.1197   True\n",
      " 10 - Test   7 - Test  -0.0272 0.8146 -0.0704   0.016  False\n",
      " 10 - Test  7 - Train   0.0407 0.0986 -0.0025  0.0839  False\n",
      " 10 - Test   8 - Test   0.0061    0.9 -0.0371  0.0493  False\n",
      " 10 - Test  8 - Train   0.1315  0.001  0.0883  0.1747   True\n",
      " 10 - Test   9 - Test   0.0056    0.9 -0.0376  0.0488  False\n",
      " 10 - Test  9 - Train   0.1215  0.001  0.0783  0.1647   True\n",
      "10 - Train  11 - Test  -0.1067  0.001 -0.1499 -0.0635   True\n",
      "10 - Train 11 - Train   0.0109    0.9 -0.0323  0.0541  False\n",
      "10 - Train  12 - Test  -0.1106  0.001 -0.1538 -0.0674   True\n",
      "10 - Train 12 - Train  -0.0035    0.9 -0.0467  0.0397  False\n",
      "10 - Train  13 - Test  -0.2658  0.001  -0.309 -0.2226   True\n",
      "10 - Train 13 - Train  -0.1906  0.001 -0.2338 -0.1474   True\n",
      "10 - Train  14 - Test   -0.119  0.001 -0.1622 -0.0758   True\n",
      "10 - Train 14 - Train   -0.044 0.0404 -0.0872 -0.0007   True\n",
      "10 - Train  15 - Test  -0.3168  0.001   -0.36 -0.2736   True\n",
      "10 - Train 15 - Train  -0.2653  0.001 -0.3086 -0.2221   True\n",
      "10 - Train   2 - Test  -0.1043  0.001 -0.1475 -0.0611   True\n",
      "10 - Train  2 - Train  -0.0094    0.9 -0.0526  0.0338  False\n",
      "10 - Train   3 - Test  -0.1065  0.001 -0.1497 -0.0633   True\n",
      "10 - Train  3 - Train  -0.0277 0.7854 -0.0709  0.0155  False\n",
      "10 - Train   4 - Test  -0.1081  0.001 -0.1513 -0.0649   True\n",
      "10 - Train  4 - Train  -0.0395 0.1325 -0.0827  0.0037  False\n",
      "10 - Train   5 - Test  -0.1058  0.001 -0.1491 -0.0626   True\n",
      "10 - Train  5 - Train  -0.0092    0.9 -0.0524   0.034  False\n",
      "10 - Train   6 - Test  -0.1096  0.001 -0.1528 -0.0664   True\n",
      "10 - Train  6 - Train   -0.034 0.4134 -0.0772  0.0093  False\n",
      "10 - Train   7 - Test  -0.1377  0.001 -0.1809 -0.0945   True\n",
      "10 - Train  7 - Train  -0.0698  0.001  -0.113 -0.0266   True\n",
      "10 - Train   8 - Test  -0.1043  0.001 -0.1476 -0.0611   True\n",
      "10 - Train  8 - Train   0.0211    0.9 -0.0222  0.0643  False\n",
      "10 - Train   9 - Test  -0.1049  0.001 -0.1481 -0.0617   True\n",
      "10 - Train  9 - Train    0.011    0.9 -0.0322  0.0542  False\n",
      " 11 - Test 11 - Train   0.1176  0.001  0.0744  0.1608   True\n",
      " 11 - Test  12 - Test  -0.0039    0.9 -0.0471  0.0393  False\n",
      " 11 - Test 12 - Train   0.1032  0.001    0.06  0.1464   True\n",
      " 11 - Test  13 - Test  -0.1591  0.001 -0.2023 -0.1159   True\n",
      " 11 - Test 13 - Train  -0.0839  0.001 -0.1271 -0.0407   True\n",
      " 11 - Test  14 - Test  -0.0123    0.9 -0.0555  0.0309  False\n",
      " 11 - Test 14 - Train   0.0627  0.001  0.0195   0.106   True\n",
      " 11 - Test  15 - Test  -0.2101  0.001 -0.2533 -0.1669   True\n",
      " 11 - Test 15 - Train  -0.1586  0.001 -0.2019 -0.1154   True\n",
      " 11 - Test   2 - Test   0.0024    0.9 -0.0408  0.0456  False\n",
      " 11 - Test  2 - Train   0.0973  0.001  0.0541  0.1405   True\n",
      " 11 - Test   3 - Test   0.0002    0.9  -0.043  0.0434  False\n",
      " 11 - Test  3 - Train    0.079  0.001  0.0358  0.1222   True\n",
      " 11 - Test   4 - Test  -0.0014    0.9 -0.0446  0.0418  False\n",
      " 11 - Test  4 - Train   0.0672  0.001   0.024  0.1104   True\n",
      " 11 - Test   5 - Test   0.0009    0.9 -0.0424  0.0441  False\n",
      " 11 - Test  5 - Train   0.0975  0.001  0.0543  0.1407   True\n",
      " 11 - Test   6 - Test  -0.0029    0.9 -0.0462  0.0403  False\n",
      " 11 - Test  6 - Train   0.0727  0.001  0.0295   0.116   True\n",
      " 11 - Test   7 - Test   -0.031 0.5947 -0.0742  0.0122  False\n",
      " 11 - Test  7 - Train   0.0369 0.2373 -0.0063  0.0801  False\n",
      " 11 - Test   8 - Test   0.0023    0.9 -0.0409  0.0456  False\n",
      " 11 - Test  8 - Train   0.1277  0.001  0.0845   0.171   True\n",
      " 11 - Test   9 - Test   0.0018    0.9 -0.0414   0.045  False\n",
      " 11 - Test  9 - Train   0.1177  0.001  0.0745  0.1609   True\n",
      "11 - Train  12 - Test  -0.1216  0.001 -0.1648 -0.0784   True\n",
      "11 - Train 12 - Train  -0.0144    0.9 -0.0576  0.0288  False\n",
      "11 - Train  13 - Test  -0.2768  0.001   -0.32 -0.2335   True\n",
      "11 - Train 13 - Train  -0.2015  0.001 -0.2448 -0.1583   True\n",
      "11 - Train  14 - Test    -0.13  0.001 -0.1732 -0.0868   True\n",
      "11 - Train 14 - Train  -0.0549  0.001 -0.0981 -0.0117   True\n",
      "11 - Train  15 - Test  -0.3277  0.001 -0.3709 -0.2845   True\n",
      "11 - Train 15 - Train  -0.2763  0.001 -0.3195 -0.2331   True\n",
      "11 - Train   2 - Test  -0.1152  0.001 -0.1585  -0.072   True\n",
      "11 - Train  2 - Train  -0.0203    0.9 -0.0635  0.0229  False\n",
      "11 - Train   3 - Test  -0.1175  0.001 -0.1607 -0.0742   True\n",
      "11 - Train  3 - Train  -0.0386 0.1637 -0.0818  0.0046  False\n",
      "11 - Train   4 - Test   -0.119  0.001 -0.1622 -0.0758   True\n",
      "11 - Train  4 - Train  -0.0504  0.005 -0.0936 -0.0072   True\n",
      "11 - Train   5 - Test  -0.1168  0.001   -0.16 -0.0736   True\n",
      "11 - Train  5 - Train  -0.0201    0.9 -0.0633  0.0231  False\n",
      "11 - Train   6 - Test  -0.1206  0.001 -0.1638 -0.0774   True\n",
      "11 - Train  6 - Train  -0.0449 0.0306 -0.0881 -0.0017   True\n",
      "11 - Train   7 - Test  -0.1486  0.001 -0.1918 -0.1054   True\n",
      "11 - Train  7 - Train  -0.0807  0.001 -0.1239 -0.0375   True\n",
      "11 - Train   8 - Test  -0.1153  0.001 -0.1585 -0.0721   True\n",
      "11 - Train  8 - Train   0.0101    0.9 -0.0331  0.0533  False\n",
      "11 - Train   9 - Test  -0.1158  0.001 -0.1591 -0.0726   True\n",
      "11 - Train  9 - Train   0.0001    0.9 -0.0431  0.0433  False\n",
      " 12 - Test 12 - Train   0.1071  0.001  0.0639  0.1503   True\n",
      " 12 - Test  13 - Test  -0.1552  0.001 -0.1984  -0.112   True\n",
      " 12 - Test 13 - Train    -0.08  0.001 -0.1232 -0.0368   True\n",
      " 12 - Test  14 - Test  -0.0084    0.9 -0.0516  0.0348  False\n",
      " 12 - Test 14 - Train   0.0667  0.001  0.0235  0.1099   True\n",
      " 12 - Test  15 - Test  -0.2061  0.001 -0.2494 -0.1629   True\n",
      " 12 - Test 15 - Train  -0.1547  0.001 -0.1979 -0.1115   True\n",
      " 12 - Test   2 - Test   0.0063    0.9 -0.0369  0.0495  False\n",
      " 12 - Test  2 - Train   0.1012  0.001   0.058  0.1445   True\n",
      " 12 - Test   3 - Test   0.0041    0.9 -0.0391  0.0473  False\n",
      " 12 - Test  3 - Train   0.0829  0.001  0.0397  0.1262   True\n",
      " 12 - Test   4 - Test   0.0026    0.9 -0.0407  0.0458  False\n",
      " 12 - Test  4 - Train   0.0711  0.001  0.0279  0.1144   True\n",
      " 12 - Test   5 - Test   0.0048    0.9 -0.0384   0.048  False\n",
      " 12 - Test  5 - Train   0.1014  0.001  0.0582  0.1447   True\n",
      " 12 - Test   6 - Test    0.001    0.9 -0.0422  0.0442  False\n",
      " 12 - Test  6 - Train   0.0767  0.001  0.0335  0.1199   True\n",
      " 12 - Test   7 - Test   -0.027 0.8234 -0.0702  0.0162  False\n",
      " 12 - Test  7 - Train   0.0408 0.0947 -0.0024  0.0841  False\n",
      " 12 - Test   8 - Test   0.0063    0.9 -0.0369  0.0495  False\n",
      " 12 - Test  8 - Train   0.1317  0.001  0.0885  0.1749   True\n",
      " 12 - Test   9 - Test   0.0057    0.9 -0.0375  0.0489  False\n",
      " 12 - Test  9 - Train   0.1216  0.001  0.0784  0.1648   True\n",
      "12 - Train  13 - Test  -0.2623  0.001 -0.3055 -0.2191   True\n",
      "12 - Train 13 - Train  -0.1871  0.001 -0.2303 -0.1439   True\n",
      "12 - Train  14 - Test  -0.1155  0.001 -0.1587 -0.0723   True\n",
      "12 - Train 14 - Train  -0.0405 0.1051 -0.0837  0.0028  False\n",
      "12 - Train  15 - Test  -0.3133  0.001 -0.3565 -0.2701   True\n",
      "12 - Train 15 - Train  -0.2618  0.001 -0.3051 -0.2186   True\n",
      "12 - Train   2 - Test  -0.1008  0.001  -0.144 -0.0576   True\n",
      "12 - Train  2 - Train  -0.0059    0.9 -0.0491  0.0373  False\n",
      "12 - Train   3 - Test   -0.103  0.001 -0.1462 -0.0598   True\n",
      "12 - Train  3 - Train  -0.0242    0.9 -0.0674   0.019  False\n",
      "12 - Train   4 - Test  -0.1046  0.001 -0.1478 -0.0614   True\n",
      "12 - Train  4 - Train   -0.036 0.2853 -0.0792  0.0072  False\n",
      "12 - Train   5 - Test  -0.1023  0.001 -0.1456 -0.0591   True\n",
      "12 - Train  5 - Train  -0.0057    0.9 -0.0489  0.0375  False\n",
      "12 - Train   6 - Test  -0.1061  0.001 -0.1493 -0.0629   True\n",
      "12 - Train  6 - Train  -0.0305 0.6248 -0.0737  0.0128  False\n",
      "12 - Train   7 - Test  -0.1342  0.001 -0.1774  -0.091   True\n",
      "12 - Train  7 - Train  -0.0663  0.001 -0.1095 -0.0231   True\n",
      "12 - Train   8 - Test  -0.1008  0.001 -0.1441 -0.0576   True\n",
      "12 - Train  8 - Train   0.0246    0.9 -0.0187  0.0678  False\n",
      "12 - Train   9 - Test  -0.1014  0.001 -0.1446 -0.0582   True\n",
      "12 - Train  9 - Train   0.0145    0.9 -0.0287  0.0577  False\n",
      " 13 - Test 13 - Train   0.0752  0.001   0.032  0.1184   True\n",
      " 13 - Test  14 - Test   0.1468  0.001  0.1036    0.19   True\n",
      " 13 - Test 14 - Train   0.2219  0.001  0.1787  0.2651   True\n",
      " 13 - Test  15 - Test  -0.0509 0.0041 -0.0942 -0.0077   True\n",
      " 13 - Test 15 - Train   0.0005    0.9 -0.0427  0.0437  False\n",
      " 13 - Test   2 - Test   0.1615  0.001  0.1183  0.2047   True\n",
      " 13 - Test  2 - Train   0.2564  0.001  0.2132  0.2997   True\n",
      " 13 - Test   3 - Test   0.1593  0.001  0.1161  0.2025   True\n",
      " 13 - Test  3 - Train   0.2381  0.001  0.1949  0.2814   True\n",
      " 13 - Test   4 - Test   0.1578  0.001  0.1145   0.201   True\n",
      " 13 - Test  4 - Train   0.2263  0.001  0.1831  0.2696   True\n",
      " 13 - Test   5 - Test     0.16  0.001  0.1168  0.2032   True\n",
      " 13 - Test  5 - Train   0.2566  0.001  0.2134  0.2998   True\n",
      " 13 - Test   6 - Test   0.1562  0.001   0.113  0.1994   True\n",
      " 13 - Test  6 - Train   0.2319  0.001  0.1887  0.2751   True\n",
      " 13 - Test   7 - Test   0.1282  0.001   0.085  0.1714   True\n",
      " 13 - Test  7 - Train    0.196  0.001  0.1528  0.2393   True\n",
      " 13 - Test   8 - Test   0.1615  0.001  0.1183  0.2047   True\n",
      " 13 - Test  8 - Train   0.2869  0.001  0.2437  0.3301   True\n",
      " 13 - Test   9 - Test   0.1609  0.001  0.1177  0.2041   True\n",
      " 13 - Test  9 - Train   0.2768  0.001  0.2336    0.32   True\n",
      "13 - Train  14 - Test   0.0716  0.001  0.0284  0.1148   True\n",
      "13 - Train 14 - Train   0.1467  0.001  0.1034  0.1899   True\n",
      "13 - Train  15 - Test  -0.1262  0.001 -0.1694  -0.083   True\n",
      "13 - Train 15 - Train  -0.0747  0.001 -0.1179 -0.0315   True\n",
      "13 - Train   2 - Test   0.0863  0.001  0.0431  0.1295   True\n",
      "13 - Train  2 - Train   0.1812  0.001   0.138  0.2244   True\n",
      "13 - Train   3 - Test   0.0841  0.001  0.0409  0.1273   True\n",
      "13 - Train  3 - Train   0.1629  0.001  0.1197  0.2061   True\n",
      "13 - Train   4 - Test   0.0825  0.001  0.0393  0.1257   True\n",
      "13 - Train  4 - Train   0.1511  0.001  0.1079  0.1943   True\n",
      "13 - Train   5 - Test   0.0848  0.001  0.0416   0.128   True\n",
      "13 - Train  5 - Train   0.1814  0.001  0.1382  0.2246   True\n",
      "13 - Train   6 - Test    0.081  0.001  0.0378  0.1242   True\n",
      "13 - Train  6 - Train   0.1567  0.001  0.1134  0.1999   True\n",
      "13 - Train   7 - Test   0.0529  0.002  0.0097  0.0962   True\n",
      "13 - Train  7 - Train   0.1208  0.001  0.0776   0.164   True\n",
      "13 - Train   8 - Test   0.0863  0.001   0.043  0.1295   True\n",
      "13 - Train  8 - Train   0.2117  0.001  0.1685  0.2549   True\n",
      "13 - Train   9 - Test   0.0857  0.001  0.0425  0.1289   True\n",
      "13 - Train  9 - Train   0.2016  0.001  0.1584  0.2448   True\n",
      " 14 - Test 14 - Train   0.0751  0.001  0.0319  0.1183   True\n",
      " 14 - Test  15 - Test  -0.1977  0.001  -0.241 -0.1545   True\n",
      " 14 - Test 15 - Train  -0.1463  0.001 -0.1895 -0.1031   True\n",
      " 14 - Test   2 - Test   0.0147    0.9 -0.0285  0.0579  False\n",
      " 14 - Test  2 - Train   0.1096  0.001  0.0664  0.1529   True\n",
      " 14 - Test   3 - Test   0.0125    0.9 -0.0307  0.0557  False\n",
      " 14 - Test  3 - Train   0.0913  0.001  0.0481  0.1346   True\n",
      " 14 - Test   4 - Test    0.011    0.9 -0.0323  0.0542  False\n",
      " 14 - Test  4 - Train   0.0795  0.001  0.0363  0.1228   True\n",
      " 14 - Test   5 - Test   0.0132    0.9   -0.03  0.0564  False\n",
      " 14 - Test  5 - Train   0.1098  0.001  0.0666  0.1531   True\n",
      " 14 - Test   6 - Test   0.0094    0.9 -0.0338  0.0526  False\n",
      " 14 - Test  6 - Train   0.0851  0.001  0.0419  0.1283   True\n",
      " 14 - Test   7 - Test  -0.0186    0.9 -0.0618  0.0246  False\n",
      " 14 - Test  7 - Train   0.0492 0.0075   0.006  0.0925   True\n",
      " 14 - Test   8 - Test   0.0147    0.9 -0.0285  0.0579  False\n",
      " 14 - Test  8 - Train   0.1401  0.001  0.0969  0.1833   True\n",
      " 14 - Test   9 - Test   0.0141    0.9 -0.0291  0.0573  False\n",
      " 14 - Test  9 - Train     0.13  0.001  0.0868  0.1732   True\n",
      "14 - Train  15 - Test  -0.2728  0.001  -0.316 -0.2296   True\n",
      "14 - Train 15 - Train  -0.2214  0.001 -0.2646 -0.1782   True\n",
      "14 - Train   2 - Test  -0.0604  0.001 -0.1036 -0.0172   True\n",
      "14 - Train  2 - Train   0.0346 0.3713 -0.0086  0.0778  False\n",
      "14 - Train   3 - Test  -0.0626  0.001 -0.1058 -0.0194   True\n",
      "14 - Train  3 - Train   0.0163    0.9 -0.0269  0.0595  False\n",
      "14 - Train   4 - Test  -0.0641  0.001 -0.1073 -0.0209   True\n",
      "14 - Train  4 - Train   0.0045    0.9 -0.0387  0.0477  False\n",
      "14 - Train   5 - Test  -0.0619  0.001 -0.1051 -0.0187   True\n",
      "14 - Train  5 - Train   0.0348 0.3582 -0.0084   0.078  False\n",
      "14 - Train   6 - Test  -0.0657  0.001 -0.1089 -0.0225   True\n",
      "14 - Train  6 - Train     0.01    0.9 -0.0332  0.0532  False\n",
      "14 - Train   7 - Test  -0.0937  0.001 -0.1369 -0.0505   True\n",
      "14 - Train  7 - Train  -0.0258 0.8933  -0.069  0.0174  False\n",
      "14 - Train   8 - Test  -0.0604  0.001 -0.1036 -0.0172   True\n",
      "14 - Train  8 - Train    0.065  0.001  0.0218  0.1082   True\n",
      "14 - Train   9 - Test   -0.061  0.001 -0.1042 -0.0178   True\n",
      "14 - Train  9 - Train   0.0549  0.001  0.0117  0.0982   True\n",
      " 15 - Test 15 - Train   0.0514 0.0034  0.0082  0.0946   True\n",
      " 15 - Test   2 - Test   0.2125  0.001  0.1692  0.2557   True\n",
      " 15 - Test  2 - Train   0.3074  0.001  0.2642  0.3506   True\n",
      " 15 - Test   3 - Test   0.2103  0.001   0.167  0.2535   True\n",
      " 15 - Test  3 - Train   0.2891  0.001  0.2459  0.3323   True\n",
      " 15 - Test   4 - Test   0.2087  0.001  0.1655  0.2519   True\n",
      " 15 - Test  4 - Train   0.2773  0.001  0.2341  0.3205   True\n",
      " 15 - Test   5 - Test   0.2109  0.001  0.1677  0.2541   True\n",
      " 15 - Test  5 - Train   0.3076  0.001  0.2644  0.3508   True\n",
      " 15 - Test   6 - Test   0.2071  0.001  0.1639  0.2504   True\n",
      " 15 - Test  6 - Train   0.2828  0.001  0.2396   0.326   True\n",
      " 15 - Test   7 - Test   0.1791  0.001  0.1359  0.2223   True\n",
      " 15 - Test  7 - Train    0.247  0.001  0.2038  0.2902   True\n",
      " 15 - Test   8 - Test   0.2124  0.001  0.1692  0.2556   True\n",
      " 15 - Test  8 - Train   0.3378  0.001  0.2946   0.381   True\n",
      " 15 - Test   9 - Test   0.2119  0.001  0.1686  0.2551   True\n",
      " 15 - Test  9 - Train   0.3278  0.001  0.2846   0.371   True\n",
      "15 - Train   2 - Test    0.161  0.001  0.1178  0.2042   True\n",
      "15 - Train  2 - Train    0.256  0.001  0.2127  0.2992   True\n",
      "15 - Train   3 - Test   0.1588  0.001  0.1156   0.202   True\n",
      "15 - Train  3 - Train   0.2377  0.001  0.1944  0.2809   True\n",
      "15 - Train   4 - Test   0.1573  0.001  0.1141  0.2005   True\n",
      "15 - Train  4 - Train   0.2259  0.001  0.1826  0.2691   True\n",
      "15 - Train   5 - Test   0.1595  0.001  0.1163  0.2027   True\n",
      "15 - Train  5 - Train   0.2561  0.001  0.2129  0.2994   True\n",
      "15 - Train   6 - Test   0.1557  0.001  0.1125  0.1989   True\n",
      "15 - Train  6 - Train   0.2314  0.001  0.1882  0.2746   True\n",
      "15 - Train   7 - Test   0.1277  0.001  0.0845  0.1709   True\n",
      "15 - Train  7 - Train   0.1956  0.001  0.1523  0.2388   True\n",
      "15 - Train   8 - Test    0.161  0.001  0.1178  0.2042   True\n",
      "15 - Train  8 - Train   0.2864  0.001  0.2432  0.3296   True\n",
      "15 - Train   9 - Test   0.1604  0.001  0.1172  0.2036   True\n",
      "15 - Train  9 - Train   0.2763  0.001  0.2331  0.3195   True\n",
      "  2 - Test  2 - Train   0.0949  0.001  0.0517  0.1381   True\n",
      "  2 - Test   3 - Test  -0.0022    0.9 -0.0454   0.041  False\n",
      "  2 - Test  3 - Train   0.0766  0.001  0.0334  0.1198   True\n",
      "  2 - Test   4 - Test  -0.0038    0.9  -0.047  0.0395  False\n",
      "  2 - Test  4 - Train   0.0648  0.001  0.0216   0.108   True\n",
      "  2 - Test   5 - Test  -0.0015    0.9 -0.0447  0.0417  False\n",
      "  2 - Test  5 - Train   0.0951  0.001  0.0519  0.1383   True\n",
      "  2 - Test   6 - Test  -0.0053    0.9 -0.0485  0.0379  False\n",
      "  2 - Test  6 - Train   0.0704  0.001  0.0272  0.1136   True\n",
      "  2 - Test   7 - Test  -0.0334 0.4538 -0.0766  0.0099  False\n",
      "  2 - Test  7 - Train   0.0345 0.3741 -0.0087  0.0777  False\n",
      "  2 - Test   8 - Test     -0.0    0.9 -0.0432  0.0432  False\n",
      "  2 - Test  8 - Train   0.1254  0.001  0.0822  0.1686   True\n",
      "  2 - Test   9 - Test  -0.0006    0.9 -0.0438  0.0426  False\n",
      "  2 - Test  9 - Train   0.1153  0.001  0.0721  0.1585   True\n",
      " 2 - Train   3 - Test  -0.0971  0.001 -0.1403 -0.0539   True\n",
      " 2 - Train  3 - Train  -0.0183    0.9 -0.0615  0.0249  False\n",
      " 2 - Train   4 - Test  -0.0987  0.001 -0.1419 -0.0555   True\n",
      " 2 - Train  4 - Train  -0.0301 0.6455 -0.0733  0.0131  False\n",
      " 2 - Train   5 - Test  -0.0965  0.001 -0.1397 -0.0532   True\n",
      " 2 - Train  5 - Train   0.0002    0.9  -0.043  0.0434  False\n",
      " 2 - Train   6 - Test  -0.1002  0.001 -0.1435  -0.057   True\n",
      " 2 - Train  6 - Train  -0.0246    0.9 -0.0678  0.0186  False\n",
      " 2 - Train   7 - Test  -0.1283  0.001 -0.1715 -0.0851   True\n",
      " 2 - Train  7 - Train  -0.0604  0.001 -0.1036 -0.0172   True\n",
      " 2 - Train   8 - Test   -0.095  0.001 -0.1382 -0.0518   True\n",
      " 2 - Train  8 - Train   0.0304 0.6256 -0.0128  0.0737  False\n",
      " 2 - Train   9 - Test  -0.0955  0.001 -0.1387 -0.0523   True\n",
      " 2 - Train  9 - Train   0.0204    0.9 -0.0228  0.0636  False\n",
      "  3 - Test  3 - Train   0.0788  0.001  0.0356   0.122   True\n",
      "  3 - Test   4 - Test  -0.0016    0.9 -0.0448  0.0417  False\n",
      "  3 - Test  4 - Train    0.067  0.001  0.0238  0.1103   True\n",
      "  3 - Test   5 - Test   0.0007    0.9 -0.0425  0.0439  False\n",
      "  3 - Test  5 - Train   0.0973  0.001  0.0541  0.1405   True\n",
      "  3 - Test   6 - Test  -0.0031    0.9 -0.0463  0.0401  False\n",
      "  3 - Test  6 - Train   0.0726  0.001  0.0294  0.1158   True\n",
      "  3 - Test   7 - Test  -0.0311 0.5847 -0.0744  0.0121  False\n",
      "  3 - Test  7 - Train   0.0367 0.2453 -0.0065  0.0799  False\n",
      "  3 - Test   8 - Test   0.0022    0.9  -0.041  0.0454  False\n",
      "  3 - Test  8 - Train   0.1276  0.001  0.0844  0.1708   True\n",
      "  3 - Test   9 - Test   0.0016    0.9 -0.0416  0.0448  False\n",
      "  3 - Test  9 - Train   0.1175  0.001  0.0743  0.1607   True\n",
      " 3 - Train   4 - Test  -0.0804  0.001 -0.1236 -0.0372   True\n",
      " 3 - Train  4 - Train  -0.0118    0.9  -0.055  0.0314  False\n",
      " 3 - Train   5 - Test  -0.0782  0.001 -0.1214 -0.0349   True\n",
      " 3 - Train  5 - Train   0.0185    0.9 -0.0247  0.0617  False\n",
      " 3 - Train   6 - Test  -0.0819  0.001 -0.1252 -0.0387   True\n",
      " 3 - Train  6 - Train  -0.0063    0.9 -0.0495  0.0369  False\n",
      " 3 - Train   7 - Test    -0.11  0.001 -0.1532 -0.0668   True\n",
      " 3 - Train  7 - Train  -0.0421 0.0687 -0.0853  0.0011  False\n",
      " 3 - Train   8 - Test  -0.0767  0.001 -0.1199 -0.0334   True\n",
      " 3 - Train  8 - Train   0.0487 0.0089  0.0055   0.092   True\n",
      " 3 - Train   9 - Test  -0.0772  0.001 -0.1204  -0.034   True\n",
      " 3 - Train  9 - Train   0.0387 0.1613 -0.0045  0.0819  False\n",
      "  4 - Test  4 - Train   0.0686  0.001  0.0254  0.1118   True\n",
      "  4 - Test   5 - Test   0.0022    0.9  -0.041  0.0454  False\n",
      "  4 - Test  5 - Train   0.0989  0.001  0.0557  0.1421   True\n",
      "  4 - Test   6 - Test  -0.0016    0.9 -0.0448  0.0417  False\n",
      "  4 - Test  6 - Train   0.0741  0.001  0.0309  0.1173   True\n",
      "  4 - Test   7 - Test  -0.0296 0.6749 -0.0728  0.0136  False\n",
      "  4 - Test  7 - Train   0.0383 0.1757 -0.0049  0.0815  False\n",
      "  4 - Test   8 - Test   0.0037    0.9 -0.0395  0.0469  False\n",
      "  4 - Test  8 - Train   0.1291  0.001  0.0859  0.1723   True\n",
      "  4 - Test   9 - Test   0.0032    0.9 -0.0401  0.0464  False\n",
      "  4 - Test  9 - Train   0.1191  0.001  0.0759  0.1623   True\n",
      " 4 - Train   5 - Test  -0.0664  0.001 -0.1096 -0.0231   True\n",
      " 4 - Train  5 - Train   0.0303 0.6342 -0.0129  0.0735  False\n",
      " 4 - Train   6 - Test  -0.0702  0.001 -0.1134 -0.0269   True\n",
      " 4 - Train  6 - Train   0.0055    0.9 -0.0377  0.0487  False\n",
      " 4 - Train   7 - Test  -0.0982  0.001 -0.1414  -0.055   True\n",
      " 4 - Train  7 - Train  -0.0303 0.6335 -0.0735  0.0129  False\n",
      " 4 - Train   8 - Test  -0.0649  0.001 -0.1081 -0.0217   True\n",
      " 4 - Train  8 - Train   0.0605  0.001  0.0173  0.1037   True\n",
      " 4 - Train   9 - Test  -0.0654  0.001 -0.1086 -0.0222   True\n",
      " 4 - Train  9 - Train   0.0505 0.0048  0.0073  0.0937   True\n",
      "  5 - Test  5 - Train   0.0967  0.001  0.0534  0.1399   True\n",
      "  5 - Test   6 - Test  -0.0038    0.9  -0.047  0.0394  False\n",
      "  5 - Test  6 - Train   0.0719  0.001  0.0287  0.1151   True\n",
      "  5 - Test   7 - Test  -0.0318 0.5451  -0.075  0.0114  False\n",
      "  5 - Test  7 - Train   0.0361 0.2815 -0.0072  0.0793  False\n",
      "  5 - Test   8 - Test   0.0015    0.9 -0.0417  0.0447  False\n",
      "  5 - Test  8 - Train   0.1269  0.001  0.0837  0.1701   True\n",
      "  5 - Test   9 - Test   0.0009    0.9 -0.0423  0.0441  False\n",
      "  5 - Test  9 - Train   0.1168  0.001  0.0736    0.16   True\n",
      " 5 - Train   6 - Test  -0.1004  0.001 -0.1437 -0.0572   True\n",
      " 5 - Train  6 - Train  -0.0248    0.9  -0.068  0.0184  False\n",
      " 5 - Train   7 - Test  -0.1285  0.001 -0.1717 -0.0853   True\n",
      " 5 - Train  7 - Train  -0.0606  0.001 -0.1038 -0.0174   True\n",
      " 5 - Train   8 - Test  -0.0952  0.001 -0.1384 -0.0519   True\n",
      " 5 - Train  8 - Train   0.0302 0.6369  -0.013  0.0735  False\n",
      " 5 - Train   9 - Test  -0.0957  0.001 -0.1389 -0.0525   True\n",
      " 5 - Train  9 - Train   0.0202    0.9  -0.023  0.0634  False\n",
      "  6 - Test  6 - Train   0.0757  0.001  0.0325  0.1189   True\n",
      "  6 - Test   7 - Test   -0.028 0.7655 -0.0712  0.0152  False\n",
      "  6 - Test  7 - Train   0.0398  0.123 -0.0034  0.0831  False\n",
      "  6 - Test   8 - Test   0.0053    0.9 -0.0379  0.0485  False\n",
      "  6 - Test  8 - Train   0.1307  0.001  0.0875  0.1739   True\n",
      "  6 - Test   9 - Test   0.0047    0.9 -0.0385  0.0479  False\n",
      "  6 - Test  9 - Train   0.1206  0.001  0.0774  0.1638   True\n",
      " 6 - Train   7 - Test  -0.1037  0.001 -0.1469 -0.0605   True\n",
      " 6 - Train  7 - Train  -0.0358 0.2936  -0.079  0.0074  False\n",
      " 6 - Train   8 - Test  -0.0704  0.001 -0.1136 -0.0272   True\n",
      " 6 - Train  8 - Train    0.055  0.001  0.0118  0.0982   True\n",
      " 6 - Train   9 - Test   -0.071  0.001 -0.1142 -0.0278   True\n",
      " 6 - Train  9 - Train   0.0449 0.0301  0.0017  0.0882   True\n",
      "  7 - Test  7 - Train   0.0679  0.001  0.0247  0.1111   True\n",
      "  7 - Test   8 - Test   0.0333 0.4559 -0.0099  0.0765  False\n",
      "  7 - Test  8 - Train   0.1587  0.001  0.1155  0.2019   True\n",
      "  7 - Test   9 - Test   0.0328 0.4913 -0.0105   0.076  False\n",
      "  7 - Test  9 - Train   0.1487  0.001  0.1055  0.1919   True\n",
      " 7 - Train   8 - Test  -0.0346 0.3719 -0.0778  0.0087  False\n",
      " 7 - Train  8 - Train   0.0908  0.001  0.0476  0.1341   True\n",
      " 7 - Train   9 - Test  -0.0351 0.3343 -0.0783  0.0081  False\n",
      " 7 - Train  9 - Train   0.0808  0.001  0.0376   0.124   True\n",
      "  8 - Test  8 - Train   0.1254  0.001  0.0822  0.1686   True\n",
      "  8 - Test   9 - Test  -0.0006    0.9 -0.0438  0.0426  False\n",
      "  8 - Test  9 - Train   0.1153  0.001  0.0721  0.1586   True\n",
      " 8 - Train   9 - Test   -0.126  0.001 -0.1692 -0.0828   True\n",
      " 8 - Train  9 - Train  -0.0101    0.9 -0.0533  0.0331  False\n",
      "  9 - Test  9 - Train   0.1159  0.001  0.0727  0.1591   True\n",
      "------------------------------------------------------------\n"
     ]
    }
   ],
   "source": [
    "groups =  results_true_df['Model'].map(str) + ' - ' + results_true_df['Type'].map(str)\n",
    "\n",
    "mc = statsmodels.stats.multicomp.MultiComparison(results_true_df['F1_score'],groups)\n",
    "mc_results = mc.tukeyhsd()\n",
    "print(mc_results)\n"
   ]
  },
  {
   "cell_type": "code",
   "execution_count": null,
   "id": "850ae961",
   "metadata": {},
   "outputs": [],
   "source": []
  },
  {
   "cell_type": "code",
   "execution_count": 25,
   "id": "e707814f",
   "metadata": {},
   "outputs": [],
   "source": [
    "test_results_true_df = results_df.loc[(results_df.Type == 'Test')&(results_df.Shuffled == False)]\n",
    "train_results_true_df = results_df.loc[(results_df.Type == 'Train')&(results_df.Shuffled == False)]\n"
   ]
  },
  {
   "cell_type": "code",
   "execution_count": 26,
   "id": "bff6ff8b",
   "metadata": {},
   "outputs": [
    {
     "data": {
      "text/html": [
       "<div>\n",
       "<style scoped>\n",
       "    .dataframe tbody tr th:only-of-type {\n",
       "        vertical-align: middle;\n",
       "    }\n",
       "\n",
       "    .dataframe tbody tr th {\n",
       "        vertical-align: top;\n",
       "    }\n",
       "\n",
       "    .dataframe thead th {\n",
       "        text-align: right;\n",
       "    }\n",
       "</style>\n",
       "<table border=\"1\" class=\"dataframe\">\n",
       "  <thead>\n",
       "    <tr style=\"text-align: right;\">\n",
       "      <th></th>\n",
       "      <th>sum_sq</th>\n",
       "      <th>df</th>\n",
       "      <th>F</th>\n",
       "      <th>PR(&gt;F)</th>\n",
       "    </tr>\n",
       "  </thead>\n",
       "  <tbody>\n",
       "    <tr>\n",
       "      <th>C(Model)</th>\n",
       "      <td>0.924579</td>\n",
       "      <td>14.0</td>\n",
       "      <td>93.342832</td>\n",
       "      <td>3.704050e-62</td>\n",
       "    </tr>\n",
       "    <tr>\n",
       "      <th>Residual</th>\n",
       "      <td>0.095514</td>\n",
       "      <td>135.0</td>\n",
       "      <td>NaN</td>\n",
       "      <td>NaN</td>\n",
       "    </tr>\n",
       "  </tbody>\n",
       "</table>\n",
       "</div>"
      ],
      "text/plain": [
       "            sum_sq     df          F        PR(>F)\n",
       "C(Model)  0.924579   14.0  93.342832  3.704050e-62\n",
       "Residual  0.095514  135.0        NaN           NaN"
      ]
     },
     "execution_count": 26,
     "metadata": {},
     "output_type": "execute_result"
    }
   ],
   "source": [
    "# Run ANOVA\n",
    "model = ols('F1_score ~ C(Model)', train_results_true_df).fit()\n",
    "\n",
    "# Creates the ANOVA table\n",
    "res = sm.stats.anova_lm(model, typ= 2)\n",
    "res"
   ]
  },
  {
   "cell_type": "code",
   "execution_count": 27,
   "id": "de253cf4",
   "metadata": {},
   "outputs": [
    {
     "name": "stdout",
     "output_type": "stream",
     "text": [
      "Multiple Comparison of Means - Tukey HSD, FWER=0.05 \n",
      "====================================================\n",
      "group1 group2 meandiff p-adj   lower   upper  reject\n",
      "----------------------------------------------------\n",
      "     1     10  -0.0249  0.711  -0.066  0.0163  False\n",
      "     1     11  -0.0139    0.9  -0.055  0.0272  False\n",
      "     1     12  -0.0284 0.5271 -0.0695  0.0127  False\n",
      "     1     13  -0.2155  0.001 -0.2566 -0.1744   True\n",
      "     1     14  -0.0688  0.001 -0.1099 -0.0277   True\n",
      "     1     15  -0.2902  0.001 -0.3313 -0.2491   True\n",
      "     1      2  -0.0342 0.2204 -0.0753  0.0069  False\n",
      "     1      3  -0.0525 0.0018 -0.0936 -0.0114   True\n",
      "     1      4  -0.0643  0.001 -0.1054 -0.0232   True\n",
      "     1      5   -0.034 0.2284 -0.0751  0.0071  False\n",
      "     1      6  -0.0588  0.001 -0.0999 -0.0177   True\n",
      "     1      7  -0.0946  0.001 -0.1357 -0.0535   True\n",
      "     1      8  -0.0038    0.9 -0.0449  0.0373  False\n",
      "     1      9  -0.0139    0.9  -0.055  0.0272  False\n",
      "    10     11   0.0109    0.9 -0.0302   0.052  False\n",
      "    10     12  -0.0035    0.9 -0.0446  0.0376  False\n",
      "    10     13  -0.1906  0.001 -0.2317 -0.1495   True\n",
      "    10     14   -0.044 0.0239 -0.0851 -0.0029   True\n",
      "    10     15  -0.2653  0.001 -0.3064 -0.2242   True\n",
      "    10      2  -0.0094    0.9 -0.0505  0.0317  False\n",
      "    10      3  -0.0277  0.562 -0.0688  0.0134  False\n",
      "    10      4  -0.0395 0.0742 -0.0806  0.0016  False\n",
      "    10      5  -0.0092    0.9 -0.0503  0.0319  False\n",
      "    10      6   -0.034 0.2321 -0.0751  0.0071  False\n",
      "    10      7  -0.0698  0.001 -0.1109 -0.0287   True\n",
      "    10      8   0.0211    0.9 -0.0201  0.0622  False\n",
      "    10      9    0.011    0.9 -0.0301  0.0521  False\n",
      "    11     12  -0.0144    0.9 -0.0555  0.0267  False\n",
      "    11     13  -0.2015  0.001 -0.2426 -0.1604   True\n",
      "    11     14  -0.0549  0.001  -0.096 -0.0138   True\n",
      "    11     15  -0.2763  0.001 -0.3174 -0.2352   True\n",
      "    11      2  -0.0203    0.9 -0.0614  0.0208  False\n",
      "    11      3  -0.0386 0.0896 -0.0797  0.0025  False\n",
      "    11      4  -0.0504 0.0036 -0.0915 -0.0093   True\n",
      "    11      5  -0.0201    0.9 -0.0612   0.021  False\n",
      "    11      6  -0.0449 0.0186  -0.086 -0.0038   True\n",
      "    11      7  -0.0807  0.001 -0.1218 -0.0396   True\n",
      "    11      8   0.0101    0.9  -0.031  0.0512  False\n",
      "    11      9   0.0001    0.9  -0.041  0.0412  False\n",
      "    12     13  -0.1871  0.001 -0.2282  -0.146   True\n",
      "    12     14  -0.0405 0.0587 -0.0816  0.0006  False\n",
      "    12     15  -0.2618  0.001 -0.3029 -0.2207   True\n",
      "    12      2  -0.0059    0.9  -0.047  0.0352  False\n",
      "    12      3  -0.0242 0.7458 -0.0653  0.0169  False\n",
      "    12      4   -0.036 0.1578 -0.0771  0.0051  False\n",
      "    12      5  -0.0057    0.9 -0.0468  0.0354  False\n",
      "    12      6  -0.0305 0.4103 -0.0716  0.0106  False\n",
      "    12      7  -0.0663  0.001 -0.1074 -0.0252   True\n",
      "    12      8   0.0246 0.7267 -0.0165  0.0657  False\n",
      "    12      9   0.0145    0.9 -0.0266  0.0556  False\n",
      "    13     14   0.1467  0.001  0.1056  0.1878   True\n",
      "    13     15  -0.0747  0.001 -0.1158 -0.0336   True\n",
      "    13      2   0.1812  0.001  0.1401  0.2223   True\n",
      "    13      3   0.1629  0.001  0.1218   0.204   True\n",
      "    13      4   0.1511  0.001    0.11  0.1922   True\n",
      "    13      5   0.1814  0.001  0.1403  0.2225   True\n",
      "    13      6   0.1567  0.001  0.1156  0.1978   True\n",
      "    13      7   0.1208  0.001  0.0797  0.1619   True\n",
      "    13      8   0.2117  0.001  0.1706  0.2528   True\n",
      "    13      9   0.2016  0.001  0.1605  0.2427   True\n",
      "    14     15  -0.2214  0.001 -0.2625 -0.1803   True\n",
      "    14      2   0.0346 0.2073 -0.0065  0.0757  False\n",
      "    14      3   0.0163    0.9 -0.0248  0.0574  False\n",
      "    14      4   0.0045    0.9 -0.0366  0.0456  False\n",
      "    14      5   0.0348 0.1998 -0.0063  0.0759  False\n",
      "    14      6     0.01    0.9 -0.0311  0.0511  False\n",
      "    14      7  -0.0258 0.6595 -0.0669  0.0153  False\n",
      "    14      8    0.065  0.001  0.0239  0.1061   True\n",
      "    14      9   0.0549  0.001  0.0138  0.0961   True\n",
      "    15      2    0.256  0.001  0.2149  0.2971   True\n",
      "    15      3   0.2377  0.001  0.1965  0.2788   True\n",
      "    15      4   0.2259  0.001  0.1848   0.267   True\n",
      "    15      5   0.2561  0.001   0.215  0.2973   True\n",
      "    15      6   0.2314  0.001  0.1903  0.2725   True\n",
      "    15      7   0.1956  0.001  0.1544  0.2367   True\n",
      "    15      8   0.2864  0.001  0.2453  0.3275   True\n",
      "    15      9   0.2763  0.001  0.2352  0.3174   True\n",
      "     2      3  -0.0183    0.9 -0.0594  0.0228  False\n",
      "     2      4  -0.0301 0.4312 -0.0712   0.011  False\n",
      "     2      5   0.0002    0.9 -0.0409  0.0413  False\n",
      "     2      6  -0.0246  0.726 -0.0657  0.0165  False\n",
      "     2      7  -0.0604  0.001 -0.1015 -0.0193   True\n",
      "     2      8   0.0304 0.4111 -0.0107  0.0715  False\n",
      "     2      9   0.0204    0.9 -0.0207  0.0615  False\n",
      "     3      4  -0.0118    0.9 -0.0529  0.0293  False\n",
      "     3      5   0.0185    0.9 -0.0226  0.0596  False\n",
      "     3      6  -0.0063    0.9 -0.0474  0.0348  False\n",
      "     3      7  -0.0421  0.039 -0.0832  -0.001   True\n",
      "     3      8   0.0487 0.0061  0.0076  0.0898   True\n",
      "     3      9   0.0387 0.0883 -0.0024  0.0798  False\n",
      "     4      5   0.0303 0.4198 -0.0108  0.0714  False\n",
      "     4      6   0.0055    0.9 -0.0356  0.0466  False\n",
      "     4      7  -0.0303 0.4191 -0.0714  0.0108  False\n",
      "     4      8   0.0605  0.001  0.0194  0.1016   True\n",
      "     4      9   0.0505 0.0036  0.0094  0.0916   True\n",
      "     5      6  -0.0248 0.7157 -0.0659  0.0163  False\n",
      "     5      7  -0.0606  0.001 -0.1017 -0.0195   True\n",
      "     5      8   0.0302 0.4225 -0.0109  0.0713  False\n",
      "     5      9   0.0202    0.9 -0.0209  0.0613  False\n",
      "     6      7  -0.0358 0.1627 -0.0769  0.0053  False\n",
      "     6      8    0.055  0.001  0.0139  0.0961   True\n",
      "     6      9   0.0449 0.0183  0.0038   0.086   True\n",
      "     7      8   0.0908  0.001  0.0497  0.1319   True\n",
      "     7      9   0.0808  0.001  0.0397  0.1219   True\n",
      "     8      9  -0.0101    0.9 -0.0512   0.031  False\n",
      "----------------------------------------------------\n"
     ]
    }
   ],
   "source": [
    "groups =  train_results_true_df['Model'].map(str) #+ ' - ' + test_results_true_df['Shuffled'].map(str)\n",
    "\n",
    "mc = statsmodels.stats.multicomp.MultiComparison(train_results_true_df['F1_score'],groups)\n",
    "mc_results = mc.tukeyhsd()\n",
    "print(mc_results)\n",
    "\n",
    "#p_values = psturng(np.abs(mc_results.meandiffs / mc_results.std_pairs), len(mc_results.groupsunique), mc_results.df_total)"
   ]
  },
  {
   "cell_type": "code",
   "execution_count": 28,
   "id": "b0ae0b21",
   "metadata": {},
   "outputs": [
    {
     "data": {
      "text/html": [
       "<div>\n",
       "<style scoped>\n",
       "    .dataframe tbody tr th:only-of-type {\n",
       "        vertical-align: middle;\n",
       "    }\n",
       "\n",
       "    .dataframe tbody tr th {\n",
       "        vertical-align: top;\n",
       "    }\n",
       "\n",
       "    .dataframe thead th {\n",
       "        text-align: right;\n",
       "    }\n",
       "</style>\n",
       "<table border=\"1\" class=\"dataframe\">\n",
       "  <thead>\n",
       "    <tr style=\"text-align: right;\">\n",
       "      <th></th>\n",
       "      <th>Shuffled</th>\n",
       "      <th>Model</th>\n",
       "      <th>Train_score</th>\n",
       "      <th>Test_score</th>\n",
       "    </tr>\n",
       "  </thead>\n",
       "  <tbody>\n",
       "    <tr>\n",
       "      <th>0</th>\n",
       "      <td>False</td>\n",
       "      <td>1</td>\n",
       "      <td>0.944832</td>\n",
       "      <td>0.817078</td>\n",
       "    </tr>\n",
       "    <tr>\n",
       "      <th>7</th>\n",
       "      <td>False</td>\n",
       "      <td>8</td>\n",
       "      <td>0.941032</td>\n",
       "      <td>0.815630</td>\n",
       "    </tr>\n",
       "    <tr>\n",
       "      <th>8</th>\n",
       "      <td>False</td>\n",
       "      <td>9</td>\n",
       "      <td>0.930972</td>\n",
       "      <td>0.815061</td>\n",
       "    </tr>\n",
       "    <tr>\n",
       "      <th>10</th>\n",
       "      <td>False</td>\n",
       "      <td>11</td>\n",
       "      <td>0.930910</td>\n",
       "      <td>0.813283</td>\n",
       "    </tr>\n",
       "    <tr>\n",
       "      <th>9</th>\n",
       "      <td>False</td>\n",
       "      <td>10</td>\n",
       "      <td>0.919980</td>\n",
       "      <td>0.809497</td>\n",
       "    </tr>\n",
       "    <tr>\n",
       "      <th>11</th>\n",
       "      <td>False</td>\n",
       "      <td>12</td>\n",
       "      <td>0.916479</td>\n",
       "      <td>0.809345</td>\n",
       "    </tr>\n",
       "    <tr>\n",
       "      <th>4</th>\n",
       "      <td>False</td>\n",
       "      <td>5</td>\n",
       "      <td>0.910787</td>\n",
       "      <td>0.814137</td>\n",
       "    </tr>\n",
       "    <tr>\n",
       "      <th>1</th>\n",
       "      <td>False</td>\n",
       "      <td>2</td>\n",
       "      <td>0.910592</td>\n",
       "      <td>0.815662</td>\n",
       "    </tr>\n",
       "    <tr>\n",
       "      <th>2</th>\n",
       "      <td>False</td>\n",
       "      <td>3</td>\n",
       "      <td>0.892290</td>\n",
       "      <td>0.813455</td>\n",
       "    </tr>\n",
       "    <tr>\n",
       "      <th>5</th>\n",
       "      <td>False</td>\n",
       "      <td>6</td>\n",
       "      <td>0.886025</td>\n",
       "      <td>0.810343</td>\n",
       "    </tr>\n",
       "    <tr>\n",
       "      <th>3</th>\n",
       "      <td>False</td>\n",
       "      <td>4</td>\n",
       "      <td>0.880494</td>\n",
       "      <td>0.811903</td>\n",
       "    </tr>\n",
       "    <tr>\n",
       "      <th>13</th>\n",
       "      <td>False</td>\n",
       "      <td>14</td>\n",
       "      <td>0.876023</td>\n",
       "      <td>0.800946</td>\n",
       "    </tr>\n",
       "    <tr>\n",
       "      <th>6</th>\n",
       "      <td>False</td>\n",
       "      <td>7</td>\n",
       "      <td>0.850190</td>\n",
       "      <td>0.782311</td>\n",
       "    </tr>\n",
       "    <tr>\n",
       "      <th>12</th>\n",
       "      <td>False</td>\n",
       "      <td>13</td>\n",
       "      <td>0.729369</td>\n",
       "      <td>0.654149</td>\n",
       "    </tr>\n",
       "    <tr>\n",
       "      <th>14</th>\n",
       "      <td>False</td>\n",
       "      <td>15</td>\n",
       "      <td>0.654637</td>\n",
       "      <td>0.603202</td>\n",
       "    </tr>\n",
       "  </tbody>\n",
       "</table>\n",
       "</div>"
      ],
      "text/plain": [
       "    Shuffled  Model  Train_score  Test_score\n",
       "0      False      1     0.944832    0.817078\n",
       "7      False      8     0.941032    0.815630\n",
       "8      False      9     0.930972    0.815061\n",
       "10     False     11     0.930910    0.813283\n",
       "9      False     10     0.919980    0.809497\n",
       "11     False     12     0.916479    0.809345\n",
       "4      False      5     0.910787    0.814137\n",
       "1      False      2     0.910592    0.815662\n",
       "2      False      3     0.892290    0.813455\n",
       "5      False      6     0.886025    0.810343\n",
       "3      False      4     0.880494    0.811903\n",
       "13     False     14     0.876023    0.800946\n",
       "6      False      7     0.850190    0.782311\n",
       "12     False     13     0.729369    0.654149\n",
       "14     False     15     0.654637    0.603202"
      ]
     },
     "execution_count": 28,
     "metadata": {},
     "output_type": "execute_result"
    }
   ],
   "source": [
    "#put things in dataframe and sort\n",
    "summary_df.reset_index().loc[summary_df.reset_index().Shuffled == False].\\\n",
    "sort_values(by=['Train_score','Test_score'],ascending = False)#.reset_index().lo"
   ]
  },
  {
   "cell_type": "code",
   "execution_count": null,
   "id": "8749403d",
   "metadata": {},
   "outputs": [],
   "source": []
  },
  {
   "cell_type": "code",
   "execution_count": null,
   "id": "44a53d01",
   "metadata": {},
   "outputs": [],
   "source": []
  },
  {
   "cell_type": "code",
   "execution_count": 29,
   "id": "8a4ebf85",
   "metadata": {},
   "outputs": [
    {
     "data": {
      "text/plain": [
       "<AxesSubplot:>"
      ]
     },
     "execution_count": 29,
     "metadata": {},
     "output_type": "execute_result"
    },
    {
     "data": {
      "image/png": "[encoded data removed]",
      "text/plain": [
       "<Figure size 432x288 with 1 Axes>"
      ]
     },
     "metadata": {},
     "output_type": "display_data"
    }
   ],
   "source": [
    "#checking correlaiton between train and test values - True data\n",
    "\n",
    "X = results_df.loc[(results_df.Type == 'Train')&(results_df.Shuffled == False)]['F1_score'].values\n",
    "Y = results_df.loc[(results_df.Type == 'Test')&(results_df.Shuffled == False)]['F1_score'].values\n",
    "\n",
    "sns.scatterplot(x = X, y = Y)"
   ]
  },
  {
   "cell_type": "code",
   "execution_count": 30,
   "id": "5d3586a7",
   "metadata": {},
   "outputs": [
    {
     "data": {
      "text/plain": [
       "<AxesSubplot:>"
      ]
     },
     "execution_count": 30,
     "metadata": {},
     "output_type": "execute_result"
    },
    {
     "data": {
      "image/png": "[encoded data removed]",
      "text/plain": [
       "<Figure size 432x288 with 1 Axes>"
      ]
     },
     "metadata": {},
     "output_type": "display_data"
    }
   ],
   "source": [
    "#checking correlaiton between train and test values - Shuffled data\n",
    "X = results_df.loc[(results_df.Type == 'Train')&(results_df.Shuffled == True)]['F1_score'].values\n",
    "Y = results_df.loc[(results_df.Type == 'Test')&(results_df.Shuffled == True)]['F1_score'].values\n",
    "\n",
    "sns.scatterplot(x = X, y = Y)"
   ]
  },
  {
   "cell_type": "code",
   "execution_count": 17,
   "id": "931d6b7e",
   "metadata": {},
   "outputs": [],
   "source": [
    "X = results_df.loc[(results_df.Type == 'Train')&(results_df.Type == 'Test')]"
   ]
  },
  {
   "cell_type": "code",
   "execution_count": null,
   "id": "96f55299",
   "metadata": {},
   "outputs": [],
   "source": []
  },
  {
   "cell_type": "code",
   "execution_count": 18,
   "id": "68d39f6d",
   "metadata": {},
   "outputs": [],
   "source": [
    "results_df.loc[results_df.Type=='Test','Type'] = 'Validation'"
   ]
  },
  {
   "cell_type": "code",
   "execution_count": 31,
   "id": "81272f74",
   "metadata": {},
   "outputs": [
    {
     "name": "stdout",
     "output_type": "stream",
     "text": [
      "=======================\n",
      "./EMG_data/17\n",
      "=======================\n",
      "./EMG_data/23\n",
      "=======================\n",
      "./EMG_data/07\n",
      "=======================\n",
      "./EMG_data/08\n",
      "=======================\n",
      "./EMG_data/03\n"
     ]
    }
   ],
   "source": [
    "#define where the data files are located\n",
    "data_folder = './EMG_data/'\n",
    "\n",
    "nsubjects = 36\n",
    "\n",
    "#randomly-selected subjects to use as hold-out test data \n",
    "test_subjects = np.array([17, 23,  7,  8,  3])\n",
    "\n",
    "# User-defined parameters\n",
    "lo_freq = 20 #lower bound of bandpass filter\n",
    "hi_freq = 450 #upper bound of bandpass filter\n",
    "\n",
    "win_size = 100 #define window size over which to compute time-domain features\n",
    "step = win_size #keeping this parameter in case we want to re-run later with some overlap\n",
    "\n",
    "#excluded labels\n",
    "exclude = [0,7]\n",
    "\n",
    "#intialize empty lists\n",
    "feature_matrix_all = np.empty((0,0))\n",
    "target_labels_all = np.empty((0,))\n",
    "window_tstamps_all = np.empty((0,))\n",
    "block_labels_all  = np.empty((0,))\n",
    "series_labels_all  = np.empty((0,))\n",
    "\n",
    "subject_id_all = np.empty((0,))\n",
    "block_count = 0\n",
    "\n",
    "for subject_id in test_subjects:\n",
    "\n",
    "    subject_folder = os.path.join(data_folder,'%02d'%(subject_id))\n",
    "    print('=======================')\n",
    "    print(subject_folder)\n",
    "\n",
    "    # Process data and get features \n",
    "    #get features across segments and corresponding info\n",
    "    feature_matrix, target_labels, window_tstamps, \\\n",
    "    block_labels, series_labels = get_subject_data_for_classification(subject_folder, lo_freq, hi_freq, \\\n",
    "                                                                    win_size, step)\n",
    "\n",
    "    #prevent repeat of block labels by increasing block count\n",
    "    block_labels = block_labels+block_count\n",
    "    block_count = np.max([block_count, np.max(block_labels)])\n",
    "    #exclude indicated samples\n",
    "    in_samples = np.where(np.isin(target_labels,exclude, invert = True))[0]\n",
    "    feature_matrix_in = feature_matrix[in_samples,:]\n",
    "    target_labels_in = target_labels[in_samples]\n",
    "    window_tstamps_in = window_tstamps[in_samples]\n",
    "    block_labels_in = block_labels[in_samples]\n",
    "    series_labels_in = series_labels[in_samples]\n",
    "    # concatenate lists\n",
    "    feature_matrix_all = np.vstack((feature_matrix_all,feature_matrix_in)) if feature_matrix_all.size else feature_matrix_in\n",
    "    target_labels_all = np.hstack((target_labels_all,target_labels_in))\n",
    "    window_tstamps_all = np.hstack((window_tstamps_all,window_tstamps_in))\n",
    "    block_labels_all = np.hstack((block_labels_all,block_labels_in))\n",
    "    series_labels_all = np.hstack((series_labels_all,series_labels_in))\n",
    "    subject_id_all = np.hstack((subject_id_all,np.ones((block_labels_in.size))*subject_id))\n"
   ]
  },
  {
   "cell_type": "code",
   "execution_count": 32,
   "id": "519effd9",
   "metadata": {},
   "outputs": [],
   "source": [
    "def permute_class_within_sub(target_labels, block_labels, sub_labels):\n",
    "    subs = np.unique(sub_labels)\n",
    "    #permute labels within each subject\n",
    "    class_perm = np.empty((0,))\n",
    "    for s in subs:\n",
    "        sub_idxs = np.where(sub_labels==s)[0]\n",
    "        blocks_sub = block_labels[sub_idxs]\n",
    "        class_sub = target_labels[sub_idxs]\n",
    "\n",
    "        class_sub_perm, dummy = permute_class_blocks(blocks_sub, class_sub)\n",
    "        class_perm = np.hstack((class_perm, class_sub_perm))\n",
    "    target_labels = class_perm.copy()\n",
    "    return target_labels"
   ]
  },
  {
   "cell_type": "code",
   "execution_count": 33,
   "id": "1d07ab1c",
   "metadata": {},
   "outputs": [],
   "source": [
    "import pickle\n",
    "from tensorflow import keras"
   ]
  },
  {
   "cell_type": "code",
   "execution_count": 34,
   "id": "1031c3f9",
   "metadata": {},
   "outputs": [
    {
     "name": "stderr",
     "output_type": "stream",
     "text": [
      "/Users/cesar/anaconda2/envs/EMG/lib/python3.6/site-packages/sklearn/base.py:315: UserWarning: Trying to unpickle estimator StandardScaler from version 0.22.2.post1 when using version 0.24.2. This might lead to breaking code or invalid results. Use at your own risk.\n",
      "  UserWarning)\n"
     ]
    }
   ],
   "source": [
    "model_folder = './model_data/xsubject_joint_data/RNN/'\n",
    "#load scaler\n",
    "scaler_fn = 'scaler_all_training_data.pkl'\n",
    "with open(os.path.join(model_folder,scaler_fn), \"rb\") as input_file:\n",
    "    scaler = pickle.load(input_file)"
   ]
  },
  {
   "cell_type": "code",
   "execution_count": 35,
   "id": "0b1ea962",
   "metadata": {},
   "outputs": [
    {
     "name": "stdout",
     "output_type": "stream",
     "text": [
      "17 0\n",
      "23 0\n",
      "7 0\n",
      "8 0\n",
      "3 0\n",
      "17 1\n",
      "23 1\n",
      "7 1\n",
      "8 1\n",
      "3 1\n",
      "17 2\n",
      "23 2\n",
      "7 2\n",
      "8 2\n",
      "3 2\n",
      "17 3\n",
      "23 3\n",
      "7 3\n",
      "8 3\n",
      "3 3\n",
      "17 4\n",
      "23 4\n",
      "7 4\n",
      "8 4\n",
      "3 4\n",
      "17 5\n",
      "23 5\n",
      "7 5\n",
      "8 5\n",
      "3 5\n",
      "17 6\n",
      "23 6\n",
      "7 6\n",
      "8 6\n",
      "3 6\n",
      "17 7\n",
      "23 7\n",
      "7 7\n",
      "8 7\n",
      "3 7\n",
      "17 8\n",
      "23 8\n",
      "7 8\n",
      "8 8\n",
      "3 8\n",
      "17 9\n",
      "23 9\n",
      "7 9\n",
      "8 9\n",
      "3 9\n"
     ]
    }
   ],
   "source": [
    "test_results_df = []\n",
    "nreps = 10\n",
    "for rep in range(nreps):\n",
    "    model_fn = os.path.join(model_folder, 'model_rep_%i_all_train_data.h5'%(rep))\n",
    "    trained_model = keras.models.load_model(model_fn)\n",
    "    \n",
    "    target_labels_perm = permute_class_within_sub(target_labels_all, block_labels_all, subject_id_all)\n",
    "\n",
    "    test_f1_scores = np.empty((test_subjects.size))\n",
    "    test_f1_perm_scores = np.empty((test_subjects.size))\n",
    "    for sub_idx, subject_id in enumerate(test_subjects):\n",
    "        print(subject_id, rep)\n",
    "\n",
    "        sub_idxs = np.where(subject_id_all==subject_id)[0]\n",
    "        X_test = feature_matrix_all[sub_idxs,:].T\n",
    "        y_test = target_labels_all[sub_idxs]\n",
    "        #one-hot encoding of class labels\n",
    "        y_test = to_categorical(y_test-np.min(y_test))\n",
    "        win_blocks_test = block_labels_all[sub_idxs]\n",
    "\n",
    "        # select test data and pad to get an array where each sample has same number of timesteps\n",
    "\n",
    "        #get data cube\n",
    "        X_test_cube, Y_test_cube, scaler = get_data_cube(X_test, y_test, win_blocks_test, train = False, scaler = scaler, magic_value = -100)\n",
    "\n",
    "        test_f1_scores[sub_idx] = get_RNN_f1(X_test_cube, Y_test_cube, trained_model)\n",
    "        \n",
    "        y_test = target_labels_perm[sub_idxs]\n",
    "        y_test = to_categorical(y_test-np.min(y_test))\n",
    "        #get data cube\n",
    "        X_test_cube, Y_test_cube, scaler = get_data_cube(X_test, y_test, win_blocks_test, train = False, scaler = scaler, magic_value = -100)\n",
    "\n",
    "        test_f1_perm_scores[sub_idx] = get_RNN_f1(X_test_cube, Y_test_cube, trained_model)\n",
    "        \n",
    "    #put results in dataframe\n",
    "    test_results_df.append(pd.DataFrame({'F1_score':test_f1_scores,\\\n",
    "                                         'Subject':test_subjects,\\\n",
    "                'Rep':[rep+1 for x in range(test_f1_scores.size)],\\\n",
    "                'Type':['Test' for x in range(test_f1_scores.size)],\\\n",
    "                'Shuffled':[False for x in range(test_f1_scores.size)]\n",
    "                }))\n",
    "    test_results_df.append(pd.DataFrame({'F1_score':test_f1_perm_scores,\\\n",
    "                                         'Subject':test_subjects,\\\n",
    "                'Rep':[rep+1 for x in range(test_f1_perm_scores.size)],\\\n",
    "                'Type':['Test' for x in range(test_f1_perm_scores.size)],\\\n",
    "                'Shuffled':[True for x in range(test_f1_perm_scores.size)]\n",
    "                }))\n",
    "test_results_df = pd.concat(test_results_df, axis = 0)"
   ]
  },
  {
   "cell_type": "code",
   "execution_count": 48,
   "id": "8ab57790",
   "metadata": {},
   "outputs": [
    {
     "data": {
      "text/html": [
       "<div>\n",
       "<style scoped>\n",
       "    .dataframe tbody tr th:only-of-type {\n",
       "        vertical-align: middle;\n",
       "    }\n",
       "\n",
       "    .dataframe tbody tr th {\n",
       "        vertical-align: top;\n",
       "    }\n",
       "\n",
       "    .dataframe thead th {\n",
       "        text-align: right;\n",
       "    }\n",
       "</style>\n",
       "<table border=\"1\" class=\"dataframe\">\n",
       "  <thead>\n",
       "    <tr style=\"text-align: right;\">\n",
       "      <th></th>\n",
       "      <th></th>\n",
       "      <th></th>\n",
       "      <th>F1_score</th>\n",
       "      <th>Rep</th>\n",
       "    </tr>\n",
       "    <tr>\n",
       "      <th>Type</th>\n",
       "      <th>Shuffled</th>\n",
       "      <th>Subject</th>\n",
       "      <th></th>\n",
       "      <th></th>\n",
       "    </tr>\n",
       "  </thead>\n",
       "  <tbody>\n",
       "    <tr>\n",
       "      <th rowspan=\"10\" valign=\"top\">Test</th>\n",
       "      <th rowspan=\"5\" valign=\"top\">False</th>\n",
       "      <th>3</th>\n",
       "      <td>0.917813</td>\n",
       "      <td>5.5</td>\n",
       "    </tr>\n",
       "    <tr>\n",
       "      <th>7</th>\n",
       "      <td>0.441177</td>\n",
       "      <td>5.5</td>\n",
       "    </tr>\n",
       "    <tr>\n",
       "      <th>8</th>\n",
       "      <td>0.949749</td>\n",
       "      <td>5.5</td>\n",
       "    </tr>\n",
       "    <tr>\n",
       "      <th>17</th>\n",
       "      <td>0.931676</td>\n",
       "      <td>5.5</td>\n",
       "    </tr>\n",
       "    <tr>\n",
       "      <th>23</th>\n",
       "      <td>0.935168</td>\n",
       "      <td>5.5</td>\n",
       "    </tr>\n",
       "    <tr>\n",
       "      <th rowspan=\"5\" valign=\"top\">True</th>\n",
       "      <th>3</th>\n",
       "      <td>0.171777</td>\n",
       "      <td>5.5</td>\n",
       "    </tr>\n",
       "    <tr>\n",
       "      <th>7</th>\n",
       "      <td>0.117998</td>\n",
       "      <td>5.5</td>\n",
       "    </tr>\n",
       "    <tr>\n",
       "      <th>8</th>\n",
       "      <td>0.141457</td>\n",
       "      <td>5.5</td>\n",
       "    </tr>\n",
       "    <tr>\n",
       "      <th>17</th>\n",
       "      <td>0.162160</td>\n",
       "      <td>5.5</td>\n",
       "    </tr>\n",
       "    <tr>\n",
       "      <th>23</th>\n",
       "      <td>0.161369</td>\n",
       "      <td>5.5</td>\n",
       "    </tr>\n",
       "  </tbody>\n",
       "</table>\n",
       "</div>"
      ],
      "text/plain": [
       "                       F1_score  Rep\n",
       "Type Shuffled Subject               \n",
       "Test False    3        0.917813  5.5\n",
       "              7        0.441177  5.5\n",
       "              8        0.949749  5.5\n",
       "              17       0.931676  5.5\n",
       "              23       0.935168  5.5\n",
       "     True     3        0.171777  5.5\n",
       "              7        0.117998  5.5\n",
       "              8        0.141457  5.5\n",
       "              17       0.162160  5.5\n",
       "              23       0.161369  5.5"
      ]
     },
     "execution_count": 48,
     "metadata": {},
     "output_type": "execute_result"
    }
   ],
   "source": [
    "test_results_df.groupby(['Type','Shuffled','Subject']).mean()"
   ]
  },
  {
   "cell_type": "code",
   "execution_count": 36,
   "id": "0ab40774",
   "metadata": {},
   "outputs": [
    {
     "data": {
      "text/plain": [
       "<AxesSubplot:xlabel='Shuffled', ylabel='F1_score'>"
      ]
     },
     "execution_count": 36,
     "metadata": {},
     "output_type": "execute_result"
    },
    {
     "data": {
      "image/png": "[encoded data removed]",
      "text/plain": [
       "<Figure size 432x288 with 1 Axes>"
      ]
     },
     "metadata": {},
     "output_type": "display_data"
    }
   ],
   "source": [
    "sns.boxplot(data = test_results_df, x = 'Shuffled', y = 'F1_score')"
   ]
  },
  {
   "cell_type": "code",
   "execution_count": null,
   "id": "d83ddd02",
   "metadata": {},
   "outputs": [],
   "source": []
  },
  {
   "cell_type": "code",
   "execution_count": 37,
   "id": "1f863359",
   "metadata": {},
   "outputs": [
    {
     "name": "stdout",
     "output_type": "stream",
     "text": [
      "17 0\n",
      "0.8144950000111492\n"
     ]
    }
   ],
   "source": [
    "rep = 0\n",
    "subject_id = test_subjects[0]\n",
    "model_fn = os.path.join(model_folder, 'model_rep_%i_all_train_data.h5'%(rep))\n",
    "trained_model = keras.models.load_model(model_fn)\n",
    "\n",
    "\n",
    "test_f1_scores = np.empty((test_subjects.size))\n",
    "test_f1_perm_scores = np.empty((test_subjects.size))\n",
    "\n",
    "\n",
    "print(subject_id, rep)\n",
    "\n",
    "sub_idxs = np.where(subject_id_all==subject_id)[0]\n",
    "\n",
    "X_tmp = feature_matrix_all[sub_idxs,:].T\n",
    "y_tmp = target_labels_all[sub_idxs]\n",
    "\n",
    "series_idxs = np.where(series_labels_all[sub_idxs]==0)[0]\n",
    "X_test = X_tmp[:,series_idxs]\n",
    "y_test = y_tmp[series_idxs]\n",
    "\n",
    "\n",
    "#one-hot encoding of class labels\n",
    "y_test = to_categorical(y_test-np.min(y_test))\n",
    "win_blocks_test = block_labels_all[sub_idxs][series_idxs]\n",
    "\n",
    "# select test data and pad to get an array where each sample has same number of timesteps\n",
    "\n",
    "#get data cube\n",
    "X_test_cube, Y_test_cube, scaler = get_data_cube(X_test, y_test, win_blocks_test, train = False, scaler = scaler, magic_value = -100)\n",
    "\n",
    "print(get_RNN_f1(X_test_cube, Y_test_cube, trained_model))"
   ]
  },
  {
   "cell_type": "code",
   "execution_count": 77,
   "id": "3c6bcea9",
   "metadata": {
    "scrolled": true
   },
   "outputs": [
    {
     "data": {
      "text/plain": [
       "(16, 207)"
      ]
     },
     "execution_count": 77,
     "metadata": {},
     "output_type": "execute_result"
    }
   ],
   "source": [
    "X_test.shape"
   ]
  },
  {
   "cell_type": "code",
   "execution_count": 49,
   "id": "4205779e",
   "metadata": {},
   "outputs": [
    {
     "data": {
      "text/plain": [
       "(12, 19, 16)"
      ]
     },
     "execution_count": 49,
     "metadata": {},
     "output_type": "execute_result"
    }
   ],
   "source": [
    "X_test_cube.shape"
   ]
  },
  {
   "cell_type": "code",
   "execution_count": 76,
   "id": "f8275d91",
   "metadata": {},
   "outputs": [],
   "source": [
    "X = X_test_cube.copy()\n",
    "Y = Y_test_cube.copy()\n",
    "\n",
    "nonmasked_idxs = np.where(X[:,:,0].flatten()!=-100)[0]\n",
    "\n",
    "# Get target labels for non-masked timepoints\n",
    "y_true_fxn = np.argmax(Y,2).flatten()[nonmasked_idxs]\n",
    "\n",
    "# Get model predictions for non-masked timepoints\n",
    "preds = trained_model.predict(X)\n",
    "y_pred_fxn = np.argmax(preds,2)#.flatten()[nonmasked_idxs]"
   ]
  },
  {
   "cell_type": "code",
   "execution_count": 104,
   "id": "0cb298dd",
   "metadata": {},
   "outputs": [
    {
     "data": {
      "text/plain": [
       "(12, 19)"
      ]
     },
     "execution_count": 104,
     "metadata": {},
     "output_type": "execute_result"
    }
   ],
   "source": [
    "y_pred_fxn.shape"
   ]
  },
  {
   "cell_type": "code",
   "execution_count": 51,
   "id": "f76d154d",
   "metadata": {},
   "outputs": [
    {
     "data": {
      "text/plain": [
       "(12, 19)"
      ]
     },
     "execution_count": 51,
     "metadata": {},
     "output_type": "execute_result"
    }
   ],
   "source": [
    "y_pred_fn.shape"
   ]
  },
  {
   "cell_type": "code",
   "execution_count": 48,
   "id": "4a81a023",
   "metadata": {},
   "outputs": [
    {
     "data": {
      "text/plain": [
       "(16, 207)"
      ]
     },
     "execution_count": 48,
     "metadata": {},
     "output_type": "execute_result"
    }
   ],
   "source": [
    "X_test.shape"
   ]
  },
  {
   "cell_type": "code",
   "execution_count": 58,
   "id": "79b4b588",
   "metadata": {},
   "outputs": [
    {
     "name": "stdout",
     "output_type": "stream",
     "text": [
      "=======================\n",
      "./EMG_data/17\n"
     ]
    }
   ],
   "source": [
    "\n",
    "\n",
    "subject_folder = os.path.join(data_folder,'%02d'%(subject_id))\n",
    "print('=======================')\n",
    "print(subject_folder)\n",
    "\n",
    "# Process data and get features \n",
    "#get features across segments and corresponding info\n",
    "feature_matrix_sub, target_labels_sub, window_tstamps_sub, \\\n",
    "block_labels_sub, series_labels_sub = get_subject_data_for_classification(subject_folder, lo_freq, hi_freq, \\\n",
    "                                                                win_size, step)"
   ]
  },
  {
   "cell_type": "code",
   "execution_count": 90,
   "id": "2c85e029",
   "metadata": {},
   "outputs": [
    {
     "name": "stdout",
     "output_type": "stream",
     "text": [
      "[ 0.  1.  2.  3.  4.  5.  6.  7.  8.  9. 10. 11. 12. 13. 14. 15. 16. 17.\n",
      " 18. 19. 20. 21. 22. 23. 24. 25. 26. 27. 28. 29. 30. 31. 32. 33. 34. 35.\n",
      " 36. 37. 38. 39. 40. 41. 42. 43. 44. 45. 46. 47. 48.] [0. 1. 0. 2. 0. 3. 0. 4. 0. 5. 0. 6. 0. 1. 0. 2. 0. 3. 0. 4. 0. 5. 0. 6.\n",
      " 0. 1. 0. 2. 0. 3. 0. 4. 0. 5. 0. 6. 0. 1. 0. 2. 0. 3. 0. 4. 0. 5. 0. 6.\n",
      " 0.]\n"
     ]
    }
   ],
   "source": [
    "blocks = np.array([k for k,g in groupby(block_labels_sub)])\n",
    "classes = np.array([k for k,g in groupby(target_labels_sub)])\n",
    "\n",
    "print(blocks,classes)"
   ]
  },
  {
   "cell_type": "code",
   "execution_count": null,
   "id": "b00af48d",
   "metadata": {},
   "outputs": [],
   "source": []
  },
  {
   "cell_type": "code",
   "execution_count": 59,
   "id": "c21a7bd2",
   "metadata": {},
   "outputs": [
    {
     "data": {
      "text/plain": [
       "(1346, 16)"
      ]
     },
     "execution_count": 59,
     "metadata": {},
     "output_type": "execute_result"
    }
   ],
   "source": [
    "feature_matrix_sub.shape"
   ]
  },
  {
   "cell_type": "code",
   "execution_count": 81,
   "id": "47768584",
   "metadata": {
    "scrolled": true
   },
   "outputs": [
    {
     "data": {
      "text/plain": [
       "(16, 207)"
      ]
     },
     "execution_count": 81,
     "metadata": {},
     "output_type": "execute_result"
    }
   ],
   "source": [
    "X_test.shape"
   ]
  },
  {
   "cell_type": "code",
   "execution_count": 85,
   "id": "54a12357",
   "metadata": {},
   "outputs": [],
   "source": [
    "series_idxs = np.where(series_labels_sub==0)[0]\n",
    "\n",
    "X_test_sub = feature_matrix_sub[series_idxs,:]\n",
    "X_test_sub = scaler.transform(X_test_sub)\n",
    "X_test_sub = np.expand_dims(X_test_sub,0)\n",
    "\n"
   ]
  },
  {
   "cell_type": "code",
   "execution_count": 79,
   "id": "f682b79f",
   "metadata": {},
   "outputs": [
    {
     "data": {
      "text/plain": [
       "(683, 16)"
      ]
     },
     "execution_count": 79,
     "metadata": {},
     "output_type": "execute_result"
    }
   ],
   "source": [
    "X_test_sub.shape"
   ]
  },
  {
   "cell_type": "code",
   "execution_count": 62,
   "id": "9ffc1dc0",
   "metadata": {},
   "outputs": [],
   "source": [
    "y_prob = np.squeeze(trained_model.predict(X_test_sub))\n",
    "\n",
    "y_pred = np.argmax(y_prob,1)+1"
   ]
  },
  {
   "cell_type": "code",
   "execution_count": 63,
   "id": "ea007cd8",
   "metadata": {},
   "outputs": [
    {
     "data": {
      "text/plain": [
       "(683,)"
      ]
     },
     "execution_count": 63,
     "metadata": {},
     "output_type": "execute_result"
    }
   ],
   "source": [
    "y_pred.shape"
   ]
  },
  {
   "cell_type": "code",
   "execution_count": null,
   "id": "aa9378c9",
   "metadata": {},
   "outputs": [],
   "source": []
  },
  {
   "cell_type": "code",
   "execution_count": 120,
   "id": "8fce27a4",
   "metadata": {},
   "outputs": [
    {
     "data": {
      "text/plain": [
       "Text(0.5, 1.05, '1_raw_data_11-19_23.03.16.txt')"
      ]
     },
     "execution_count": 120,
     "metadata": {},
     "output_type": "execute_result"
    },
    {
     "data": {
      "image/png": "[encoded data removed]",
      "text/plain": [
       "<Figure size 1080x432 with 1 Axes>"
      ]
     },
     "metadata": {},
     "output_type": "display_data"
    }
   ],
   "source": [
    "\n",
    "\n",
    "#find files in subject folder\n",
    "file_list = [f for f in os.listdir(subject_folder) if os.path.isfile(os.path.join(subject_folder, f))]\n",
    "\n",
    "file_idx = 1\n",
    "\n",
    "# load file\n",
    "data_df = pd.DataFrame(pd.read_csv(os.path.join(subject_folder,file_list[file_idx]), sep='\\t'))\n",
    "\n",
    "# retrieve start times, end times, and labels for each condition block (will make it easier to parse traces later)\n",
    "start_times, end_times, event_labels  = get_gesture_times(data_df)\n",
    "\n",
    "\n",
    "\n",
    "prob_series = y_prob.copy()\n",
    "time_series = window_tstamps_sub[series_idxs].copy()\n",
    "\n",
    "classes = np.unique(event_labels)[1:]#exclude 'unmarked' label\n",
    "labels = []\n",
    "for c in classes.astype('int'):\n",
    "    labels.append('Class %i'%(c))\n",
    "\n",
    "# define color palette\n",
    "palette = sns.color_palette('deep',8)[1:]\n",
    "\n",
    "plt.figure(figsize=(15,6))\n",
    "plt.gca().set_prop_cycle(plt.cycler('color',palette))\n",
    "plt.plot(time_series,prob_series, linewidth = 2);\n",
    "\n",
    "#mark events\n",
    "for idx,c in enumerate(event_labels):\n",
    "    if c>0:\n",
    "        plt.hlines(y = 1.1, xmin = start_times[idx], xmax = end_times[idx], color = palette[c-1],linewidth = 10)\n",
    "\n",
    "#label axes\n",
    "plt.ylabel('Class Probability')\n",
    "plt.xlabel('Time (ms)')\n",
    "\n",
    "plt.legend(labels, bbox_to_anchor=(1, 1), loc='upper left', ncol=1)\n",
    "\n",
    "sns.despine(fig= plt.gcf(), left = False, right = True, top = True, bottom = False)\n",
    "\n",
    "plt.gcf().tight_layout() \n",
    "\n",
    "plt.gcf().suptitle('%s'%(file_list[file_idx]), y= 1.05)"
   ]
  },
  {
   "cell_type": "code",
   "execution_count": 65,
   "id": "c0870f1b",
   "metadata": {},
   "outputs": [],
   "source": [
    "y_true = target_labels_sub[series_idxs]"
   ]
  },
  {
   "cell_type": "code",
   "execution_count": 66,
   "id": "20eec696",
   "metadata": {},
   "outputs": [],
   "source": [
    "#check f1 score\n",
    "exclude = [0]\n",
    "in_samples = np.where(np.isin(target_labels_sub[series_idxs],exclude, invert = True))[0]\n",
    "y_pred_in = y_pred[in_samples]\n",
    "y_true_in = y_true[in_samples]\n",
    "#print(f1_score(y_true,y_pred,average = 'macro'))"
   ]
  },
  {
   "cell_type": "code",
   "execution_count": 75,
   "id": "d1fff110",
   "metadata": {},
   "outputs": [
    {
     "data": {
      "text/plain": [
       "array([ True,  True,  True,  True,  True,  True,  True,  True,  True,\n",
       "        True,  True,  True,  True,  True,  True, False, False,  True,\n",
       "        True,  True,  True,  True,  True,  True,  True,  True,  True,\n",
       "        True,  True,  True,  True, False, False, False, False, False,\n",
       "       False, False, False, False, False, False, False, False, False,\n",
       "       False, False, False, False,  True, False,  True,  True,  True,\n",
       "        True,  True,  True,  True,  True,  True,  True,  True, False,\n",
       "       False, False, False, False, False, False, False, False, False,\n",
       "       False, False, False, False, False, False, False, False, False,\n",
       "       False, False, False, False, False, False, False, False, False,\n",
       "       False, False, False, False, False, False, False, False, False,\n",
       "       False, False, False, False, False, False, False, False, False,\n",
       "       False, False, False, False, False, False, False,  True,  True,\n",
       "        True,  True,  True,  True,  True,  True,  True,  True,  True,\n",
       "        True,  True,  True,  True,  True, False, False, False, False,\n",
       "       False, False, False, False, False, False, False, False, False,\n",
       "       False, False, False, False, False, False, False, False, False,\n",
       "       False, False, False, False, False, False, False, False, False,\n",
       "       False, False, False, False, False, False,  True, False, False,\n",
       "       False, False, False, False, False, False, False, False, False,\n",
       "       False, False, False, False, False, False, False, False, False,\n",
       "       False, False, False, False, False, False, False, False, False,\n",
       "       False, False, False, False, False, False, False, False, False])"
      ]
     },
     "execution_count": 75,
     "metadata": {},
     "output_type": "execute_result"
    }
   ],
   "source": [
    "y_pred_in==y_pred_fn+1"
   ]
  },
  {
   "cell_type": "code",
   "execution_count": 117,
   "id": "1c78f41c",
   "metadata": {},
   "outputs": [],
   "source": [
    "X_test_block = feature_matrix_sub[np.where(block_labels_sub==13)[0],:]\n",
    "X_test_block = scaler.transform(X_test_block)\n",
    "X_test_block = np.expand_dims(X_test_block,0)\n",
    "\n",
    "y_prob_block = np.squeeze(trained_model.predict(X_test_block))\n",
    "y_pred_block = np.argmax(y_prob_block,1)+1"
   ]
  },
  {
   "cell_type": "code",
   "execution_count": 118,
   "id": "80bf541f",
   "metadata": {},
   "outputs": [
    {
     "data": {
      "text/plain": [
       "[<matplotlib.lines.Line2D at 0x1a4b4b7630>]"
      ]
     },
     "execution_count": 118,
     "metadata": {},
     "output_type": "execute_result"
    },
    {
     "data": {
      "image/png": "[encoded data removed]",
      "text/plain": [
       "<Figure size 432x288 with 1 Axes>"
      ]
     },
     "metadata": {},
     "output_type": "display_data"
    }
   ],
   "source": [
    "plt.plot(y_pred_block)"
   ]
  },
  {
   "cell_type": "code",
   "execution_count": 119,
   "id": "450e2233",
   "metadata": {},
   "outputs": [
    {
     "data": {
      "text/plain": [
       "[<matplotlib.lines.Line2D at 0x1a49ff3588>]"
      ]
     },
     "execution_count": 119,
     "metadata": {},
     "output_type": "execute_result"
    },
    {
     "data": {
      "image/png": "[encoded data removed]",
      "text/plain": [
       "<Figure size 432x288 with 1 Axes>"
      ]
     },
     "metadata": {},
     "output_type": "display_data"
    }
   ],
   "source": [
    "plt.plot(y_pred_fxn[6,:]+1)"
   ]
  },
  {
   "cell_type": "code",
   "execution_count": 141,
   "id": "4f35251e",
   "metadata": {},
   "outputs": [
    {
     "name": "stdout",
     "output_type": "stream",
     "text": [
      "[ 0.  1.  2.  3.  4.  5.  6.  7.  8.  9. 10. 11. 12. 13. 14. 15. 16. 17.\n",
      " 18. 19. 20. 21. 22. 23. 24.] [0. 1. 0. 2. 0. 3. 0. 4. 0. 5. 0. 6. 0. 1. 0. 2. 0. 3. 0. 4. 0. 5. 0. 6.\n",
      " 0.]\n"
     ]
    }
   ],
   "source": [
    "series_idxs = np.where(series_labels_sub==0)[0]\n",
    "\n",
    "block_labels_series = block_labels_sub[series_idxs]\n",
    "target_labels_series = target_labels_sub[series_idxs]\n",
    "\n",
    "blocks = np.array([k for k,g in groupby(block_labels_series)])\n",
    "classes = np.array([k for k,g in groupby(target_labels_series)])\n",
    "\n",
    "print(blocks,classes)"
   ]
  },
  {
   "cell_type": "code",
   "execution_count": 142,
   "id": "a5c540a9",
   "metadata": {},
   "outputs": [
    {
     "name": "stdout",
     "output_type": "stream",
     "text": [
      "[16, 17, 20, 21, 8, 9, 18, 19, 0, 1, 22, 23, 6, 7, 4, 5, 2, 3, 14, 15, 10, 11, 12, 13, 24]\n"
     ]
    }
   ],
   "source": [
    "shuffled_blocks = []\n",
    "for x in np.random.permutation(np.arange(blocks.size//2)):\n",
    "    start_idx = 2*x\n",
    "    shuffled_blocks.extend(blocks[start_idx:start_idx+2].astype('int'))\n",
    "if (blocks.size%2)==1:\n",
    "    shuffled_blocks.extend(np.array([blocks[-1]]).astype('int'))\n",
    "print(shuffled_blocks)"
   ]
  },
  {
   "cell_type": "code",
   "execution_count": 144,
   "id": "ea352f15",
   "metadata": {},
   "outputs": [],
   "source": [
    "target_labels_shuffled = np.empty((0,))\n",
    "for b in shuffled_blocks:\n",
    "    target_labels_shuffled = np.hstack((target_labels_shuffled,target_labels_series[np.where(block_labels_series==b)[0]]))"
   ]
  },
  {
   "cell_type": "code",
   "execution_count": 145,
   "id": "745e23cd",
   "metadata": {},
   "outputs": [
    {
     "data": {
      "text/plain": [
       "[<matplotlib.lines.Line2D at 0x1a49f06630>]"
      ]
     },
     "execution_count": 145,
     "metadata": {},
     "output_type": "execute_result"
    },
    {
     "data": {
      "image/png": "[encoded data removed]",
      "text/plain": [
       "<Figure size 432x288 with 1 Axes>"
      ]
     },
     "metadata": {},
     "output_type": "display_data"
    }
   ],
   "source": [
    "plt.plot(target_labels_shuffled)"
   ]
  },
  {
   "cell_type": "code",
   "execution_count": 140,
   "id": "2ffc8cc0",
   "metadata": {},
   "outputs": [
    {
     "data": {
      "text/plain": [
       "(1346,)"
      ]
     },
     "execution_count": 140,
     "metadata": {},
     "output_type": "execute_result"
    }
   ],
   "source": [
    "target_labels_shuffled.shape"
   ]
  },
  {
   "cell_type": "code",
   "execution_count": null,
   "id": "faa040b5",
   "metadata": {},
   "outputs": [],
   "source": []
  }
 ],
 "metadata": {
  "kernelspec": {
   "display_name": "Python 3",
   "language": "python",
   "name": "python3"
  },
  "language_info": {
   "codemirror_mode": {
    "name": "ipython",
    "version": 3
   },
   "file_extension": ".py",
   "mimetype": "text/x-python",
   "name": "python",
   "nbconvert_exporter": "python",
   "pygments_lexer": "ipython3",
   "version": "3.6.13"
  }
 },
 "nbformat": 4,
 "nbformat_minor": 5
}
