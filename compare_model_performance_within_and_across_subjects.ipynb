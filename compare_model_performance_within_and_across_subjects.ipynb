{
 "cells": [
  {
   "cell_type": "markdown",
   "id": "b35b65b2",
   "metadata": {},
   "source": [
    "# Summary\n",
    "\n",
    "&emsp; This notebook contains code to compare the performance of different models used to classify upper limb gestures from EMG recordings. Specifically, I compare within and across-subject performance between a logisitc regression model and Recursive Neural Network (RNN) model. Overall, I find that both models have high level of performance when the test data comes from the same subject on which the model was trained (**within-subject performance**). In contrast, classification performance substantially drops when the test data comes from a different subject(**across-subject performance**)\n",
    "\n",
    "The following notebooks in this repo contain useful data and analysis pipeline details:\n",
    "- data_exploration_and_quality_check_demo.ipynb\n",
    "- single_subject_classification_demo.ipynb\n",
    "\n",
    "The following notebooks contain the code used to assess model performance and write the results to hdf5 files.\n",
    "- get_log_regression_performance_within_and_across_subjects.ipynb\n",
    "- get_RNN_regression_performance_within_and_across_subjects.ipynb"
   ]
  },
  {
   "cell_type": "code",
   "execution_count": 1,
   "id": "bed49b5d",
   "metadata": {},
   "outputs": [],
   "source": [
    "#import necessary packages\n",
    "\n",
    "#our workhorses\n",
    "import numpy as np\n",
    "import pandas as pd\n",
    "import scipy\n",
    "\n",
    "#to visualize\n",
    "%matplotlib inline\n",
    "import seaborn as sns\n",
    "import matplotlib.pyplot as plt\n",
    "import matplotlib.patches as patches\n",
    "#style params for figures\n",
    "sns.set(font_scale = 2)\n",
    "plt.style.use('seaborn-white')\n",
    "plt.rc(\"axes\", labelweight=\"bold\")\n",
    "from IPython.display import display, HTML\n",
    "\n",
    "#to load files\n",
    "import os\n",
    "import h5py\n",
    "\n",
    "#for stats\n",
    "import statsmodels.api as sm\n",
    "from statsmodels.formula.api import ols\n",
    "import statsmodels.stats.multitest as multitest\n",
    "import statsmodels.stats.multicomp\n",
    "\n",
    "#load custon functions\n",
    "from utils import *\n"
   ]
  },
  {
   "cell_type": "markdown",
   "id": "bfb756ec",
   "metadata": {},
   "source": [
    "### Load Data Files\n",
    "\n",
    "&emsp; The code blocks below load the dataframes with within and across subject performance results and output brief summaries of the data. All data files contain results for shuffled and unshuffled data to compare observed performance with performance with uninformative data (null distribution)."
   ]
  },
  {
   "cell_type": "code",
   "execution_count": 2,
   "id": "18dd9c8d",
   "metadata": {},
   "outputs": [
    {
     "data": {
      "text/html": [
       "<table border=\"1\" class=\"dataframe\">\n",
       "  <thead>\n",
       "    <tr style=\"text-align: right;\">\n",
       "      <th></th>\n",
       "      <th></th>\n",
       "      <th>F1_score</th>\n",
       "    </tr>\n",
       "    <tr>\n",
       "      <th>Shuffled</th>\n",
       "      <th>Type</th>\n",
       "      <th></th>\n",
       "    </tr>\n",
       "  </thead>\n",
       "  <tbody>\n",
       "    <tr>\n",
       "      <th rowspan=\"2\" valign=\"top\">False</th>\n",
       "      <th>Test</th>\n",
       "      <td>0.969033</td>\n",
       "    </tr>\n",
       "    <tr>\n",
       "      <th>Train</th>\n",
       "      <td>0.999900</td>\n",
       "    </tr>\n",
       "    <tr>\n",
       "      <th rowspan=\"2\" valign=\"top\">True</th>\n",
       "      <th>Test</th>\n",
       "      <td>0.163066</td>\n",
       "    </tr>\n",
       "    <tr>\n",
       "      <th>Train</th>\n",
       "      <td>0.411994</td>\n",
       "    </tr>\n",
       "  </tbody>\n",
       "</table>"
      ],
      "text/plain": [
       "<IPython.core.display.HTML object>"
      ]
     },
     "metadata": {},
     "output_type": "display_data"
    }
   ],
   "source": [
    "# Load logistic regression within-subject data\n",
    "\n",
    "results_folder = './results_data/log_reg'\n",
    "results_fn = 'all_subjects_within_subject_results.h5'\n",
    "lr_results_df = pd.read_hdf(os.path.join(results_folder,results_fn), 'results_df')\n",
    "\n",
    "\n",
    "# Average over multiple train/test splits of the data\n",
    "lr_results_df = lr_results_df.groupby(['Shuffled','Type','Train_Subject','Test_Subject'],as_index = False)\\\n",
    ".mean()\\\n",
    ".drop(columns = ['Fold','Rep'])\n",
    "\n",
    "\n",
    "# Output summary\n",
    "display(HTML(lr_results_df.groupby(['Shuffled','Type']).mean().drop(columns = ['Train_Subject','Test_Subject']).to_html()))\n"
   ]
  },
  {
   "cell_type": "code",
   "execution_count": 3,
   "id": "8cd93c82",
   "metadata": {},
   "outputs": [
    {
     "data": {
      "text/html": [
       "<table border=\"1\" class=\"dataframe\">\n",
       "  <thead>\n",
       "    <tr style=\"text-align: right;\">\n",
       "      <th></th>\n",
       "      <th></th>\n",
       "      <th>F1_score</th>\n",
       "    </tr>\n",
       "    <tr>\n",
       "      <th>Shuffled</th>\n",
       "      <th>Type</th>\n",
       "      <th></th>\n",
       "    </tr>\n",
       "  </thead>\n",
       "  <tbody>\n",
       "    <tr>\n",
       "      <th>False</th>\n",
       "      <th>Test</th>\n",
       "      <td>0.561763</td>\n",
       "    </tr>\n",
       "    <tr>\n",
       "      <th>True</th>\n",
       "      <th>Test</th>\n",
       "      <td>0.144078</td>\n",
       "    </tr>\n",
       "  </tbody>\n",
       "</table>"
      ],
      "text/plain": [
       "<IPython.core.display.HTML object>"
      ]
     },
     "metadata": {},
     "output_type": "display_data"
    }
   ],
   "source": [
    "# Load logistic regression across-subject data\n",
    "\n",
    "results_folder = './results_data/log_reg'\n",
    "results_fn = 'all_subjects_across_subject_results.h5'\n",
    "lr_xsubj_results_df = pd.read_hdf(os.path.join(results_folder,results_fn), 'results_df')\n",
    "\n",
    "\n",
    "# Average over test subjects\n",
    "lr_xsubj_results_df = lr_xsubj_results_df.groupby(['Shuffled','Type','Train_Subject'],as_index = False)\\\n",
    ".mean()\\\n",
    ".drop(columns = ['Test_Subject'])\n",
    "\n",
    "# Output summary\n",
    "display(HTML(lr_xsubj_results_df.groupby(['Shuffled','Type']).mean().drop(columns = ['Train_Subject']).to_html()))\n"
   ]
  },
  {
   "cell_type": "code",
   "execution_count": 4,
   "id": "6b58e0c9",
   "metadata": {},
   "outputs": [],
   "source": [
    "# Combine logistic regression results in a single data frame and label\n",
    "\n",
    "# keep test scores only\n",
    "lr_results_df = lr_results_df.loc[lr_results_df.Type=='Test']\n",
    "#drop test subject column\n",
    "lr_results_df = lr_results_df.drop(columns = ['Test_Subject'])\n",
    "# label\n",
    "lr_results_df['Test_Type'] = 'Within_Subject'\n",
    "lr_xsubj_results_df['Test_Type'] = 'Across_Subject'\n",
    "\n",
    "#combine\n",
    "lr_combo_results_df = pd.concat([lr_results_df,lr_xsubj_results_df],axis = 0)\n",
    "\n",
    "#label\n",
    "lr_combo_results_df['Model'] = 'Log_reg'"
   ]
  },
  {
   "cell_type": "code",
   "execution_count": 5,
   "id": "7aa5416c",
   "metadata": {},
   "outputs": [
    {
     "data": {
      "text/html": [
       "<table border=\"1\" class=\"dataframe\">\n",
       "  <thead>\n",
       "    <tr style=\"text-align: right;\">\n",
       "      <th></th>\n",
       "      <th></th>\n",
       "      <th>F1_score</th>\n",
       "    </tr>\n",
       "    <tr>\n",
       "      <th>Shuffled</th>\n",
       "      <th>Type</th>\n",
       "      <th></th>\n",
       "    </tr>\n",
       "  </thead>\n",
       "  <tbody>\n",
       "    <tr>\n",
       "      <th rowspan=\"2\" valign=\"top\">False</th>\n",
       "      <th>Test</th>\n",
       "      <td>0.951251</td>\n",
       "    </tr>\n",
       "    <tr>\n",
       "      <th>Train</th>\n",
       "      <td>0.992993</td>\n",
       "    </tr>\n",
       "    <tr>\n",
       "      <th rowspan=\"2\" valign=\"top\">True</th>\n",
       "      <th>Test</th>\n",
       "      <td>0.131338</td>\n",
       "    </tr>\n",
       "    <tr>\n",
       "      <th>Train</th>\n",
       "      <td>0.610008</td>\n",
       "    </tr>\n",
       "  </tbody>\n",
       "</table>"
      ],
      "text/plain": [
       "<IPython.core.display.HTML object>"
      ]
     },
     "metadata": {},
     "output_type": "display_data"
    }
   ],
   "source": [
    "# Load RNN within-subject data\n",
    "nsubjects = 36\n",
    "\n",
    "rnn_results_df = [] \n",
    "\n",
    "results_folder = './results_data/RNN'\n",
    "for src_subject_id in range(1,nsubjects+1):\n",
    "    results_fn = 'subject_%02d_within_subject_results.h5'%(src_subject_id)\n",
    "    subject_df = pd.read_hdf(os.path.join(results_folder,results_fn), 'results_df')\n",
    "    subject_df['Train_Subject'] = src_subject_id\n",
    "    subject_df['Test_Subject'] = src_subject_id\n",
    "    rnn_results_df.append(subject_df)\n",
    "\n",
    "rnn_results_df = pd.concat(rnn_results_df,axis = 0)\n",
    "\n",
    "# Average over multiple train/test splits of the data\n",
    "rnn_results_df = rnn_results_df.groupby(['Shuffled','Type','Train_Subject','Test_Subject'],as_index = False)\\\n",
    ".mean()\\\n",
    ".drop(columns = ['Fold','Rep'])\n",
    "\n",
    "# Output summary\n",
    "display(HTML(rnn_results_df.groupby(['Shuffled','Type']).mean().drop(columns = ['Train_Subject','Test_Subject']).to_html()))"
   ]
  },
  {
   "cell_type": "code",
   "execution_count": 6,
   "id": "d3d7882e",
   "metadata": {},
   "outputs": [
    {
     "data": {
      "text/html": [
       "<table border=\"1\" class=\"dataframe\">\n",
       "  <thead>\n",
       "    <tr style=\"text-align: right;\">\n",
       "      <th></th>\n",
       "      <th></th>\n",
       "      <th>F1_score</th>\n",
       "    </tr>\n",
       "    <tr>\n",
       "      <th>Shuffled</th>\n",
       "      <th>Type</th>\n",
       "      <th></th>\n",
       "    </tr>\n",
       "  </thead>\n",
       "  <tbody>\n",
       "    <tr>\n",
       "      <th rowspan=\"2\" valign=\"top\">False</th>\n",
       "      <th>Test</th>\n",
       "      <td>0.556615</td>\n",
       "    </tr>\n",
       "    <tr>\n",
       "      <th>Train</th>\n",
       "      <td>0.994811</td>\n",
       "    </tr>\n",
       "    <tr>\n",
       "      <th rowspan=\"2\" valign=\"top\">True</th>\n",
       "      <th>Test</th>\n",
       "      <td>0.135162</td>\n",
       "    </tr>\n",
       "    <tr>\n",
       "      <th>Train</th>\n",
       "      <td>0.547267</td>\n",
       "    </tr>\n",
       "  </tbody>\n",
       "</table>"
      ],
      "text/plain": [
       "<IPython.core.display.HTML object>"
      ]
     },
     "metadata": {},
     "output_type": "display_data"
    }
   ],
   "source": [
    "# Load RNN across-subject data\n",
    "nsubjects = 36\n",
    "\n",
    "rnn_xsubj_results_df = [] \n",
    "\n",
    "results_folder = './results_data/RNN'\n",
    "for src_subject_id in range(1,nsubjects+1):\n",
    "    results_fn = 'subject_%02d_across_subject_results.h5'%(src_subject_id)\n",
    "    subject_df = pd.read_hdf(os.path.join(results_folder,results_fn), 'results_df')\n",
    "    rnn_xsubj_results_df.append(subject_df)\n",
    "\n",
    "rnn_xsubj_df = pd.concat(rnn_xsubj_results_df,axis = 0)\n",
    "\n",
    "# Average over test subjects\n",
    "rnn_xsubj_df = rnn_xsubj_df.groupby(['Shuffled','Type','Train_Subject'],as_index = False)\\\n",
    ".mean()\\\n",
    ".drop(columns = ['Test_Subject','Rep'])\n",
    "\n",
    "# Output summary\n",
    "display(HTML(rnn_xsubj_df.groupby(['Shuffled','Type']).mean().drop(columns = ['Train_Subject']).to_html()))\n",
    "\n"
   ]
  },
  {
   "cell_type": "code",
   "execution_count": 7,
   "id": "549fae7a",
   "metadata": {
    "scrolled": true
   },
   "outputs": [],
   "source": [
    "# Combine RNN results in a single dataframe and label\n",
    "\n",
    "# keep test scores only\n",
    "rnn_results_df = rnn_results_df.loc[rnn_results_df.Type=='Test']\n",
    "rnn_xsubj_df = rnn_xsubj_df.loc[rnn_xsubj_df.Type == 'Test']\n",
    "#drop test subject column\n",
    "rnn_results_df = rnn_results_df.drop(columns = ['Test_Subject'])\n",
    "# label\n",
    "rnn_results_df['Test_Type'] = 'Within_Subject'\n",
    "rnn_xsubj_df['Test_Type'] = 'Across_Subject'\n",
    "\n",
    "#combine\n",
    "rnn_combo_results_df = pd.concat([rnn_results_df,rnn_xsubj_df],axis = 0)\n",
    "\n",
    "\n",
    "rnn_combo_results_df['Model'] = 'RNN'"
   ]
  },
  {
   "cell_type": "markdown",
   "id": "e3bda3e5",
   "metadata": {},
   "source": [
    "## Visualize and Compare Results\n",
    "\n",
    "&emsp; The code blocks below visualize within and across-subject performance for both the logisitc regression and RNN model. Addittionally, I run a two-factor ANOVA to test for differences in model performance within and across subjects."
   ]
  },
  {
   "cell_type": "code",
   "execution_count": 8,
   "id": "ade78bc9",
   "metadata": {},
   "outputs": [
    {
     "data": {
      "image/png": "[encoded data removed]",
      "text/plain": [
       "<Figure size 720x360 with 2 Axes>"
      ]
     },
     "metadata": {},
     "output_type": "display_data"
    }
   ],
   "source": [
    "# Combine results across subjects\n",
    "all_model_combo_df = pd.concat([rnn_combo_results_df,lr_combo_results_df], axis = 0)\n",
    "\n",
    "# Separate results with shuffled and unshuffled data\n",
    "true_results_df = all_model_combo_df.loc[all_model_combo_df.Shuffled==False]\n",
    "shuffled_results_df = all_model_combo_df.loc[all_model_combo_df.Shuffled==True]\n",
    "\n",
    "\n",
    "# Get confidence interval for shuffled data results\n",
    "model_list = ['Log_reg','RNN']\n",
    "type_list = ['Within_Subject','Across_Subject']\n",
    "null_ci = np.zeros((2,2,2))\n",
    "\n",
    "for i,m in enumerate(model_list):\n",
    "    for j,t in enumerate(type_list):\n",
    "        null_df = shuffled_results_df.loc[(shuffled_results_df.Model==m)&(shuffled_results_df.Test_Type==t)]\n",
    "        null_ci[j,i,:] = sns.utils.ci(sns.algorithms.bootstrap(null_df['F1_score'].values))\n",
    "\n",
    "\n",
    "#Visualize unshuffled data results\n",
    "sns.set_palette(sns.color_palette(\"hls\", 2))\n",
    "g = sns.catplot(data = true_results_df, x= 'Model', y = 'F1_score', col = 'Test_Type', hue = 'Model',\\\n",
    "            kind = 'box', order = ['Log_reg','RNN'], hue_order = ['Log_reg','RNN'])\n",
    "\n",
    "#Label axes and subpots, mark chance confidence interval\n",
    "for i,ax in enumerate(g.axes[0]):\n",
    "    ax.set_xlabel('Model')\n",
    "    ax.set_ylim([0,1.05])\n",
    "    ax.add_patch(patches.Rectangle((-.5, null_ci[i,0,0]), 0.6, (null_ci[i,0,1]-null_ci[i,0,0]),\\\n",
    "                                         linewidth=0, fill=True, color='k', alpha=0.2))\n",
    "    ax.add_patch(patches.Rectangle((.9, null_ci[i,1,0]), 0.6, (null_ci[i,1,1]-null_ci[i,1,0]),\\\n",
    "                                         linewidth=0, fill=True, color='k', alpha=0.2))\n",
    "\n",
    "\n",
    "\n",
    "g.axes[0][0].set_ylabel('F1 Score')\n",
    "g.axes[0][0].set_title('Within-Subject\\n Performance',fontweight = 'bold');\n",
    "g.axes[0][1].set_title('Across-Subject\\n Performance',fontweight = 'bold');\n",
    "\n",
    "plt.gcf().suptitle('', y = 1.05, fontweight = 'bold');"
   ]
  },
  {
   "cell_type": "code",
   "execution_count": 9,
   "id": "bb41689f",
   "metadata": {},
   "outputs": [
    {
     "data": {
      "text/html": [
       "<div>\n",
       "<style scoped>\n",
       "    .dataframe tbody tr th:only-of-type {\n",
       "        vertical-align: middle;\n",
       "    }\n",
       "\n",
       "    .dataframe tbody tr th {\n",
       "        vertical-align: top;\n",
       "    }\n",
       "\n",
       "    .dataframe thead th {\n",
       "        text-align: right;\n",
       "    }\n",
       "</style>\n",
       "<table border=\"1\" class=\"dataframe\">\n",
       "  <thead>\n",
       "    <tr style=\"text-align: right;\">\n",
       "      <th></th>\n",
       "      <th></th>\n",
       "      <th>F1_score</th>\n",
       "    </tr>\n",
       "    <tr>\n",
       "      <th>Test_Type</th>\n",
       "      <th>Model</th>\n",
       "      <th></th>\n",
       "    </tr>\n",
       "  </thead>\n",
       "  <tbody>\n",
       "    <tr>\n",
       "      <th rowspan=\"2\" valign=\"top\">Across_Subject</th>\n",
       "      <th>Log_reg</th>\n",
       "      <td>0.561763</td>\n",
       "    </tr>\n",
       "    <tr>\n",
       "      <th>RNN</th>\n",
       "      <td>0.556615</td>\n",
       "    </tr>\n",
       "    <tr>\n",
       "      <th rowspan=\"2\" valign=\"top\">Within_Subject</th>\n",
       "      <th>Log_reg</th>\n",
       "      <td>0.969033</td>\n",
       "    </tr>\n",
       "    <tr>\n",
       "      <th>RNN</th>\n",
       "      <td>0.951251</td>\n",
       "    </tr>\n",
       "  </tbody>\n",
       "</table>\n",
       "</div>"
      ],
      "text/plain": [
       "                        F1_score\n",
       "Test_Type      Model            \n",
       "Across_Subject Log_reg  0.561763\n",
       "               RNN      0.556615\n",
       "Within_Subject Log_reg  0.969033\n",
       "               RNN      0.951251"
      ]
     },
     "execution_count": 9,
     "metadata": {},
     "output_type": "execute_result"
    }
   ],
   "source": [
    "# Output Summary\n",
    "true_results_df.groupby(['Test_Type','Model']).mean().drop(columns=['Shuffled','Train_Subject'])"
   ]
  },
  {
   "cell_type": "code",
   "execution_count": 10,
   "id": "e7c65ff1",
   "metadata": {},
   "outputs": [
    {
     "data": {
      "text/html": [
       "<div>\n",
       "<style scoped>\n",
       "    .dataframe tbody tr th:only-of-type {\n",
       "        vertical-align: middle;\n",
       "    }\n",
       "\n",
       "    .dataframe tbody tr th {\n",
       "        vertical-align: top;\n",
       "    }\n",
       "\n",
       "    .dataframe thead th {\n",
       "        text-align: right;\n",
       "    }\n",
       "</style>\n",
       "<table border=\"1\" class=\"dataframe\">\n",
       "  <thead>\n",
       "    <tr style=\"text-align: right;\">\n",
       "      <th></th>\n",
       "      <th>sum_sq</th>\n",
       "      <th>df</th>\n",
       "      <th>F</th>\n",
       "      <th>PR(&gt;F)</th>\n",
       "    </tr>\n",
       "  </thead>\n",
       "  <tbody>\n",
       "    <tr>\n",
       "      <th>C(Test_Type)</th>\n",
       "      <td>5.787472</td>\n",
       "      <td>1.0</td>\n",
       "      <td>1417.498321</td>\n",
       "      <td>4.048395e-75</td>\n",
       "    </tr>\n",
       "    <tr>\n",
       "      <th>C(Model)</th>\n",
       "      <td>0.004732</td>\n",
       "      <td>1.0</td>\n",
       "      <td>1.158888</td>\n",
       "      <td>2.835478e-01</td>\n",
       "    </tr>\n",
       "    <tr>\n",
       "      <th>C(Test_Type):C(Model)</th>\n",
       "      <td>0.001437</td>\n",
       "      <td>1.0</td>\n",
       "      <td>0.351888</td>\n",
       "      <td>5.540036e-01</td>\n",
       "    </tr>\n",
       "    <tr>\n",
       "      <th>Residual</th>\n",
       "      <td>0.571603</td>\n",
       "      <td>140.0</td>\n",
       "      <td>NaN</td>\n",
       "      <td>NaN</td>\n",
       "    </tr>\n",
       "  </tbody>\n",
       "</table>\n",
       "</div>"
      ],
      "text/plain": [
       "                         sum_sq     df            F        PR(>F)\n",
       "C(Test_Type)           5.787472    1.0  1417.498321  4.048395e-75\n",
       "C(Model)               0.004732    1.0     1.158888  2.835478e-01\n",
       "C(Test_Type):C(Model)  0.001437    1.0     0.351888  5.540036e-01\n",
       "Residual               0.571603  140.0          NaN           NaN"
      ]
     },
     "execution_count": 10,
     "metadata": {},
     "output_type": "execute_result"
    }
   ],
   "source": [
    "# Run 2-factor ANOVA\n",
    "model = ols('F1_score ~ C(Test_Type)*C(Model)', true_results_df).fit()\n",
    "\n",
    "# Creates the ANOVA table\n",
    "res = sm.stats.anova_lm(model, typ= 2)\n",
    "res"
   ]
  },
  {
   "cell_type": "markdown",
   "id": "18c4c970",
   "metadata": {},
   "source": [
    "#### Conclusion\n",
    "&emsp; The results above show that classification performance for both the logisitc regression and RNN model drops when the test data comes from a subject different than that used to train the model. However, performance for both models still remains quite distinct from performance with shuffled data so there is some degree of generalization across subjects. A two-factor ANOVA showed only an effect of test type (p<.001), no effect of model (p = .28) and no interaction between these two factors (p=.55). From this, I can conclude that the performance of both models was similar for within and across subject classification.\n",
    "\n",
    "\n",
    "Overall, I conclude from this that neither model does a good job of transferring the callibration learned from one subject to another subject. There could be many reasons for this including different positioning of the electrodes across subjects and difference in the physiological signals across subjects. The source of this variability is beyond this project. For the next stage, I focus on comparing different strategies to transfer model callibration across subjects."
   ]
  },
  {
   "cell_type": "code",
   "execution_count": null,
   "id": "9acb48cd",
   "metadata": {},
   "outputs": [],
   "source": []
  },
  {
   "cell_type": "code",
   "execution_count": null,
   "id": "230435ef",
   "metadata": {},
   "outputs": [],
   "source": []
  }
 ],
 "metadata": {
  "kernelspec": {
   "display_name": "Python 3",
   "language": "python",
   "name": "python3"
  },
  "language_info": {
   "codemirror_mode": {
    "name": "ipython",
    "version": 3
   },
   "file_extension": ".py",
   "mimetype": "text/x-python",
   "name": "python",
   "nbconvert_exporter": "python",
   "pygments_lexer": "ipython3",
   "version": "3.6.13"
  }
 },
 "nbformat": 4,
 "nbformat_minor": 5
}
