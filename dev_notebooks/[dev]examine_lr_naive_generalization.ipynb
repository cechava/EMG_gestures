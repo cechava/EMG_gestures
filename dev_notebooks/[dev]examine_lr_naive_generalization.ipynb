{
 "cells": [
  {
   "cell_type": "code",
   "execution_count": 1,
   "id": "57ab434e",
   "metadata": {},
   "outputs": [],
   "source": [
    "#import necessary packages\n",
    "\n",
    "#our workhorses\n",
    "import numpy as np\n",
    "import pandas as pd\n",
    "import scipy\n",
    "\n",
    "#to visualize\n",
    "%matplotlib inline\n",
    "import seaborn as sns\n",
    "import matplotlib.pyplot as plt\n",
    "import matplotlib.patches as patches\n",
    "#style params for figures\n",
    "sns.set(font_scale = 2)\n",
    "plt.style.use('seaborn-white')\n",
    "plt.rc(\"axes\", labelweight=\"bold\")\n",
    "from IPython.display import display, HTML\n",
    "\n",
    "#to load files\n",
    "import os\n",
    "import h5py\n",
    "\n",
    "#for stats\n",
    "import statsmodels.api as sm\n",
    "from statsmodels.formula.api import ols\n",
    "import statsmodels.stats.multitest as multitest\n",
    "import statsmodels.stats.multicomp\n",
    "\n",
    "\n",
    "#import cusotm functions\n",
    "from EMG_gestures.utils import *"
   ]
  },
  {
   "cell_type": "code",
   "execution_count": 2,
   "id": "651296c4",
   "metadata": {},
   "outputs": [
    {
     "data": {
      "text/html": [
       "<table border=\"1\" class=\"dataframe\">\n",
       "  <thead>\n",
       "    <tr style=\"text-align: right;\">\n",
       "      <th></th>\n",
       "      <th></th>\n",
       "      <th>Subject</th>\n",
       "      <th>f1_score</th>\n",
       "      <th>accuracy_score</th>\n",
       "    </tr>\n",
       "    <tr>\n",
       "      <th>Shuffled</th>\n",
       "      <th>Type</th>\n",
       "      <th></th>\n",
       "      <th></th>\n",
       "      <th></th>\n",
       "    </tr>\n",
       "  </thead>\n",
       "  <tbody>\n",
       "    <tr>\n",
       "      <th rowspan=\"2\" valign=\"top\">False</th>\n",
       "      <th>Test</th>\n",
       "      <td>18.5</td>\n",
       "      <td>0.906592</td>\n",
       "      <td>0.909583</td>\n",
       "    </tr>\n",
       "    <tr>\n",
       "      <th>Train</th>\n",
       "      <td>18.5</td>\n",
       "      <td>0.976034</td>\n",
       "      <td>0.976139</td>\n",
       "    </tr>\n",
       "    <tr>\n",
       "      <th rowspan=\"2\" valign=\"top\">True</th>\n",
       "      <th>Test</th>\n",
       "      <td>18.5</td>\n",
       "      <td>0.150415</td>\n",
       "      <td>0.157054</td>\n",
       "    </tr>\n",
       "    <tr>\n",
       "      <th>Train</th>\n",
       "      <td>18.5</td>\n",
       "      <td>0.666318</td>\n",
       "      <td>0.675241</td>\n",
       "    </tr>\n",
       "  </tbody>\n",
       "</table>"
      ],
      "text/plain": [
       "<IPython.core.display.HTML object>"
      ]
     },
     "metadata": {},
     "output_type": "display_data"
    }
   ],
   "source": [
    "nsubjects = 36\n",
    "\n",
    "lr_results_df = [] \n",
    "\n",
    "results_folder = '../results_data/single_subject_training/log_reg'\n",
    "for src_subject_id in range(1,nsubjects+1):\n",
    "    results_fn = 'subject_%02d_within_subject_results.h5'%(src_subject_id)\n",
    "    subject_df = pd.read_hdf(os.path.join(results_folder,results_fn), 'results_df')\n",
    "    subject_df['Train_Subject'] = subject_df['Subject']\n",
    "    subject_df['Test_Subject'] = subject_df['Subject']\n",
    "    subject_df.drop(columns = ['Subject'])\n",
    "    lr_results_df.append(subject_df)\n",
    "\n",
    "lr_results_df = pd.concat(lr_results_df,axis = 0)\n",
    "\n",
    "# Average over multiple train/test splits of the data\n",
    "lr_results_df = lr_results_df.groupby(['Shuffled','Type','Train_Subject','Test_Subject'],as_index = False)\\\n",
    ".mean()\\\n",
    ".drop(columns = ['Fold','Rep'])\n",
    "\n",
    "# Output summary\n",
    "display(HTML(lr_results_df.groupby(['Shuffled','Type']).mean().drop(columns = ['Train_Subject','Test_Subject']).to_html()))"
   ]
  },
  {
   "cell_type": "code",
   "execution_count": 3,
   "id": "90676762",
   "metadata": {},
   "outputs": [
    {
     "data": {
      "text/html": [
       "<div>\n",
       "<style scoped>\n",
       "    .dataframe tbody tr th:only-of-type {\n",
       "        vertical-align: middle;\n",
       "    }\n",
       "\n",
       "    .dataframe tbody tr th {\n",
       "        vertical-align: top;\n",
       "    }\n",
       "\n",
       "    .dataframe thead th {\n",
       "        text-align: right;\n",
       "    }\n",
       "</style>\n",
       "<table border=\"1\" class=\"dataframe\">\n",
       "  <thead>\n",
       "    <tr style=\"text-align: right;\">\n",
       "      <th></th>\n",
       "      <th>Shuffled</th>\n",
       "      <th>Type</th>\n",
       "      <th>Train_Subject</th>\n",
       "      <th>Test_Subject</th>\n",
       "      <th>Subject</th>\n",
       "      <th>f1_score</th>\n",
       "      <th>accuracy_score</th>\n",
       "    </tr>\n",
       "  </thead>\n",
       "  <tbody>\n",
       "    <tr>\n",
       "      <th>0</th>\n",
       "      <td>False</td>\n",
       "      <td>Test</td>\n",
       "      <td>1</td>\n",
       "      <td>1</td>\n",
       "      <td>1.0</td>\n",
       "      <td>0.819340</td>\n",
       "      <td>0.820363</td>\n",
       "    </tr>\n",
       "    <tr>\n",
       "      <th>1</th>\n",
       "      <td>False</td>\n",
       "      <td>Test</td>\n",
       "      <td>2</td>\n",
       "      <td>2</td>\n",
       "      <td>2.0</td>\n",
       "      <td>0.875996</td>\n",
       "      <td>0.892816</td>\n",
       "    </tr>\n",
       "    <tr>\n",
       "      <th>2</th>\n",
       "      <td>False</td>\n",
       "      <td>Test</td>\n",
       "      <td>3</td>\n",
       "      <td>3</td>\n",
       "      <td>3.0</td>\n",
       "      <td>0.905857</td>\n",
       "      <td>0.907666</td>\n",
       "    </tr>\n",
       "    <tr>\n",
       "      <th>3</th>\n",
       "      <td>False</td>\n",
       "      <td>Test</td>\n",
       "      <td>4</td>\n",
       "      <td>4</td>\n",
       "      <td>4.0</td>\n",
       "      <td>0.894892</td>\n",
       "      <td>0.896475</td>\n",
       "    </tr>\n",
       "    <tr>\n",
       "      <th>4</th>\n",
       "      <td>False</td>\n",
       "      <td>Test</td>\n",
       "      <td>5</td>\n",
       "      <td>5</td>\n",
       "      <td>5.0</td>\n",
       "      <td>0.940613</td>\n",
       "      <td>0.941624</td>\n",
       "    </tr>\n",
       "  </tbody>\n",
       "</table>\n",
       "</div>"
      ],
      "text/plain": [
       "   Shuffled  Type  Train_Subject  Test_Subject  Subject  f1_score  \\\n",
       "0     False  Test              1             1      1.0  0.819340   \n",
       "1     False  Test              2             2      2.0  0.875996   \n",
       "2     False  Test              3             3      3.0  0.905857   \n",
       "3     False  Test              4             4      4.0  0.894892   \n",
       "4     False  Test              5             5      5.0  0.940613   \n",
       "\n",
       "   accuracy_score  \n",
       "0        0.820363  \n",
       "1        0.892816  \n",
       "2        0.907666  \n",
       "3        0.896475  \n",
       "4        0.941624  "
      ]
     },
     "execution_count": 3,
     "metadata": {},
     "output_type": "execute_result"
    }
   ],
   "source": [
    "lr_results_df.head()"
   ]
  },
  {
   "cell_type": "code",
   "execution_count": 4,
   "id": "3aa8b9b7",
   "metadata": {},
   "outputs": [
    {
     "data": {
      "image/png": "[encoded data removed]",
      "text/plain": [
       "<Figure size 720x360 with 2 Axes>"
      ]
     },
     "metadata": {},
     "output_type": "display_data"
    }
   ],
   "source": [
    "#Visualize results\n",
    "g = sns.catplot(data = lr_results_df, x= 'Shuffled', y = 'f1_score', hue = 'Shuffled',\\\n",
    "            col = 'Type',kind = 'box', order = [True,False], col_order = ['Train','Test'])\n",
    "#Label axes and subpots\n",
    "for ax in g.axes[0]:\n",
    "    ax.set_xlabel('Shuffled Labels')\n",
    "g.axes[0][0].set_ylabel('F1 Score')\n",
    "g.axes[0][0].set_title('Training Data',fontweight = 'bold');\n",
    "g.axes[0][1].set_title('Test Data',fontweight = 'bold');"
   ]
  },
  {
   "cell_type": "code",
   "execution_count": 6,
   "id": "e90d2d4a",
   "metadata": {},
   "outputs": [
    {
     "data": {
      "text/html": [
       "<table border=\"1\" class=\"dataframe\">\n",
       "  <thead>\n",
       "    <tr style=\"text-align: right;\">\n",
       "      <th></th>\n",
       "      <th></th>\n",
       "      <th>f1_score</th>\n",
       "      <th>accuracy_score</th>\n",
       "    </tr>\n",
       "    <tr>\n",
       "      <th>Shuffled</th>\n",
       "      <th>Type</th>\n",
       "      <th></th>\n",
       "      <th></th>\n",
       "    </tr>\n",
       "  </thead>\n",
       "  <tbody>\n",
       "    <tr>\n",
       "      <th rowspan=\"2\" valign=\"top\">False</th>\n",
       "      <th>Test</th>\n",
       "      <td>0.570668</td>\n",
       "      <td>0.608724</td>\n",
       "    </tr>\n",
       "    <tr>\n",
       "      <th>Train</th>\n",
       "      <td>0.971873</td>\n",
       "      <td>0.971953</td>\n",
       "    </tr>\n",
       "    <tr>\n",
       "      <th rowspan=\"2\" valign=\"top\">True</th>\n",
       "      <th>Test</th>\n",
       "      <td>0.150774</td>\n",
       "      <td>0.179291</td>\n",
       "    </tr>\n",
       "    <tr>\n",
       "      <th>Train</th>\n",
       "      <td>0.457928</td>\n",
       "      <td>0.472893</td>\n",
       "    </tr>\n",
       "  </tbody>\n",
       "</table>"
      ],
      "text/plain": [
       "<IPython.core.display.HTML object>"
      ]
     },
     "metadata": {},
     "output_type": "display_data"
    }
   ],
   "source": [
    "# Load logistic regression across-subject data\n",
    "\n",
    "nsubjects = 36\n",
    "\n",
    "lr_xsubj_results_df = [] \n",
    "\n",
    "results_folder = '../results_data/single_subject_training/log_reg'\n",
    "for src_subject_id in range(1,nsubjects+1):\n",
    "    results_fn = 'subject_%02d_across_subject_results.h5'%(src_subject_id)\n",
    "    subject_df = pd.read_hdf(os.path.join(results_folder,results_fn), 'results_df')\n",
    "    lr_xsubj_results_df.append(subject_df)\n",
    "\n",
    "lr_xsubj_results_df = pd.concat(lr_xsubj_results_df,axis = 0)\n",
    "\n",
    "# Average over test subjects\n",
    "lr_xsubj_results_df = lr_xsubj_results_df.groupby(['Shuffled','Type','Train_Subject'],as_index = False)\\\n",
    ".mean()\\\n",
    ".drop(columns = ['Test_Subject','Rep'])\n",
    "\n",
    "# Output summary\n",
    "display(HTML(lr_xsubj_results_df.groupby(['Shuffled','Type']).mean().drop(columns = ['Train_Subject']).to_html()))"
   ]
  },
  {
   "cell_type": "code",
   "execution_count": 7,
   "id": "32d51eff",
   "metadata": {},
   "outputs": [
    {
     "data": {
      "image/png": "[encoded data removed]",
      "text/plain": [
       "<Figure size 720x360 with 2 Axes>"
      ]
     },
     "metadata": {},
     "output_type": "display_data"
    }
   ],
   "source": [
    "#Visualize results\n",
    "g = sns.catplot(data = lr_xsubj_results_df, x= 'Shuffled', y = 'f1_score', hue = 'Shuffled',\\\n",
    "            col = 'Type',kind = 'box', order = [True,False], col_order = ['Train','Test'])\n",
    "#Label axes and subpots\n",
    "for ax in g.axes[0]:\n",
    "    ax.set_xlabel('Shuffled Labels')\n",
    "g.axes[0][0].set_ylabel('F1 Score')\n",
    "g.axes[0][0].set_title('Training Data',fontweight = 'bold');\n",
    "g.axes[0][1].set_title('Test Data',fontweight = 'bold');"
   ]
  },
  {
   "cell_type": "code",
   "execution_count": null,
   "id": "0acecd3e",
   "metadata": {},
   "outputs": [],
   "source": []
  }
 ],
 "metadata": {
  "kernelspec": {
   "display_name": "Python 3",
   "language": "python",
   "name": "python3"
  },
  "language_info": {
   "codemirror_mode": {
    "name": "ipython",
    "version": 3
   },
   "file_extension": ".py",
   "mimetype": "text/x-python",
   "name": "python",
   "nbconvert_exporter": "python",
   "pygments_lexer": "ipython3",
   "version": "3.6.13"
  }
 },
 "nbformat": 4,
 "nbformat_minor": 5
}
